{
 "cells": [
  {
   "cell_type": "code",
   "execution_count": 1,
   "id": "cheap-perception",
   "metadata": {
    "tags": []
   },
   "outputs": [],
   "source": [
    "from bs4 import BeautifulSoup\n",
    "import os\n",
    "import re\n",
    "import csvtools\n",
    "import pandas as pd\n",
    "from nltk import word_tokenize\n",
    "import string\n",
    "import pymorphy2\n",
    "import bs4\n",
    "import collections\n",
    "from collections import Counter\n",
    "import nltk\n",
    "import nltk.tokenize.punkt\n",
    "from nltk.collocations import *\n",
    "import requests\n",
    "from datetime import datetime\n",
    "from prozhitotools import dump\n",
    "from tqdm.auto import tqdm\n",
    "import ipywidgets\n",
    "from sklearn.feature_extraction.text import TfidfVectorizer, CountVectorizer\n",
    "from sklearn.decomposition import NMF\n",
    "morph = pymorphy2.MorphAnalyzer()\n",
    "extended_punctuation = string.punctuation + '\\'\\'\" №~—»«..``’.--–“”―…\"''\" '\n",
    "from stop_words import get_stop_words\n",
    "stoplist = get_stop_words('ru') + ['среди', 'аа', 'некий', 'либо', 'видимо', 'итак', 'словно', 'наверное', 'возможно', '-й', '-х', 'например', 'что-нибудь', 'вместо', 'кто-то', 'несмотря', 'коли', 'безъ', 'нѣтъ', 'всѣхъ', 'поэтому', 'почему-то', 'ибо', 'из-за', 'можетъ', 'неужели', 'дѣть', 'намъ', 'оттого', 'чрез', 'вероятно', 'многий', 'ах', 'пред', 'пусть', 'нынче', 'б', 'дабы', 'чрезвычайно', 'разумеется', 'вовсе', 'кн', 'гр', 'св', '-го', 'кой', 'франц.', 'оный', 'сей', 'свой', 'едва', 'самый', 'го', 'мол', 'час', 'часы', 'ть', 'минута', 'метр', 'г.', 'ко', 'въ', 'съ', 'мнѣ', 'къ', 'какъ', 'отъ', 'такъ', 'ежели', 'себѣ', 'былъ', 'онъ', 'томъ', 'сие', 'нрзб', 'изъ', 'тѣмъ', 'ихъ', 'чѣмъ', 'всѣ'] + ['com', 'id', 'de', 'la', 'et', 'le', 'que', 'je', 'il', 'est', 'les', 'un']"
   ]
  },
  {
   "cell_type": "code",
   "execution_count": 2,
   "id": "changing-browse",
   "metadata": {},
   "outputs": [],
   "source": [
    "import sys\n",
    "import wheel"
   ]
  },
  {
   "cell_type": "markdown",
   "id": "matched-hughes",
   "metadata": {},
   "source": [
    "Загружаем дневниковые записи из дампа «Прожито» и таблицу с метаданными"
   ]
  },
  {
   "cell_type": "code",
   "execution_count": 3,
   "id": "ecological-duplicate",
   "metadata": {},
   "outputs": [],
   "source": [
    "dw = dump.Wrapper(csvpath='/Users/victoriavrbv/Documents/Diploma/prozhito-dump-1')"
   ]
  },
  {
   "cell_type": "code",
   "execution_count": 4,
   "id": "french-assessment",
   "metadata": {},
   "outputs": [],
   "source": [
    "authors_data = pd.read_csv('/Users/victoriavrbv/Documents/Diploma/Prozhito-people - person_data.csv')"
   ]
  },
  {
   "cell_type": "code",
   "execution_count": 5,
   "id": "absolute-beaver",
   "metadata": {},
   "outputs": [
    {
     "data": {
      "text/html": [
       "<div>\n",
       "<style scoped>\n",
       "    .dataframe tbody tr th:only-of-type {\n",
       "        vertical-align: middle;\n",
       "    }\n",
       "\n",
       "    .dataframe tbody tr th {\n",
       "        vertical-align: top;\n",
       "    }\n",
       "\n",
       "    .dataframe thead th {\n",
       "        text-align: right;\n",
       "    }\n",
       "</style>\n",
       "<table border=\"1\" class=\"dataframe\">\n",
       "  <thead>\n",
       "    <tr style=\"text-align: right;\">\n",
       "      <th></th>\n",
       "      <th>id</th>\n",
       "      <th>first_name</th>\n",
       "      <th>patronymic</th>\n",
       "      <th>family_name</th>\n",
       "      <th>gender</th>\n",
       "      <th>birth_date</th>\n",
       "      <th>death_date</th>\n",
       "      <th>edition</th>\n",
       "      <th>additional_info</th>\n",
       "      <th>from_natasha</th>\n",
       "      <th>from_tags</th>\n",
       "      <th>info</th>\n",
       "      <th>nickname</th>\n",
       "      <th>wiki</th>\n",
       "    </tr>\n",
       "  </thead>\n",
       "  <tbody>\n",
       "    <tr>\n",
       "      <th>0</th>\n",
       "      <td>3739</td>\n",
       "      <td>Чудинова</td>\n",
       "      <td>Александра</td>\n",
       "      <td>Дмитриевна</td>\n",
       "      <td>NaN</td>\n",
       "      <td>NaN</td>\n",
       "      <td>NaN</td>\n",
       "      <td>NaN</td>\n",
       "      <td>NaN</td>\n",
       "      <td>False</td>\n",
       "      <td>True</td>\n",
       "      <td>NaN</td>\n",
       "      <td>NaN</td>\n",
       "      <td>NaN</td>\n",
       "    </tr>\n",
       "    <tr>\n",
       "      <th>1</th>\n",
       "      <td>3740</td>\n",
       "      <td>Аборкин</td>\n",
       "      <td>Дмитрий</td>\n",
       "      <td>Георгиевич</td>\n",
       "      <td>NaN</td>\n",
       "      <td>NaN</td>\n",
       "      <td>NaN</td>\n",
       "      <td>NaN</td>\n",
       "      <td>NaN</td>\n",
       "      <td>False</td>\n",
       "      <td>True</td>\n",
       "      <td>NaN</td>\n",
       "      <td>NaN</td>\n",
       "      <td>NaN</td>\n",
       "    </tr>\n",
       "    <tr>\n",
       "      <th>2</th>\n",
       "      <td>3741</td>\n",
       "      <td>ТИХОНОВ</td>\n",
       "      <td>СЕРГЕЙ</td>\n",
       "      <td>Константинович</td>\n",
       "      <td>NaN</td>\n",
       "      <td>NaN</td>\n",
       "      <td>NaN</td>\n",
       "      <td>NaN</td>\n",
       "      <td>NaN</td>\n",
       "      <td>False</td>\n",
       "      <td>True</td>\n",
       "      <td>NaN</td>\n",
       "      <td>NaN</td>\n",
       "      <td>NaN</td>\n",
       "    </tr>\n",
       "    <tr>\n",
       "      <th>3</th>\n",
       "      <td>3742</td>\n",
       "      <td>Митрофанов</td>\n",
       "      <td>Владимир</td>\n",
       "      <td>Петрович</td>\n",
       "      <td>NaN</td>\n",
       "      <td>NaN</td>\n",
       "      <td>NaN</td>\n",
       "      <td>NaN</td>\n",
       "      <td>NaN</td>\n",
       "      <td>False</td>\n",
       "      <td>True</td>\n",
       "      <td>NaN</td>\n",
       "      <td>NaN</td>\n",
       "      <td>NaN</td>\n",
       "    </tr>\n",
       "    <tr>\n",
       "      <th>4</th>\n",
       "      <td>3743</td>\n",
       "      <td>Манский</td>\n",
       "      <td>Давыд</td>\n",
       "      <td>Моисеевич</td>\n",
       "      <td>NaN</td>\n",
       "      <td>NaN</td>\n",
       "      <td>NaN</td>\n",
       "      <td>NaN</td>\n",
       "      <td>NaN</td>\n",
       "      <td>False</td>\n",
       "      <td>True</td>\n",
       "      <td>NaN</td>\n",
       "      <td>NaN</td>\n",
       "      <td>NaN</td>\n",
       "    </tr>\n",
       "    <tr>\n",
       "      <th>...</th>\n",
       "      <td>...</td>\n",
       "      <td>...</td>\n",
       "      <td>...</td>\n",
       "      <td>...</td>\n",
       "      <td>...</td>\n",
       "      <td>...</td>\n",
       "      <td>...</td>\n",
       "      <td>...</td>\n",
       "      <td>...</td>\n",
       "      <td>...</td>\n",
       "      <td>...</td>\n",
       "      <td>...</td>\n",
       "      <td>...</td>\n",
       "      <td>...</td>\n",
       "    </tr>\n",
       "    <tr>\n",
       "      <th>28980</th>\n",
       "      <td>28808</td>\n",
       "      <td>с</td>\n",
       "      <td>.</td>\n",
       "      <td>найденов</td>\n",
       "      <td>NaN</td>\n",
       "      <td>NaN</td>\n",
       "      <td>NaN</td>\n",
       "      <td>NaN</td>\n",
       "      <td>NaN</td>\n",
       "      <td>True</td>\n",
       "      <td>False</td>\n",
       "      <td>NaN</td>\n",
       "      <td>NaN</td>\n",
       "      <td>NaN</td>\n",
       "    </tr>\n",
       "    <tr>\n",
       "      <th>28981</th>\n",
       "      <td>28874</td>\n",
       "      <td>Иоганна</td>\n",
       "      <td>Георга</td>\n",
       "      <td>Корба</td>\n",
       "      <td>NaN</td>\n",
       "      <td>NaN</td>\n",
       "      <td>NaN</td>\n",
       "      <td>NaN</td>\n",
       "      <td>NaN</td>\n",
       "      <td>True</td>\n",
       "      <td>False</td>\n",
       "      <td>NaN</td>\n",
       "      <td>NaN</td>\n",
       "      <td>NaN</td>\n",
       "    </tr>\n",
       "    <tr>\n",
       "      <th>28982</th>\n",
       "      <td>28809</td>\n",
       "      <td>л</td>\n",
       "      <td>.</td>\n",
       "      <td>авилова</td>\n",
       "      <td>NaN</td>\n",
       "      <td>NaN</td>\n",
       "      <td>NaN</td>\n",
       "      <td>NaN</td>\n",
       "      <td>NaN</td>\n",
       "      <td>True</td>\n",
       "      <td>False</td>\n",
       "      <td>NaN</td>\n",
       "      <td>NaN</td>\n",
       "      <td>NaN</td>\n",
       "    </tr>\n",
       "    <tr>\n",
       "      <th>28983</th>\n",
       "      <td>29003</td>\n",
       "      <td>де</td>\n",
       "      <td>-</td>\n",
       "      <td>жимель</td>\n",
       "      <td>NaN</td>\n",
       "      <td>NaN</td>\n",
       "      <td>NaN</td>\n",
       "      <td>NaN</td>\n",
       "      <td>NaN</td>\n",
       "      <td>True</td>\n",
       "      <td>False</td>\n",
       "      <td>NaN</td>\n",
       "      <td>NaN</td>\n",
       "      <td>NaN</td>\n",
       "    </tr>\n",
       "    <tr>\n",
       "      <th>28984</th>\n",
       "      <td>7</td>\n",
       "      <td>NaN</td>\n",
       "      <td>NaN</td>\n",
       "      <td>NaN</td>\n",
       "      <td>NaN</td>\n",
       "      <td>NaN</td>\n",
       "      <td>NaN</td>\n",
       "      <td>NaN</td>\n",
       "      <td>NaN</td>\n",
       "      <td>False</td>\n",
       "      <td>False</td>\n",
       "      <td>NaN</td>\n",
       "      <td>NaN</td>\n",
       "      <td>NaN</td>\n",
       "    </tr>\n",
       "  </tbody>\n",
       "</table>\n",
       "<p>28985 rows × 14 columns</p>\n",
       "</div>"
      ],
      "text/plain": [
       "          id  first_name  patronymic     family_name  gender birth_date  \\\n",
       "0       3739    Чудинова  Александра      Дмитриевна     NaN        NaN   \n",
       "1       3740     Аборкин     Дмитрий      Георгиевич     NaN        NaN   \n",
       "2       3741     ТИХОНОВ      СЕРГЕЙ  Константинович     NaN        NaN   \n",
       "3       3742  Митрофанов    Владимир        Петрович     NaN        NaN   \n",
       "4       3743     Манский       Давыд       Моисеевич     NaN        NaN   \n",
       "...      ...         ...         ...             ...     ...        ...   \n",
       "28980  28808           с           .        найденов     NaN        NaN   \n",
       "28981  28874     Иоганна      Георга           Корба     NaN        NaN   \n",
       "28982  28809           л           .         авилова     NaN        NaN   \n",
       "28983  29003          де           -          жимель     NaN        NaN   \n",
       "28984      7         NaN         NaN             NaN     NaN        NaN   \n",
       "\n",
       "      death_date edition additional_info  from_natasha  from_tags info  \\\n",
       "0            NaN     NaN             NaN         False       True  NaN   \n",
       "1            NaN     NaN             NaN         False       True  NaN   \n",
       "2            NaN     NaN             NaN         False       True  NaN   \n",
       "3            NaN     NaN             NaN         False       True  NaN   \n",
       "4            NaN     NaN             NaN         False       True  NaN   \n",
       "...          ...     ...             ...           ...        ...  ...   \n",
       "28980        NaN     NaN             NaN          True      False  NaN   \n",
       "28981        NaN     NaN             NaN          True      False  NaN   \n",
       "28982        NaN     NaN             NaN          True      False  NaN   \n",
       "28983        NaN     NaN             NaN          True      False  NaN   \n",
       "28984        NaN     NaN             NaN         False      False  NaN   \n",
       "\n",
       "      nickname wiki  \n",
       "0          NaN  NaN  \n",
       "1          NaN  NaN  \n",
       "2          NaN  NaN  \n",
       "3          NaN  NaN  \n",
       "4          NaN  NaN  \n",
       "...        ...  ...  \n",
       "28980      NaN  NaN  \n",
       "28981      NaN  NaN  \n",
       "28982      NaN  NaN  \n",
       "28983      NaN  NaN  \n",
       "28984      NaN  NaN  \n",
       "\n",
       "[28985 rows x 14 columns]"
      ]
     },
     "execution_count": 5,
     "metadata": {},
     "output_type": "execute_result"
    }
   ],
   "source": [
    "authors_data"
   ]
  },
  {
   "cell_type": "code",
   "execution_count": 6,
   "id": "global-native",
   "metadata": {
    "tags": []
   },
   "outputs": [
    {
     "data": {
      "text/plain": [
       "gender\n",
       "0.0     810\n",
       "1.0    2882\n",
       "Name: id, dtype: int64"
      ]
     },
     "execution_count": 6,
     "metadata": {},
     "output_type": "execute_result"
    }
   ],
   "source": [
    "#считаем сколько мужчин и женщин в базе\n",
    "authors_data.groupby('gender')['id'].nunique()"
   ]
  },
  {
   "cell_type": "markdown",
   "id": "comprehensive-netscape",
   "metadata": {},
   "source": [
    "Создаём нужные функции для предобработки данных"
   ]
  },
  {
   "cell_type": "code",
   "execution_count": 7,
   "id": "fatty-statement",
   "metadata": {},
   "outputs": [],
   "source": [
    "#функция для лемматизации\n",
    "def preprocess_text(some_text):\n",
    "    '''\n",
    "    берет обычный текст, возвращает лемматизированный\n",
    "    '''    \n",
    "    some_text = re.sub(r'\\[|\\]|\\\\|([0-9])|[a-zA-ZàâäôéèëêïîçùûüÿæœÀÂÄÔÉÈËÊÏÎŸÇÙÛÜÆŒ~]', '', str(some_text))\n",
    "    lemmatized_text = [morph.parse(word)[0].normal_form for word in word_tokenize(some_text.lower()) if\n",
    "                       morph.parse(word)[0].normal_form not in stoplist and morph.parse(word)[0].normal_form not in extended_punctuation]\n",
    "    return lemmatized_text"
   ]
  },
  {
   "cell_type": "code",
   "execution_count": 8,
   "id": "induced-worth",
   "metadata": {},
   "outputs": [],
   "source": [
    "stoplist2 = get_stop_words('ru') + ['фр', 'франц.', 'что', 'оный', 'сей', 'т.е', 'свой', 'едва', 'самый', 'го', 'мол', 'час', 'часы', 'ть', 'минута', 'метр', 'г.', 'ко', 'въ', 'съ', 'мнѣ', 'къ', 'какъ', 'отъ', 'такъ', 'ежели', 'себѣ', 'былъ', 'онъ', 'томъ', 'сие', 'нрзб', 'изъ', 'тѣмъ', 'ихъ', 'чѣмъ', 'всѣ'] + ['com', 'id', 'de', 'la', 'et', 'le', 'que', 'je', 'il', 'est', 'les', 'un']\n",
    "names_list = [\"владимир\", \"аля\", \"лёля\", \"ася\", \"ник\", \"никола\", \"юрий\", \"борис\", \"виктор\", \"андрей\", \"ирина\", \"варя\", \"валя\", \"анович\", \"шура\", \"боря\", \"шурочка\", \"леонид\", \"вера\", \"зуля\", \"зося\", \"михаилович\", \"николаевич\", \"наташа\", \"митя\", \"ляля\", \"иванович\", \"зина\", \"володя\", \"никита\", \"лена\", \"коля\", \"николай\", \"маруся\", \"лиза\", \"олег\", \"вася\", \"игорь\", \"георгий\", \"львович\", \"марина\", \"софья\", \"андреевич\", \"александр\", \"цветаев\", \"владимирович\", \"таня\", \"анна\", \"василиевич\", \"петрович\", \"сергей\", \"василиевич\", \"саша\", \"павлович\", \"маша\", \"миша\", \"константин\", \"пётр\", \"павел\", \"лена\", \"лев\", \"серёжа\", \"оля\", \"яковлевич\", \"нина\", \"шурик\", \"женя\", \"соня\", \"семён\", \"костя\"]\n",
    "def preprocess_text_for_topics(some_text):\n",
    "    '''\n",
    "    берет обычный текст, возвращает лемматизированный\n",
    "    '''    \n",
    "    some_text = re.sub(r'\\[|\\]|\\\\|([0-9])|[a-zA-ZàâäôéèëêïîçùûüÿæœÀÂÄÔÉÈËÊÏÎŸÇÙÛÜÆŒ~]', '', str(some_text))\n",
    "    lemmatized_text = [morph.parse(word)[0].normal_form for word in word_tokenize(some_text.lower()) if\n",
    "                       morph.parse(word)[0].normal_form not in stoplist2 and morph.parse(word)[0].normal_form not in extended_punctuation]\n",
    "    return lemmatized_text"
   ]
  },
  {
   "cell_type": "code",
   "execution_count": 4,
   "id": "color-pizza",
   "metadata": {},
   "outputs": [],
   "source": [
    "def flatten_list(_2d_list):\n",
    "    '''\n",
    "    берет вложенный список, возвращает плоский\n",
    "    '''\n",
    "    flat_list = []\n",
    "    # Iterate through the outer list\n",
    "    for element in _2d_list:\n",
    "        if type(element) is list:\n",
    "            # If the element is of type list, iterate through the sublist\n",
    "            for item in element:\n",
    "                flat_list.append(item)\n",
    "        else:\n",
    "            flat_list.append(element)\n",
    "    return flat_list"
   ]
  },
  {
   "cell_type": "code",
   "execution_count": 7,
   "id": "headed-catholic",
   "metadata": {},
   "outputs": [
    {
     "data": {
      "text/plain": [
       "384587"
      ]
     },
     "execution_count": 7,
     "metadata": {},
     "output_type": "execute_result"
    }
   ],
   "source": [
    "len(dw.notes)"
   ]
  },
  {
   "cell_type": "code",
   "execution_count": 153,
   "id": "collected-statistics",
   "metadata": {
    "tags": []
   },
   "outputs": [],
   "source": [
    "#отделяем записи 17-19 века\n",
    "war_records = []\n",
    "period = dw.notes[(1942, 1, 1) : (1945, 12, 31)]\n",
    "for item in period:\n",
    "    war_records.append(item.text)    "
   ]
  },
  {
   "cell_type": "code",
   "execution_count": 154,
   "id": "nasty-preview",
   "metadata": {},
   "outputs": [],
   "source": [
    "with open('one_more_war_records.txt', 'w') as f:\n",
    "    for item in war_records:\n",
    "        f.write(\"%s\\n\" % item)"
   ]
  },
  {
   "cell_type": "code",
   "execution_count": 3,
   "id": "surgical-parameter",
   "metadata": {},
   "outputs": [],
   "source": [
    "eight = dw.notes[(1701, 1, 1) : (1800, 12, 31)]"
   ]
  },
  {
   "cell_type": "code",
   "execution_count": 4,
   "id": "steady-joining",
   "metadata": {},
   "outputs": [
    {
     "data": {
      "text/plain": [
       "623"
      ]
     },
     "execution_count": 4,
     "metadata": {},
     "output_type": "execute_result"
    }
   ],
   "source": [
    "len(eight)"
   ]
  },
  {
   "cell_type": "code",
   "execution_count": 327,
   "id": "empirical-capital",
   "metadata": {},
   "outputs": [],
   "source": [
    "#отделяем записи 20 века\n",
    "twenty_cent = []\n",
    "twenty = dw.notes[(1960, 1, 1) : (1970, 12, 31)]\n",
    "#twenty_2 = dw.notes[(1948, 1, 1) : (1980, 12, 31)]\n",
    "for item in twenty:\n",
    "    twenty_cent.append(item.text) "
   ]
  },
  {
   "cell_type": "code",
   "execution_count": 25,
   "id": "polyphonic-translation",
   "metadata": {},
   "outputs": [],
   "source": [
    "#ищем самых популярных авторов периода\n",
    "authors4 = []\n",
    "records = dw.notes[(1948, 1, 1) : (1979, 12, 31)]\n",
    "for item in records:\n",
    "    authors4.append(item.author)"
   ]
  },
  {
   "cell_type": "code",
   "execution_count": 26,
   "id": "large-folder",
   "metadata": {},
   "outputs": [],
   "source": [
    "authors4 = list(Counter(authors4).most_common())\n",
    "authors_4 = pd.DataFrame(authors4)\n",
    "#authors_5.columns = [\"Author\", \"1\"]\n",
    "#len(authors_1[\"Author\"])"
   ]
  },
  {
   "cell_type": "code",
   "execution_count": 27,
   "id": "civilian-fusion",
   "metadata": {},
   "outputs": [
    {
     "data": {
      "text/html": [
       "<div>\n",
       "<style scoped>\n",
       "    .dataframe tbody tr th:only-of-type {\n",
       "        vertical-align: middle;\n",
       "    }\n",
       "\n",
       "    .dataframe tbody tr th {\n",
       "        vertical-align: top;\n",
       "    }\n",
       "\n",
       "    .dataframe thead th {\n",
       "        text-align: right;\n",
       "    }\n",
       "</style>\n",
       "<table border=\"1\" class=\"dataframe\">\n",
       "  <thead>\n",
       "    <tr style=\"text-align: right;\">\n",
       "      <th></th>\n",
       "      <th>0</th>\n",
       "      <th>1</th>\n",
       "    </tr>\n",
       "  </thead>\n",
       "  <tbody>\n",
       "    <tr>\n",
       "      <th>0</th>\n",
       "      <td>#318 Владимир Афанасьевич Швец</td>\n",
       "      <td>6295</td>\n",
       "    </tr>\n",
       "    <tr>\n",
       "      <th>1</th>\n",
       "      <td>#129 Михаил Яковлевич Гробман</td>\n",
       "      <td>3053</td>\n",
       "    </tr>\n",
       "    <tr>\n",
       "      <th>2</th>\n",
       "      <td>#671 Николай Алексеевич Соколов</td>\n",
       "      <td>2983</td>\n",
       "    </tr>\n",
       "    <tr>\n",
       "      <th>3</th>\n",
       "      <td>#386 Борис Иванович Вронский</td>\n",
       "      <td>2541</td>\n",
       "    </tr>\n",
       "    <tr>\n",
       "      <th>4</th>\n",
       "      <td>#2258 Олег Владимирович Амитров</td>\n",
       "      <td>2472</td>\n",
       "    </tr>\n",
       "    <tr>\n",
       "      <th>...</th>\n",
       "      <td>...</td>\n",
       "      <td>...</td>\n",
       "    </tr>\n",
       "    <tr>\n",
       "      <th>276</th>\n",
       "      <td>#354 Екатерина  Дмитриевна  Воейкова-Ильина</td>\n",
       "      <td>1</td>\n",
       "    </tr>\n",
       "    <tr>\n",
       "      <th>277</th>\n",
       "      <td>#663 Раиса  Ширинская</td>\n",
       "      <td>1</td>\n",
       "    </tr>\n",
       "    <tr>\n",
       "      <th>278</th>\n",
       "      <td>#525 Аркадий  Поздняков</td>\n",
       "      <td>1</td>\n",
       "    </tr>\n",
       "    <tr>\n",
       "      <th>279</th>\n",
       "      <td>#1794 Семён Борисович Ласкин</td>\n",
       "      <td>1</td>\n",
       "    </tr>\n",
       "    <tr>\n",
       "      <th>280</th>\n",
       "      <td>#2362 Семён Кузьмич Цвигун</td>\n",
       "      <td>1</td>\n",
       "    </tr>\n",
       "  </tbody>\n",
       "</table>\n",
       "<p>281 rows × 2 columns</p>\n",
       "</div>"
      ],
      "text/plain": [
       "                                               0     1\n",
       "0                 #318 Владимир Афанасьевич Швец  6295\n",
       "1                  #129 Михаил Яковлевич Гробман  3053\n",
       "2                #671 Николай Алексеевич Соколов  2983\n",
       "3                   #386 Борис Иванович Вронский  2541\n",
       "4                #2258 Олег Владимирович Амитров  2472\n",
       "..                                           ...   ...\n",
       "276  #354 Екатерина  Дмитриевна  Воейкова-Ильина     1\n",
       "277                        #663 Раиса  Ширинская     1\n",
       "278                      #525 Аркадий  Поздняков     1\n",
       "279                 #1794 Семён Борисович Ласкин     1\n",
       "280                   #2362 Семён Кузьмич Цвигун     1\n",
       "\n",
       "[281 rows x 2 columns]"
      ]
     },
     "execution_count": 27,
     "metadata": {},
     "output_type": "execute_result"
    }
   ],
   "source": [
    "authors_4"
   ]
  },
  {
   "cell_type": "code",
   "execution_count": 426,
   "id": "knowing-coupon",
   "metadata": {},
   "outputs": [],
   "source": [
    "#ищем записи определенных авторов\n",
    "amitrov_texts = []\n",
    "kozakov_texts = []\n",
    "shvets_texts = []\n",
    "grobman_texts = []\n",
    "sokolov_texts = []\n",
    "records = dw.notes[(1948, 1, 1) : (1979, 12, 31)]\n",
    "for item in records:\n",
    "    author_kozakov = re.search(r\"Николай Николаевич Козаков\", str(item.author))\n",
    "    author_amitrov = re.search(r\"Олег Владимирович Амитров\", str(item.author))\n",
    "    author_shvets = re.search(r\"Владимир Афанасьевич Швец\", str(item.author))\n",
    "    author_grobman = re.search(r\"Михаил Яковлевич Гробман\", str(item.author))\n",
    "    author_sokolov = re.search(r\"Николай Алексеевич Соколов\", str(item.author))\n",
    "    if author_kozakov:\n",
    "        kozakov_texts.append(item.text)\n",
    "    if author_amitrov:\n",
    "        amitrov_texts.append(item.text)\n",
    "    if author_shvets:\n",
    "        shvets_texts.append(item.text)\n",
    "    if author_grobman:\n",
    "        grobman_texts.append(item.text)\n",
    "    if author_sokolov:\n",
    "        sokolov_texts.append(item.text)"
   ]
  },
  {
   "cell_type": "code",
   "execution_count": 16,
   "id": "unable-supervisor",
   "metadata": {},
   "outputs": [],
   "source": [
    "#считаем общее количество записей в периоде\n",
    "period_1 = dw.notes[(1799, 1, 1) : (1898, 12, 31)]\n",
    "period_2 = dw.notes[(1899, 1, 1) : (1938, 12, 31)]\n",
    "period_3 = dw.notes[(1939, 1, 1) : (1947, 12, 31)]\n",
    "period_4 = dw.notes[(1948, 1, 1) : (1979, 12, 31)]\n",
    "period_5 = dw.notes[(1980, 1, 1) : (2017, 12, 31)]\n",
    "#period_6 = dw.notes[(1960, 1, 1) : (1979, 12, 31)]\n",
    "#period_7 = dw.notes[(1980, 1, 1) : (1998, 12, 31)]\n",
    "#period_8 = dw.notes[(1999, 1, 1) : (2017, 12, 31)]"
   ]
  },
  {
   "cell_type": "code",
   "execution_count": 17,
   "id": "bottom-organ",
   "metadata": {},
   "outputs": [],
   "source": [
    "diaries1_all = {}\n",
    "for i, diaries in enumerate(period_1):\n",
    "    diaries1_all[period_1[i].ID] = [period_1[i].text]"
   ]
  },
  {
   "cell_type": "code",
   "execution_count": 18,
   "id": "pretty-wisconsin",
   "metadata": {},
   "outputs": [],
   "source": [
    "diaries2_all = {}\n",
    "for i, diaries in enumerate(period_2):\n",
    "    diaries2_all[period_2[i].ID] = [period_2[i].text]\n",
    "diaries3_all = {}\n",
    "for i, diaries in enumerate(period_3):\n",
    "    diaries3_all[period_3[i].ID] = [period_3[i].text]\n",
    "diaries4_all = {}\n",
    "for i, diaries in enumerate(period_4):\n",
    "    diaries4_all[period_4[i].ID] = [period_4[i].text]\n",
    "diaries5_all = {}\n",
    "for i, diaries in enumerate(period_5):\n",
    "    diaries5_all[period_5[i].ID] = [period_5[i].text]"
   ]
  },
  {
   "cell_type": "code",
   "execution_count": 67,
   "id": "drawn-canal",
   "metadata": {},
   "outputs": [],
   "source": [
    "period = dw.notes[(1799, 1, 1) : (2017, 12, 31)]"
   ]
  },
  {
   "cell_type": "code",
   "execution_count": 146,
   "id": "classical-portal",
   "metadata": {},
   "outputs": [
    {
     "data": {
      "text/plain": [
       "53151"
      ]
     },
     "execution_count": 146,
     "metadata": {},
     "output_type": "execute_result"
    }
   ],
   "source": [
    "len(diaries5_all)"
   ]
  },
  {
   "cell_type": "code",
   "execution_count": 329,
   "id": "smoking-thing",
   "metadata": {},
   "outputs": [],
   "source": [
    "#считаем количество токенов в периоде \n",
    "period4_tokenized = []\n",
    "for item in twenty_cent:\n",
    "    tokens = word_tokenize(str(item))\n",
    "    for token in tokens:\n",
    "        if token not in extended_punctuation:\n",
    "            period4_tokenized.append(token)\n",
    "#len(period1_tokenized)"
   ]
  },
  {
   "cell_type": "code",
   "execution_count": 330,
   "id": "integrated-contrast",
   "metadata": {},
   "outputs": [
    {
     "data": {
      "text/plain": [
       "4304675"
      ]
     },
     "execution_count": 330,
     "metadata": {},
     "output_type": "execute_result"
    }
   ],
   "source": [
    "len(period4_tokenized)"
   ]
  },
  {
   "cell_type": "code",
   "execution_count": 24,
   "id": "orange-scanning",
   "metadata": {},
   "outputs": [],
   "source": [
    "with open('old_records.txt', 'w') as f:\n",
    "    for item in old_records:\n",
    "        f.write(\"%s\\n\" % item)"
   ]
  },
  {
   "cell_type": "markdown",
   "id": "wooden-intent",
   "metadata": {},
   "source": [
    "Собираем корпус записей с помощью регулярных выражений"
   ]
  },
  {
   "cell_type": "code",
   "execution_count": 5,
   "id": "serial-vegetarian",
   "metadata": {},
   "outputs": [],
   "source": [
    "diaries_dic = {}\n",
    "info = {}\n",
    "info_list = []\n",
    "meta_info = pd.DataFrame(columns = ['ID записи', 'Автор', 'ID дневника', 'Дата'])\n",
    "for i, diaries in enumerate(dw.notes):\n",
    "    if re.search(r\"я\\s([а-яё-]+?\\s)?влюб(ился|илась|лен(\\s|а|ный|ная))\", dw.notes[i].text.lower()):\n",
    "    #if re.search(r\"влюб(ленност.{1,2}|ился|илась|лен(\\s|а|ный|ная))\", dw.notes[i].text.lower()):\n",
    "        diaries_dic[dw.notes[i].ID] = [dw.notes[i].text]\n",
    "        try:\n",
    "            info = {\"ID\" : dw.notes[i].ID, \"Автор\" : dw.notes[i].author, \"ID дневника\" : dw.notes[i].diary_ID, \"Дата\" : dw.notes[i].date}\n",
    "        except KeyError:\n",
    "            info = {\"ID\" : dw.notes[i].ID, \"Автор\" : 0, \"ID дневника\" : dw.notes[i].diary_ID, \"Дата\" : dw.notes[i].date}\n",
    "        info_list.append(info) "
   ]
  },
  {
   "cell_type": "code",
   "execution_count": 6,
   "id": "different-consumer",
   "metadata": {},
   "outputs": [],
   "source": [
    "diaries_dic_again = {}\n",
    "for i, diaries in enumerate(dw.notes):\n",
    "    #if re.search(r\"(он|она|я)\\sизмени(л|ла)\\s\", dw.notes[i].text):\n",
    "    if re.search(r\"(я\\s([а-яё-]+?\\s)?разлюби(|л|ла))|(разлюби(л|ла|шь)\\sменя)\", dw.notes[i].text.lower()):\n",
    "        diaries_dic[dw.notes[i].ID] = [dw.notes[i].text]\n",
    "        try:\n",
    "            info = {\"ID\" : dw.notes[i].ID, \"Автор\" : dw.notes[i].author, \"ID дневника\" : dw.notes[i].diary_ID, \"Дата\" : dw.notes[i].date}\n",
    "        except KeyError:\n",
    "            info = {\"ID\" : dw.notes[i].ID, \"Автор\" : 0, \"ID дневника\" : dw.notes[i].diary_ID, \"Дата\" : dw.notes[i].date}\n",
    "        info_list.append(info)\n",
    "for i, diaries in enumerate(dw.notes):\n",
    "    if re.search(r\"(он|она|я|ты)\\sизмени(л|ла)\\s(мне)?\", dw.notes[i].text.lower()):\n",
    "    #if re.search(r\"разлюби(ть|л|ла)\", dw.notes[i].text):\n",
    "        diaries_dic[dw.notes[i].ID] = [dw.notes[i].text]\n",
    "        try:\n",
    "            info = {\"ID\" : dw.notes[i].ID, \"Автор\" : dw.notes[i].author, \"ID дневника\" : dw.notes[i].diary_ID, \"Дата\" : dw.notes[i].date}\n",
    "        except KeyError:\n",
    "            info = {\"ID\" : dw.notes[i].ID, \"Автор\" : 0, \"ID дневника\" : dw.notes[i].diary_ID, \"Дата\" : dw.notes[i].date}\n",
    "        info_list.append(info)\n",
    "for i, diaries in enumerate(dw.notes):\n",
    "    if re.search(r\"я\\s([а-яё-]+?\\s)?ревн(ую|овал|овала|ивый|ивая|ивец|ивица)\", dw.notes[i].text.lower()):\n",
    "    #if re.search(r\"разлюби(ть|л|ла)\", dw.notes[i].text):\n",
    "        diaries_dic[dw.notes[i].ID] = [dw.notes[i].text]\n",
    "        try:\n",
    "            info = {\"ID\" : dw.notes[i].ID, \"Автор\" : dw.notes[i].author, \"ID дневника\" : dw.notes[i].diary_ID, \"Дата\" : dw.notes[i].date}\n",
    "        except KeyError:\n",
    "            info = {\"ID\" : dw.notes[i].ID, \"Автор\" : 0, \"ID дневника\" : dw.notes[i].diary_ID, \"Дата\" : dw.notes[i].date}\n",
    "        info_list.append(info)"
   ]
  },
  {
   "cell_type": "code",
   "execution_count": 7,
   "id": "quick-context",
   "metadata": {},
   "outputs": [],
   "source": [
    "for i, diaries in enumerate(dw.notes):\n",
    "    if re.search(r\"ревн(овал|овала|уешь|ует)\\sменя\", dw.notes[i].text.lower()):\n",
    "    #if re.search(r\"разлюби(ть|л|ла)\", dw.notes[i].text):\n",
    "        diaries_dic[dw.notes[i].ID] = [dw.notes[i].text]\n",
    "        try:\n",
    "            info = {\"ID\" : dw.notes[i].ID, \"Автор\" : dw.notes[i].author, \"ID дневника\" : dw.notes[i].diary_ID, \"Дата\" : dw.notes[i].date}\n",
    "        except KeyError:\n",
    "            info = {\"ID\" : dw.notes[i].ID, \"Автор\" : 0, \"ID дневника\" : dw.notes[i].diary_ID, \"Дата\" : dw.notes[i].date}\n",
    "        info_list.append(info)"
   ]
  },
  {
   "cell_type": "code",
   "execution_count": 8,
   "id": "pediatric-bradley",
   "metadata": {},
   "outputs": [],
   "source": [
    "for i, diaries in enumerate(dw.notes):\n",
    "    if re.search(r\"(любо?в.{0,2}\\s(мо.{1,2}|наш.{1,2}|сво.{1,2}|его|её|ее|тво.{1,2}))|((мо.{1,2}|наш.{1,2}|сво.{1,2}|его|ее|её|тво.{1,2})\\sлюбо?в.{0,2})\", dw.notes[i].text.lower()):\n",
    "        diaries_dic[dw.notes[i].ID] = [dw.notes[i].text]\n",
    "        try:\n",
    "            info = {\"ID\" : dw.notes[i].ID, \"Автор\" : dw.notes[i].author, \"ID дневника\" : dw.notes[i].diary_ID, \"Дата\" : dw.notes[i].date}\n",
    "        except KeyError:\n",
    "            info = {\"ID\" : dw.notes[i].ID, \"Автор\" : 0, \"ID дневника\" : dw.notes[i].diary_ID, \"Дата\" : dw.notes[i].date}\n",
    "        info_list.append(info)\n",
    "        meta_info = pd.DataFrame(info_list)  "
   ]
  },
  {
   "cell_type": "code",
   "execution_count": 9,
   "id": "orange-korean",
   "metadata": {},
   "outputs": [],
   "source": [
    " for i, diaries in enumerate(dw.notes):\n",
    "    if re.search(r\"любим.{0,3}\\sм{2,4}|м{2,4}\\sлюбим.{0,3}|я\\sлюбим.{0,2}\", dw.notes[i].text.lower()):\n",
    "        diaries_dic[dw.notes[i].ID] = [dw.notes[i].text]\n",
    "        try:\n",
    "            info = {\"ID\" : dw.notes[i].ID, \"Автор\" : dw.notes[i].author, \"ID дневника\" : dw.notes[i].diary_ID, \"Дата\" : dw.notes[i].date}\n",
    "        except KeyError:\n",
    "            info = {\"ID\" : dw.notes[i].ID, \"Автор\" : 0, \"ID дневника\" : dw.notes[i].diary_ID, \"Дата\" : dw.notes[i].date}\n",
    "        info_list.append(info)\n",
    "        meta_info = pd.DataFrame(info_list)  "
   ]
  },
  {
   "cell_type": "code",
   "execution_count": 10,
   "id": "challenging-priest",
   "metadata": {},
   "outputs": [],
   "source": [
    "diaries_dic_again = {}\n",
    "for i, diaries in enumerate(dw.notes):\n",
    "    if re.search(r\"я\\s([а-яё-]+?\\s)?(по)?люб(лю|я|ив|ил|ила|)\\s(вас|ваш|тебя|твой|его|ее|её)\", dw.notes[i].text.lower()):\n",
    "        diaries_dic[dw.notes[i].ID] = [dw.notes[i].text]\n",
    "        try:\n",
    "            info = {\"ID\" : dw.notes[i].ID, \"Автор\" : dw.notes[i].author, \"ID дневника\" : dw.notes[i].diary_ID, \"Дата\" : dw.notes[i].date}\n",
    "        except KeyError:\n",
    "            info = {\"ID\" : dw.notes[i].ID, \"Автор\" : 0, \"ID дневника\" : dw.notes[i].diary_ID, \"Дата\" : dw.notes[i].date}\n",
    "        info_list.append(info)\n",
    "        meta_info = pd.DataFrame(info_list) "
   ]
  },
  {
   "cell_type": "code",
   "execution_count": 11,
   "id": "false-basket",
   "metadata": {},
   "outputs": [],
   "source": [
    "diaries_dic_again = {}\n",
    "for i, diaries in enumerate(dw.notes):\n",
    "    if re.search(r\"(ты|он|она)\\s(по|не\\s)?люб(ишь|я|ив|ил|ила|ит)\\sменя\", dw.notes[i].text.lower()):\n",
    "        diaries_dic[dw.notes[i].ID] = [dw.notes[i].text]\n",
    "        try:\n",
    "            info = {\"ID\" : dw.notes[i].ID, \"Автор\" : dw.notes[i].author, \"ID дневника\" : dw.notes[i].diary_ID, \"Дата\" : dw.notes[i].date}\n",
    "        except KeyError:\n",
    "            info = {\"ID\" : dw.notes[i].ID, \"Автор\" : 0, \"ID дневника\" : dw.notes[i].diary_ID, \"Дата\" : dw.notes[i].date}\n",
    "        info_list.append(info)\n",
    "        meta_info = pd.DataFrame(info_list)"
   ]
  },
  {
   "cell_type": "code",
   "execution_count": 12,
   "id": "worthy-mercy",
   "metadata": {},
   "outputs": [],
   "source": [
    "for i, diaries in enumerate(dw.notes):\n",
    "    if re.search(r\"я?\\s([а-яё-]+?\\s)?(вас|тебя|меня)\\s([а-яё,\\s-]+?)?(по)?люб(лю|я|ив|ил|ила|ишь)\", dw.notes[i].text.lower()):\n",
    "        diaries_dic[dw.notes[i].ID] = [dw.notes[i].text]\n",
    "        try:\n",
    "            info = {\"ID\" : dw.notes[i].ID, \"Автор\" : dw.notes[i].author, \"ID дневника\" : dw.notes[i].diary_ID, \"Дата\" : dw.notes[i].date}\n",
    "        except KeyError:\n",
    "            info = {\"ID\" : dw.notes[i].ID, \"Автор\" : 0, \"ID дневника\" : dw.notes[i].diary_ID, \"Дата\" : dw.notes[i].date}\n",
    "        info_list.append(info)\n",
    "        meta_info = pd.DataFrame(info_list) "
   ]
  },
  {
   "cell_type": "code",
   "execution_count": 13,
   "id": "serious-guard",
   "metadata": {},
   "outputs": [],
   "source": [
    "diaries_dic_again = {}\n",
    "diaries_dic_more = {}\n",
    "for i, diaries in enumerate(dw.notes):\n",
    "    #if re.search(r\"поцел(овал|овала|уй)\\sменя\", dw.notes[i].text.lower()):\n",
    "    if re.search(r\"перв.{1,3}поцелу.{1,3}\", dw.notes[i].text.lower()):\n",
    "        diaries_dic[dw.notes[i].ID] = [dw.notes[i].text]\n",
    "    #if re.search(r\"настоящ.{2,3}\\sлюбо?в{1,2}\", dw.notes[i].text.lower()):\n",
    "    #    diaries_dic_more[dw.notes[i].ID] = [dw.notes[i].text]\n",
    "        try:\n",
    "            info = {\"ID\" : dw.notes[i].ID, \"Автор\" : dw.notes[i].author, \"ID дневника\" : dw.notes[i].diary_ID, \"Дата\" : dw.notes[i].date}\n",
    "        except KeyError:\n",
    "            info = {\"ID\" : dw.notes[i].ID, \"Автор\" : 0, \"ID дневника\" : dw.notes[i].diary_ID, \"Дата\" : dw.notes[i].date}\n",
    "        info_list.append(info)\n",
    "        meta_info = pd.DataFrame(info_list) "
   ]
  },
  {
   "cell_type": "code",
   "execution_count": 14,
   "id": "imperial-original",
   "metadata": {},
   "outputs": [],
   "source": [
    "diaries_dic_again = {}\n",
    "for i, diaries in enumerate(dw.notes):\n",
    "    if re.search(r\"(призна(лся|лась)\\s(мне\\sв\\sлюбви|в\\sлюбви\\sмне))|(признани.{1,2}\\sв\\sлюбви)\", dw.notes[i].text.lower()):\n",
    "        diaries_dic[dw.notes[i].ID] = [dw.notes[i].text]\n",
    "        try:\n",
    "            info = {\"ID\" : dw.notes[i].ID, \"Автор\" : dw.notes[i].author, \"ID дневника\" : dw.notes[i].diary_ID, \"Дата\" : dw.notes[i].date}\n",
    "        except KeyError:\n",
    "            info = {\"ID\" : dw.notes[i].ID, \"Автор\" : 0, \"ID дневника\" : dw.notes[i].diary_ID, \"Дата\" : dw.notes[i].date}\n",
    "        info_list.append(info)\n",
    "        meta_info = pd.DataFrame(info_list) "
   ]
  },
  {
   "cell_type": "code",
   "execution_count": 15,
   "id": "detected-mobility",
   "metadata": {},
   "outputs": [],
   "source": [
    "for i, diaries in enumerate(dw.notes):\n",
    "    if re.search(r\"(мо.{1,3}\\sволокитств.{1,2})|(волочи(лся|ться)\\sза\\sмной)|(я\\s([а-яё-]+?\\s)?волочи(лся|ться))\", dw.notes[i].text.lower()):\n",
    "        diaries_dic[dw.notes[i].ID] = [dw.notes[i].text]\n",
    "        try:\n",
    "            info = {\"ID\" : dw.notes[i].ID, \"Автор\" : dw.notes[i].author, \"ID дневника\" : dw.notes[i].diary_ID, \"Дата\" : dw.notes[i].date}\n",
    "        except KeyError:\n",
    "            info = {\"ID\" : dw.notes[i].ID, \"Автор\" : 0, \"ID дневника\" : dw.notes[i].diary_ID, \"Дата\" : dw.notes[i].date}\n",
    "        info_list.append(info)\n",
    "        meta_info = pd.DataFrame(info_list) "
   ]
  },
  {
   "cell_type": "code",
   "execution_count": 16,
   "id": "utility-location",
   "metadata": {},
   "outputs": [],
   "source": [
    "diaries_dic_again = {}\n",
    "diaries_dic_more = {}\n",
    "for i, diaries in enumerate(dw.notes):\n",
    "    if re.search(r\"любим.{2,3}\\s([а-яё-]+?\\s)?человек.{0,2}\", dw.notes[i].text.lower()):\n",
    "        diaries_dic[dw.notes[i].ID] = [dw.notes[i].text]\n",
    "        try:\n",
    "            info = {\"ID\" : dw.notes[i].ID, \"Автор\" : dw.notes[i].author, \"ID дневника\" : dw.notes[i].diary_ID, \"Дата\" : dw.notes[i].date}\n",
    "        except KeyError:\n",
    "            info = {\"ID\" : dw.notes[i].ID, \"Автор\" : 0, \"ID дневника\" : dw.notes[i].diary_ID, \"Дата\" : dw.notes[i].date}\n",
    "        info_list.append(info)\n",
    "        meta_info = pd.DataFrame(info_list) "
   ]
  },
  {
   "cell_type": "code",
   "execution_count": 17,
   "id": "built-niagara",
   "metadata": {},
   "outputs": [
    {
     "data": {
      "text/plain": [
       "6283"
      ]
     },
     "execution_count": 17,
     "metadata": {},
     "output_type": "execute_result"
    }
   ],
   "source": [
    "len(diaries_dic)"
   ]
  },
  {
   "cell_type": "code",
   "execution_count": 154,
   "id": "capital-calvin",
   "metadata": {},
   "outputs": [],
   "source": [
    "#отбираем записи 20 века\n",
    "twenty_cent = []\n",
    "for item in diaries_dic.items():\n",
    "    if re.search(\"\\(19\\d{2},\\s\\d{1,2},\\s\\d{1,2}\\)\", str(item[0])):\n",
    "    #if key.startswith('(1910'):\n",
    "        twenty_cent.append(item)\n",
    "#[key for key, value in diaries_dic if key.startswith('(1910')]"
   ]
  },
  {
   "cell_type": "code",
   "execution_count": 254,
   "id": "boolean-private",
   "metadata": {},
   "outputs": [],
   "source": [
    "#results"
   ]
  },
  {
   "cell_type": "code",
   "execution_count": 23,
   "id": "negative-attack",
   "metadata": {},
   "outputs": [
    {
     "data": {
      "text/html": [
       "<div>\n",
       "<style scoped>\n",
       "    .dataframe tbody tr th:only-of-type {\n",
       "        vertical-align: middle;\n",
       "    }\n",
       "\n",
       "    .dataframe tbody tr th {\n",
       "        vertical-align: top;\n",
       "    }\n",
       "\n",
       "    .dataframe thead th {\n",
       "        text-align: right;\n",
       "    }\n",
       "</style>\n",
       "<table border=\"1\" class=\"dataframe\">\n",
       "  <thead>\n",
       "    <tr style=\"text-align: right;\">\n",
       "      <th></th>\n",
       "      <th>ID</th>\n",
       "      <th>Автор</th>\n",
       "      <th>ID дневника</th>\n",
       "      <th>Дата</th>\n",
       "    </tr>\n",
       "  </thead>\n",
       "  <tbody>\n",
       "    <tr>\n",
       "      <th>1480</th>\n",
       "      <td>1471</td>\n",
       "      <td>0</td>\n",
       "      <td>2</td>\n",
       "      <td>(1917, 2, 14)</td>\n",
       "    </tr>\n",
       "    <tr>\n",
       "      <th>4291</th>\n",
       "      <td>1471</td>\n",
       "      <td>0</td>\n",
       "      <td>2</td>\n",
       "      <td>(1917, 2, 14)</td>\n",
       "    </tr>\n",
       "    <tr>\n",
       "      <th>84</th>\n",
       "      <td>2404</td>\n",
       "      <td>#13 Александр Александрович Блок</td>\n",
       "      <td>10</td>\n",
       "      <td>(1911, 12, 1)</td>\n",
       "    </tr>\n",
       "    <tr>\n",
       "      <th>5652</th>\n",
       "      <td>2404</td>\n",
       "      <td>#13 Александр Александрович Блок</td>\n",
       "      <td>10</td>\n",
       "      <td>(1911, 12, 1)</td>\n",
       "    </tr>\n",
       "    <tr>\n",
       "      <th>118</th>\n",
       "      <td>2869</td>\n",
       "      <td>#13 Александр Александрович Блок</td>\n",
       "      <td>10</td>\n",
       "      <td>(1920, 11, 7)</td>\n",
       "    </tr>\n",
       "    <tr>\n",
       "      <th>...</th>\n",
       "      <td>...</td>\n",
       "      <td>...</td>\n",
       "      <td>...</td>\n",
       "      <td>...</td>\n",
       "    </tr>\n",
       "    <tr>\n",
       "      <th>6947</th>\n",
       "      <td>467461</td>\n",
       "      <td>#1478    Нелли</td>\n",
       "      <td>1488</td>\n",
       "      <td>(1917, 9, 25)</td>\n",
       "    </tr>\n",
       "    <tr>\n",
       "      <th>1725</th>\n",
       "      <td>468335</td>\n",
       "      <td>#3334 Ольга Ивановна Баранова</td>\n",
       "      <td>3344</td>\n",
       "      <td>(1923, 1, 21)</td>\n",
       "    </tr>\n",
       "    <tr>\n",
       "      <th>5835</th>\n",
       "      <td>468335</td>\n",
       "      <td>#3334 Ольга Ивановна Баранова</td>\n",
       "      <td>3344</td>\n",
       "      <td>(1923, 1, 21)</td>\n",
       "    </tr>\n",
       "    <tr>\n",
       "      <th>199</th>\n",
       "      <td>468933</td>\n",
       "      <td>#3477 Эра Гансовна Мундецем</td>\n",
       "      <td>3487</td>\n",
       "      <td>(1944, 6, 8)</td>\n",
       "    </tr>\n",
       "    <tr>\n",
       "      <th>6827</th>\n",
       "      <td>468933</td>\n",
       "      <td>#3477 Эра Гансовна Мундецем</td>\n",
       "      <td>3487</td>\n",
       "      <td>(1944, 6, 8)</td>\n",
       "    </tr>\n",
       "  </tbody>\n",
       "</table>\n",
       "<p>1572 rows × 4 columns</p>\n",
       "</div>"
      ],
      "text/plain": [
       "          ID                             Автор  ID дневника           Дата\n",
       "1480    1471                                 0            2  (1917, 2, 14)\n",
       "4291    1471                                 0            2  (1917, 2, 14)\n",
       "84      2404  #13 Александр Александрович Блок           10  (1911, 12, 1)\n",
       "5652    2404  #13 Александр Александрович Блок           10  (1911, 12, 1)\n",
       "118     2869  #13 Александр Александрович Блок           10  (1920, 11, 7)\n",
       "...      ...                               ...          ...            ...\n",
       "6947  467461                    #1478    Нелли         1488  (1917, 9, 25)\n",
       "1725  468335    #3334 Ольга Ивановна Баранова          3344  (1923, 1, 21)\n",
       "5835  468335    #3334 Ольга Ивановна Баранова          3344  (1923, 1, 21)\n",
       "199   468933       #3477 Эра Гансовна Мундецем         3487   (1944, 6, 8)\n",
       "6827  468933       #3477 Эра Гансовна Мундецем         3487   (1944, 6, 8)\n",
       "\n",
       "[1572 rows x 4 columns]"
      ]
     },
     "execution_count": 23,
     "metadata": {},
     "output_type": "execute_result"
    }
   ],
   "source": [
    "#ищем повторяющиеся записи в метаданных\n",
    "pd.concat(g for _, g in meta_info.groupby(\"ID\") if len(g) > 1)"
   ]
  },
  {
   "cell_type": "code",
   "execution_count": 18,
   "id": "reasonable-albania",
   "metadata": {},
   "outputs": [
    {
     "data": {
      "text/html": [
       "<div>\n",
       "<style scoped>\n",
       "    .dataframe tbody tr th:only-of-type {\n",
       "        vertical-align: middle;\n",
       "    }\n",
       "\n",
       "    .dataframe tbody tr th {\n",
       "        vertical-align: top;\n",
       "    }\n",
       "\n",
       "    .dataframe thead th {\n",
       "        text-align: right;\n",
       "    }\n",
       "</style>\n",
       "<table border=\"1\" class=\"dataframe\">\n",
       "  <thead>\n",
       "    <tr style=\"text-align: right;\">\n",
       "      <th></th>\n",
       "      <th>ID</th>\n",
       "      <th>Автор</th>\n",
       "      <th>ID дневника</th>\n",
       "      <th>Дата</th>\n",
       "    </tr>\n",
       "  </thead>\n",
       "  <tbody>\n",
       "    <tr>\n",
       "      <th>0</th>\n",
       "      <td>140292</td>\n",
       "      <td>#507 Степан Петрович Жихарев</td>\n",
       "      <td>515</td>\n",
       "      <td>(1805, 7, 20)</td>\n",
       "    </tr>\n",
       "    <tr>\n",
       "      <th>1</th>\n",
       "      <td>444870</td>\n",
       "      <td>#719 Николай Дмитриевич Дурново</td>\n",
       "      <td>729</td>\n",
       "      <td>(1812, 1, 22)</td>\n",
       "    </tr>\n",
       "    <tr>\n",
       "      <th>2</th>\n",
       "      <td>178659</td>\n",
       "      <td>#763 Анна Алексеевна Андро</td>\n",
       "      <td>773</td>\n",
       "      <td>(1828, 10, 6)</td>\n",
       "    </tr>\n",
       "    <tr>\n",
       "      <th>3</th>\n",
       "      <td>171755</td>\n",
       "      <td>#706 Алексей Николаевич Вульф</td>\n",
       "      <td>716</td>\n",
       "      <td>(1831, 2, 10)</td>\n",
       "    </tr>\n",
       "    <tr>\n",
       "      <th>4</th>\n",
       "      <td>442455</td>\n",
       "      <td>#790 Дарья Фёдоровна Фикельмон</td>\n",
       "      <td>800</td>\n",
       "      <td>(1831, 7, 5)</td>\n",
       "    </tr>\n",
       "    <tr>\n",
       "      <th>...</th>\n",
       "      <td>...</td>\n",
       "      <td>...</td>\n",
       "      <td>...</td>\n",
       "      <td>...</td>\n",
       "    </tr>\n",
       "    <tr>\n",
       "      <th>7136</th>\n",
       "      <td>435616</td>\n",
       "      <td>#1949 Юрий Михайлович Кублановский</td>\n",
       "      <td>1959</td>\n",
       "      <td>(2010, 3, 14)</td>\n",
       "    </tr>\n",
       "    <tr>\n",
       "      <th>7137</th>\n",
       "      <td>394573</td>\n",
       "      <td>#2338 Ирина Львовна Шолохова</td>\n",
       "      <td>2348</td>\n",
       "      <td>(2011, 1, 3)</td>\n",
       "    </tr>\n",
       "    <tr>\n",
       "      <th>7139</th>\n",
       "      <td>394581</td>\n",
       "      <td>#2338 Ирина Львовна Шолохова</td>\n",
       "      <td>2348</td>\n",
       "      <td>(2012, 12, 2)</td>\n",
       "    </tr>\n",
       "    <tr>\n",
       "      <th>7140</th>\n",
       "      <td>394582</td>\n",
       "      <td>#2338 Ирина Львовна Шолохова</td>\n",
       "      <td>2348</td>\n",
       "      <td>(2012, 12, 29)</td>\n",
       "    </tr>\n",
       "    <tr>\n",
       "      <th>7142</th>\n",
       "      <td>364873</td>\n",
       "      <td>#981 Галина Г. Ларская</td>\n",
       "      <td>991</td>\n",
       "      <td>(2017, 1, 27)</td>\n",
       "    </tr>\n",
       "  </tbody>\n",
       "</table>\n",
       "<p>6283 rows × 4 columns</p>\n",
       "</div>"
      ],
      "text/plain": [
       "          ID                               Автор  ID дневника            Дата\n",
       "0     140292        #507 Степан Петрович Жихарев          515   (1805, 7, 20)\n",
       "1     444870     #719 Николай Дмитриевич Дурново          729   (1812, 1, 22)\n",
       "2     178659          #763 Анна Алексеевна Андро          773   (1828, 10, 6)\n",
       "3     171755       #706 Алексей Николаевич Вульф          716   (1831, 2, 10)\n",
       "4     442455      #790 Дарья Фёдоровна Фикельмон          800    (1831, 7, 5)\n",
       "...      ...                                 ...          ...             ...\n",
       "7136  435616  #1949 Юрий Михайлович Кублановский         1959   (2010, 3, 14)\n",
       "7137  394573        #2338 Ирина Львовна Шолохова         2348    (2011, 1, 3)\n",
       "7139  394581        #2338 Ирина Львовна Шолохова         2348   (2012, 12, 2)\n",
       "7140  394582        #2338 Ирина Львовна Шолохова         2348  (2012, 12, 29)\n",
       "7142  364873              #981 Галина Г. Ларская          991   (2017, 1, 27)\n",
       "\n",
       "[6283 rows x 4 columns]"
      ]
     },
     "execution_count": 18,
     "metadata": {},
     "output_type": "execute_result"
    }
   ],
   "source": [
    "#убираем их\n",
    "meta_info_cleaned = meta_info.drop_duplicates(subset=['ID'])\n",
    "meta_info_cleaned"
   ]
  },
  {
   "cell_type": "code",
   "execution_count": 19,
   "id": "complicated-regard",
   "metadata": {},
   "outputs": [
    {
     "name": "stdout",
     "output_type": "stream",
     "text": [
      "<class 'pandas.core.frame.DataFrame'>\n",
      "Int64Index: 6283 entries, 0 to 7142\n",
      "Data columns (total 4 columns):\n",
      " #   Column       Non-Null Count  Dtype         \n",
      "---  ------       --------------  -----         \n",
      " 0   ID           6283 non-null   int64         \n",
      " 1   Автор        6280 non-null   object        \n",
      " 2   ID дневника  6283 non-null   int64         \n",
      " 3   Дата         6283 non-null   datetime64[ns]\n",
      "dtypes: datetime64[ns](1), int64(2), object(1)\n",
      "memory usage: 245.4+ KB\n"
     ]
    },
    {
     "name": "stderr",
     "output_type": "stream",
     "text": [
      "/var/folders/3s/by9v925x5xd0hsnplvbq6j040000gp/T/ipykernel_25144/2614964356.py:5: SettingWithCopyWarning: \n",
      "A value is trying to be set on a copy of a slice from a DataFrame.\n",
      "Try using .loc[row_indexer,col_indexer] = value instead\n",
      "\n",
      "See the caveats in the documentation: https://pandas.pydata.org/pandas-docs/stable/user_guide/indexing.html#returning-a-view-versus-a-copy\n",
      "  meta_info_cleaned['Дата'] = pd.to_datetime(meta_info_cleaned['Дата'], format='(%Y, %m, %d)')\n"
     ]
    }
   ],
   "source": [
    "#превращаем дату в datetime object\n",
    "#meta_info_cleaned.info()\n",
    "#meta_info_cleaned['Автор']= meta_info_cleaned['Автор'].astype(str)\n",
    "#meta_info_cleaned['Дата']= meta_info_cleaned['Дата'].astype('datetime64[ns]')\n",
    "meta_info_cleaned['Дата'] = pd.to_datetime(meta_info_cleaned['Дата'], format='(%Y, %m, %d)')\n",
    "meta_info_cleaned.info()"
   ]
  },
  {
   "cell_type": "code",
   "execution_count": 86,
   "id": "subjective-johnson",
   "metadata": {},
   "outputs": [],
   "source": [
    "#meta_1 771 запись -- 46107 записей всего\n",
    "#meta_2 1437 записей -- 79599 записей всего\n",
    "#meta_3 805 записей -- 50995 записей всего\n",
    "#meta_4 1186 записей -- 68083 записей всего\n",
    "#meta_5 468 записей -- 31066 записей всего\n",
    "#meta_6 635 записей -- 47007 записей всего\n",
    "#meta_7 747 записи -- 40143 записей всего\n",
    "#meta_8 356 записей -- 13008 записей всего"
   ]
  },
  {
   "cell_type": "code",
   "execution_count": 20,
   "id": "casual-contributor",
   "metadata": {},
   "outputs": [],
   "source": [
    "#отбираем записи определенного периода\n",
    "meta_1 = meta_info_cleaned[(meta_info_cleaned['Дата'] > '1798-12-31') & (meta_info_cleaned['Дата'] <= '1898-12-31')]\n",
    "meta_2 = meta_info_cleaned[(meta_info_cleaned['Дата'] > '1898-12-31') & (meta_info_cleaned['Дата'] <= '1938-12-31')]\n",
    "meta_3 = meta_info_cleaned[(meta_info_cleaned['Дата'] > '1938-12-31') & (meta_info_cleaned['Дата'] <= '1947-12-31')]\n",
    "meta_4 = meta_info_cleaned[(meta_info_cleaned['Дата'] > '1947-12-31') & (meta_info_cleaned['Дата'] <= '1979-12-31')]\n",
    "meta_5 = meta_info_cleaned[(meta_info_cleaned['Дата'] > '1979-12-31') & (meta_info_cleaned['Дата'] <= '2017-12-31')]"
   ]
  },
  {
   "cell_type": "code",
   "execution_count": 622,
   "id": "level-violence",
   "metadata": {},
   "outputs": [
    {
     "data": {
      "text/plain": [
       "1017"
      ]
     },
     "execution_count": 622,
     "metadata": {},
     "output_type": "execute_result"
    }
   ],
   "source": [
    "#len(meta_1) #818 записи -- 50467 записей всего 0.016\n",
    "#len(meta_2) #2207 записи -- 130594 записей всего 0.017\n",
    "#len(meta_3) #1301 записей -- 73111 записей всего 0.018\n",
    "#len(meta_4) #936 записи -- 73045 записей всего 0.013\n",
    "#len(meta_5) #1017 записи -- 53151 записей всего 0.019"
   ]
  },
  {
   "cell_type": "code",
   "execution_count": 21,
   "id": "fitted-amber",
   "metadata": {},
   "outputs": [],
   "source": [
    "#отбираем ID записей определенного периода\n",
    "period1_ids = []\n",
    "period2_ids = []\n",
    "period3_ids = []\n",
    "period4_ids = []\n",
    "period5_ids = []\n",
    "for item in meta_1[\"ID\"]:\n",
    "    period1_ids.append(item)\n",
    "for item in meta_2[\"ID\"]:\n",
    "    period2_ids.append(item)\n",
    "for item in meta_3[\"ID\"]:\n",
    "    period3_ids.append(item)\n",
    "for item in meta_4[\"ID\"]:\n",
    "    period4_ids.append(item)\n",
    "for item in meta_5[\"ID\"]:\n",
    "    period5_ids.append(item)"
   ]
  },
  {
   "cell_type": "code",
   "execution_count": 22,
   "id": "sexual-brazil",
   "metadata": {},
   "outputs": [],
   "source": [
    "#собираем записи разных периодов в списки\n",
    "period1_records = []\n",
    "period2_records = []\n",
    "period3_records = []\n",
    "period4_records = []\n",
    "period5_records = []\n",
    "for item in diaries_dic.items():\n",
    "    for x in period1_ids:\n",
    "        if item[0] == x:\n",
    "            period1_records.append(item[1])\n",
    "    for x in period2_ids:\n",
    "        if item[0] == x:\n",
    "            period2_records.append(item[1])\n",
    "    for x in period3_ids:\n",
    "        if item[0] == x:\n",
    "            period3_records.append(item[1])\n",
    "    for x in period4_ids:\n",
    "        if item[0] == x:\n",
    "            period4_records.append(item[1])\n",
    "    for x in period5_ids:\n",
    "        if item[0] == x:\n",
    "            period5_records.append(item[1])"
   ]
  },
  {
   "cell_type": "code",
   "execution_count": 23,
   "id": "charitable-illustration",
   "metadata": {},
   "outputs": [
    {
     "ename": "NameError",
     "evalue": "name 'diaries5_all' is not defined",
     "output_type": "error",
     "traceback": [
      "\u001b[0;31m---------------------------------------------------------------------------\u001b[0m",
      "\u001b[0;31mNameError\u001b[0m                                 Traceback (most recent call last)",
      "Input \u001b[0;32mIn [23]\u001b[0m, in \u001b[0;36m<cell line: 6>\u001b[0;34m()\u001b[0m\n\u001b[1;32m      4\u001b[0m records2_all \u001b[38;5;241m=\u001b[39m []\n\u001b[1;32m      5\u001b[0m records1_all \u001b[38;5;241m=\u001b[39m []\n\u001b[0;32m----> 6\u001b[0m \u001b[38;5;28;01mfor\u001b[39;00m item \u001b[38;5;129;01min\u001b[39;00m \u001b[43mdiaries5_all\u001b[49m\u001b[38;5;241m.\u001b[39mitems():\n\u001b[1;32m      7\u001b[0m     records5_all\u001b[38;5;241m.\u001b[39mappend(item[\u001b[38;5;241m1\u001b[39m])\n\u001b[1;32m      8\u001b[0m \u001b[38;5;28;01mfor\u001b[39;00m item \u001b[38;5;129;01min\u001b[39;00m diaries4_all\u001b[38;5;241m.\u001b[39mitems():\n",
      "\u001b[0;31mNameError\u001b[0m: name 'diaries5_all' is not defined"
     ]
    }
   ],
   "source": [
    "records5_all = []\n",
    "records4_all = []\n",
    "records3_all = []\n",
    "records2_all = []\n",
    "records1_all = []\n",
    "for item in diaries5_all.items():\n",
    "    records5_all.append(item[1])\n",
    "for item in diaries4_all.items():\n",
    "    records4_all.append(item[1])\n",
    "for item in diaries3_all.items():\n",
    "    records3_all.append(item[1])\n",
    "for item in diaries2_all.items():\n",
    "    records2_all.append(item[1])\n",
    "for item in diaries1_all.items():\n",
    "    records1_all.append(item[1])"
   ]
  },
  {
   "cell_type": "code",
   "execution_count": 24,
   "id": "failing-merchant",
   "metadata": {},
   "outputs": [
    {
     "data": {
      "text/plain": [
       "936"
      ]
     },
     "execution_count": 24,
     "metadata": {},
     "output_type": "execute_result"
    }
   ],
   "source": [
    "len(period4_records)"
   ]
  },
  {
   "cell_type": "code",
   "execution_count": 24,
   "id": "variable-necklace",
   "metadata": {},
   "outputs": [
    {
     "data": {
      "text/plain": [
       "818"
      ]
     },
     "execution_count": 24,
     "metadata": {},
     "output_type": "execute_result"
    }
   ],
   "source": [
    "len(period1_records)"
   ]
  },
  {
   "cell_type": "markdown",
   "id": "floating-rugby",
   "metadata": {},
   "source": [
    "Выделяем коллокации по частотности и по t-score"
   ]
  },
  {
   "cell_type": "code",
   "execution_count": 25,
   "id": "wooden-indication",
   "metadata": {},
   "outputs": [],
   "source": [
    "def preprocessed_text(some_text):\n",
    "    some_text = re.sub(r'\\[|\\]|([0-9]|\\.\\.\\.|\\\\\\\\\\—)|[a-zA-ZàâäôéèëêïîçùûüÿæœÀÂÄÔÉÈËÊÏÎŸÇÙÛÜÆŒ]', '', str(some_text))\n",
    "    lemmatized_text = [morph.parse(word)[0].normal_form for word in word_tokenize(some_text.lower()) if\n",
    "                       morph.parse(word)[0].normal_form not in stoplist and morph.parse(word)[0].normal_form not in \n",
    "                       extended_punctuation]\n",
    "    return ' '.join(lemmatized_text)"
   ]
  },
  {
   "cell_type": "code",
   "execution_count": 32,
   "id": "legitimate-action",
   "metadata": {},
   "outputs": [],
   "source": [
    "def get_keywords_bigrams_tf_idf(texts, num_keywords):\n",
    "    \"\"\"\n",
    "    берет список не лемматизированных текстов в виде строк\n",
    "    и количество ключевых слов для извлечения,\n",
    "    возвращает в качестве ключевых слов слова и биграммы, \n",
    "    отобранные методом TF-IDF\n",
    "    \"\"\"\n",
    "    keywords = []\n",
    "    make_tf_idf = TfidfVectorizer(stop_words=stoplist, ngram_range=(1, 2))\n",
    "    texts_as_tfidf_vectors = make_tf_idf.fit_transform(preprocessed_text(text) for text in texts)\n",
    "    id2word = {i : word for i, word in enumerate(make_tf_idf.get_feature_names())} \n",
    "    for text_row in range(texts_as_tfidf_vectors.shape[0]): \n",
    "        row_data = texts_as_tfidf_vectors.getrow(text_row) \n",
    "        words_for_this_text = row_data.toarray().argsort() \n",
    "        top_words_for_this_text = words_for_this_text [0, : -(num_keywords + 1) : -1] \n",
    "        keywords_for_this_text = [id2word[w] for w in top_words_for_this_text]\n",
    "        keywords.append(keywords_for_this_text)\n",
    "    return keywords"
   ]
  },
  {
   "cell_type": "code",
   "execution_count": 21,
   "id": "crude-visibility",
   "metadata": {},
   "outputs": [],
   "source": [
    "records5_all_flat = flatten_list(records5_all)\n",
    "records4_all_flat = flatten_list(records4_all)\n",
    "records3_all_flat = flatten_list(records3_all)\n",
    "records2_all_flat = flatten_list(records2_all)\n",
    "records1_all_flat = flatten_list(records1_all)"
   ]
  },
  {
   "cell_type": "code",
   "execution_count": 11,
   "id": "hollow-criminal",
   "metadata": {},
   "outputs": [],
   "source": [
    "with open('period1_records_flat.txt', 'w') as p1:\n",
    "    for item in records1_all_flat:\n",
    "        p1.write(\"%s\\n\" % item)\n",
    "with open('period2_records_flat.txt', 'w') as p2:\n",
    "    for item in records2_all_flat:\n",
    "        p2.write(\"%s\\n\" % item)\n",
    "with open('period3_records_flat.txt', 'w') as p3:\n",
    "    for item in records3_all_flat:\n",
    "        p3.write(\"%s\\n\" % item)\n",
    "with open('period4_records_flat.txt', 'w') as p4:\n",
    "    for item in records4_all_flat:\n",
    "        p4.write(\"%s\\n\" % item)\n",
    "with open('period5_records_flat.txt', 'w') as p5:\n",
    "    for item in records5_all_flat:\n",
    "        p5.write(\"%s\\n\" % item)"
   ]
  },
  {
   "cell_type": "code",
   "execution_count": 26,
   "id": "resident-atlantic",
   "metadata": {},
   "outputs": [],
   "source": [
    "period1_records_flat = flatten_list(period1_records)\n",
    "period2_records_flat = flatten_list(period2_records)"
   ]
  },
  {
   "cell_type": "code",
   "execution_count": 27,
   "id": "changing-longitude",
   "metadata": {},
   "outputs": [],
   "source": [
    "period3_records_flat = flatten_list(period3_records)\n",
    "period4_records_flat = flatten_list(period4_records)\n",
    "period5_records_flat = flatten_list(period5_records)"
   ]
  },
  {
   "cell_type": "code",
   "execution_count": 32,
   "id": "dietary-reality",
   "metadata": {},
   "outputs": [],
   "source": [
    "#for text_keywords in get_keywords_bigrams_tf_idf(period1_records_flat, 10):\n",
    "#    print(text_keywords)"
   ]
  },
  {
   "cell_type": "code",
   "execution_count": 73,
   "id": "dirty-cotton",
   "metadata": {},
   "outputs": [],
   "source": [
    "period_list = []\n",
    "for i, diaries in enumerate(period):\n",
    "    period_list.append(period[i].text)"
   ]
  },
  {
   "cell_type": "code",
   "execution_count": 77,
   "id": "similar-waste",
   "metadata": {},
   "outputs": [],
   "source": [
    "period_flat = flatten_list(period_list)"
   ]
  },
  {
   "cell_type": "code",
   "execution_count": null,
   "id": "anticipated-former",
   "metadata": {},
   "outputs": [],
   "source": [
    "period_preprocessed = preprocessed_text(period_flat)"
   ]
  },
  {
   "cell_type": "code",
   "execution_count": 71,
   "id": "awful-travel",
   "metadata": {},
   "outputs": [
    {
     "data": {
      "text/plain": [
       "[ #178009 \"Когда родился, не...\" @851 [1799-9-16] ,\n",
       "  #466857 \"Первое дорожное неудовольствие,...\" @2100 [1802-2-1] ,\n",
       "  #466858 \"Рига [...] Рига...\" @2100 [1802-2-4] ,\n",
       "  ... ,\n",
       "  #395794 \"Утро. Вчера вечером...\" @2378 [2017-12-22] ]"
      ]
     },
     "execution_count": 71,
     "metadata": {},
     "output_type": "execute_result"
    }
   ],
   "source": [
    "period"
   ]
  },
  {
   "cell_type": "code",
   "execution_count": 30,
   "id": "honest-consortium",
   "metadata": {},
   "outputs": [],
   "source": [
    "period1_preprocessed_flat = preprocessed_text(period1_records_flat)"
   ]
  },
  {
   "cell_type": "code",
   "execution_count": 28,
   "id": "unexpected-faith",
   "metadata": {},
   "outputs": [],
   "source": [
    "period1_preprocessed_flat = preprocessed_text(period1_records_flat)\n",
    "period2_preprocessed_flat = preprocessed_text(period2_records_flat)\n",
    "period3_preprocessed_flat = preprocessed_text(period3_records_flat)\n",
    "period4_preprocessed_flat = preprocessed_text(period4_records_flat)\n",
    "period5_preprocessed_flat = preprocessed_text(period5_records_flat)"
   ]
  },
  {
   "cell_type": "code",
   "execution_count": null,
   "id": "interested-colors",
   "metadata": {},
   "outputs": [],
   "source": [
    "records2_all_flat_prep = preprocessed_text(records2_all_flat)"
   ]
  },
  {
   "cell_type": "code",
   "execution_count": null,
   "id": "entitled-exercise",
   "metadata": {},
   "outputs": [],
   "source": [
    "records5_all_flat_prep = preprocessed_text(records5_all_flat)\n",
    "records4_all_flat_prep = preprocessed_text(records4_all_flat)\n",
    "records3_all_flat_prep = preprocessed_text(records3_all_flat)\n",
    "records2_all_flat_prep = preprocessed_text(records2_all_flat)\n",
    "records1_all_flat_prep = preprocessed_text(records1_all_flat)"
   ]
  },
  {
   "cell_type": "code",
   "execution_count": null,
   "id": "trained-jonathan",
   "metadata": {},
   "outputs": [],
   "source": [
    "type(records5_all_flat_prep)"
   ]
  },
  {
   "cell_type": "code",
   "execution_count": 29,
   "id": "perfect-floor",
   "metadata": {},
   "outputs": [],
   "source": [
    "def collocater(text, number):\n",
    "    '''функция, которая выдаёт самые частотные коллокации по убыванию'''\n",
    "    tokens = nltk.wordpunct_tokenize(text)\n",
    "    tokens_without_punkt = [token for token in tokens if token not in extended_punctuation and stoplist]\n",
    "    word_prozhito = nltk.FreqDist(tokens_without_punkt)\n",
    "    bigram_prozhito = nltk.FreqDist(nltk.bigrams(tokens_without_punkt))\n",
    "    finder_prozhito = BigramCollocationFinder(word_prozhito, bigram_prozhito)\n",
    "    finder_prozhito.apply_word_filter(lambda w: len(w) < 3 or w.lower() in stoplist)\n",
    "    finder_prozhito = sorted(finder_prozhito.ngram_fd.items(), key=lambda t: (-t[1], t[0]))\n",
    "    finder_prozhito = finder_prozhito[:number]\n",
    "    return finder_prozhito"
   ]
  },
  {
   "cell_type": "code",
   "execution_count": 30,
   "id": "different-tower",
   "metadata": {},
   "outputs": [],
   "source": [
    "def collocater_without_limits(text):\n",
    "    '''функция, которая выдаёт самые частотные коллокации по убыванию без ограничения по количеству'''\n",
    "    tokens = nltk.wordpunct_tokenize(text)\n",
    "    tokens_without_punkt = [token for token in tokens if token not in extended_punctuation and stoplist]\n",
    "    word_prozhito = nltk.FreqDist(tokens_without_punkt)\n",
    "    bigram_prozhito = nltk.FreqDist(nltk.bigrams(tokens_without_punkt))\n",
    "    finder_prozhito = BigramCollocationFinder(word_prozhito, bigram_prozhito)\n",
    "    finder_prozhito.apply_word_filter(lambda w: len(w) < 3 or w.lower() in stoplist)\n",
    "    finder_prozhito = sorted(finder_prozhito.ngram_fd.items(), key=lambda t: (-t[1], t[0]))\n",
    "    return finder_prozhito"
   ]
  },
  {
   "cell_type": "code",
   "execution_count": 278,
   "id": "surrounded-remainder",
   "metadata": {},
   "outputs": [],
   "source": [
    "collocations1 = collocater(period1_preprocessed_flat, 300)"
   ]
  },
  {
   "cell_type": "code",
   "execution_count": 279,
   "id": "cordless-transport",
   "metadata": {},
   "outputs": [],
   "source": [
    "collocations2 = collocater(period2_preprocessed_flat, 300)\n",
    "collocations3 = collocater(period3_preprocessed_flat, 300)\n",
    "collocations4 = collocater(period4_preprocessed_flat, 300)\n",
    "collocations5 = collocater(period5_preprocessed_flat, 300)"
   ]
  },
  {
   "cell_type": "code",
   "execution_count": 31,
   "id": "headed-quick",
   "metadata": {},
   "outputs": [],
   "source": [
    "collocations1_2 = collocater_without_limits(period1_preprocessed_flat)"
   ]
  },
  {
   "cell_type": "code",
   "execution_count": 78,
   "id": "hindu-transformation",
   "metadata": {},
   "outputs": [
    {
     "name": "stdout",
     "output_type": "stream",
     "text": [
      "0.0000603494\n"
     ]
    }
   ],
   "source": [
    "print('{0:.10f}'.format(12 / collocations1_overall))"
   ]
  },
  {
   "cell_type": "code",
   "execution_count": 36,
   "id": "exotic-batman",
   "metadata": {},
   "outputs": [],
   "source": [
    "collocations1_overall = len(collocations1_2)"
   ]
  },
  {
   "cell_type": "code",
   "execution_count": 41,
   "id": "agricultural-stick",
   "metadata": {},
   "outputs": [
    {
     "name": "stdout",
     "output_type": "stream",
     "text": [
      "198842\n",
      "458423\n",
      "261210\n",
      "180495\n",
      "194800\n"
     ]
    }
   ],
   "source": [
    "print(collocations1_overall)\n",
    "print(collocations2_overall)\n",
    "print(collocations3_overall)\n",
    "print(collocations4_overall)\n",
    "print(collocations5_overall)"
   ]
  },
  {
   "cell_type": "code",
   "execution_count": 32,
   "id": "arranged-primary",
   "metadata": {},
   "outputs": [],
   "source": [
    "collocations2_2 = collocater_without_limits(period2_preprocessed_flat)\n",
    "collocations2_overall = len(collocations2_2)\n",
    "collocations3_2 = collocater_without_limits(period3_preprocessed_flat)\n",
    "collocations3_overall = len(collocations3_2)\n",
    "collocations4_2 = collocater_without_limits(period4_preprocessed_flat)\n",
    "collocations4_overall = len(collocations4_2)\n",
    "collocations5_2 = collocater_without_limits(period5_preprocessed_flat)\n",
    "collocations5_overall = len(collocations5_2)"
   ]
  },
  {
   "cell_type": "code",
   "execution_count": 90,
   "id": "waiting-ballot",
   "metadata": {},
   "outputs": [
    {
     "name": "stdout",
     "output_type": "stream",
     "text": [
      "(('любимый', 'девушка'), 10)\n"
     ]
    }
   ],
   "source": [
    "for item in collocations3_2:\n",
    "    for element in item:\n",
    "        #if element  == ('сердце', 'биться') or element  == ('биться', 'сердце') or element  == ('говорить', 'любовь') or element  == ('взять', 'рука'):\n",
    "        if element  == ('любимый', 'девушка'):\n",
    "            print(item)"
   ]
  },
  {
   "cell_type": "code",
   "execution_count": 92,
   "id": "comfortable-water",
   "metadata": {},
   "outputs": [
    {
     "name": "stdout",
     "output_type": "stream",
     "text": [
      "0.0000382834\n"
     ]
    }
   ],
   "source": [
    "print('{0:.10f}'.format((10) / collocations3_overall))"
   ]
  },
  {
   "cell_type": "code",
   "execution_count": 280,
   "id": "collective-match",
   "metadata": {},
   "outputs": [],
   "source": [
    "collocations1_df = pd.DataFrame(collocations1, columns=['collocation', 'frequency'])"
   ]
  },
  {
   "cell_type": "code",
   "execution_count": 281,
   "id": "outer-zoning",
   "metadata": {},
   "outputs": [
    {
     "data": {
      "text/html": [
       "<div>\n",
       "<style scoped>\n",
       "    .dataframe tbody tr th:only-of-type {\n",
       "        vertical-align: middle;\n",
       "    }\n",
       "\n",
       "    .dataframe tbody tr th {\n",
       "        vertical-align: top;\n",
       "    }\n",
       "\n",
       "    .dataframe thead th {\n",
       "        text-align: right;\n",
       "    }\n",
       "</style>\n",
       "<table border=\"1\" class=\"dataframe\">\n",
       "  <thead>\n",
       "    <tr style=\"text-align: right;\">\n",
       "      <th></th>\n",
       "      <th>collocation</th>\n",
       "      <th>frequency</th>\n",
       "    </tr>\n",
       "  </thead>\n",
       "  <tbody>\n",
       "  </tbody>\n",
       "</table>\n",
       "</div>"
      ],
      "text/plain": [
       "Empty DataFrame\n",
       "Columns: [collocation, frequency]\n",
       "Index: []"
      ]
     },
     "execution_count": 281,
     "metadata": {},
     "output_type": "execute_result"
    }
   ],
   "source": [
    "collocations1_df.loc[(collocations1_df['collocation'] == '(..., ...)')]"
   ]
  },
  {
   "cell_type": "code",
   "execution_count": 283,
   "id": "impressed-tissue",
   "metadata": {},
   "outputs": [],
   "source": [
    "collocations1_df = collocations1_df.assign(period = 'XIX век')"
   ]
  },
  {
   "cell_type": "code",
   "execution_count": 284,
   "id": "scientific-france",
   "metadata": {},
   "outputs": [],
   "source": [
    "collocations2_df = pd.DataFrame(collocations2, columns=['collocation', 'frequency'])\n",
    "collocations2_df = collocations2_df.assign(period = '1899-1938')\n",
    "collocations3_df = pd.DataFrame(collocations3, columns=['collocation', 'frequency'])\n",
    "collocations3_df = collocations3_df.assign(period = '1939-1947')\n",
    "collocations4_df = pd.DataFrame(collocations4, columns=['collocation', 'frequency'])\n",
    "collocations4_df = collocations4_df.assign(period = '1948-1979')\n",
    "collocations5_df = pd.DataFrame(collocations5, columns=['collocation', 'frequency'])\n",
    "collocations5_df = collocations5_df.assign(period = '1980-2017')"
   ]
  },
  {
   "cell_type": "code",
   "execution_count": 285,
   "id": "sensitive-division",
   "metadata": {},
   "outputs": [],
   "source": [
    "df_collocations = pd.concat([collocations1_df, collocations2_df, collocations3_df, collocations4_df, collocations5_df], ignore_index=True)"
   ]
  },
  {
   "cell_type": "code",
   "execution_count": 286,
   "id": "steady-sellers",
   "metadata": {},
   "outputs": [],
   "source": [
    "pip = df_collocations.pivot(index = 'collocation', columns='period', values='frequency')"
   ]
  },
  {
   "cell_type": "code",
   "execution_count": 287,
   "id": "pursuant-channel",
   "metadata": {},
   "outputs": [],
   "source": [
    "pip['XIX век'] = pip['XIX век'] / collocations1_overall\n",
    "pip['1899-1938'] = pip['1899-1938'] / collocations2_overall\n",
    "pip['1939-1947'] = pip['1939-1947'] / collocations3_overall\n",
    "pip['1948-1979'] = pip['1948-1979'] / collocations4_overall\n",
    "pip['1980-2017'] = pip['1980-2017'] / collocations5_overall"
   ]
  },
  {
   "cell_type": "code",
   "execution_count": 288,
   "id": "regular-crime",
   "metadata": {},
   "outputs": [
    {
     "data": {
      "text/html": [
       "<div>\n",
       "<style scoped>\n",
       "    .dataframe tbody tr th:only-of-type {\n",
       "        vertical-align: middle;\n",
       "    }\n",
       "\n",
       "    .dataframe tbody tr th {\n",
       "        vertical-align: top;\n",
       "    }\n",
       "\n",
       "    .dataframe thead th {\n",
       "        text-align: right;\n",
       "    }\n",
       "</style>\n",
       "<table border=\"1\" class=\"dataframe\">\n",
       "  <thead>\n",
       "    <tr style=\"text-align: right;\">\n",
       "      <th>period</th>\n",
       "      <th>1899-1938</th>\n",
       "      <th>1939-1947</th>\n",
       "      <th>1948-1979</th>\n",
       "      <th>1980-2017</th>\n",
       "      <th>XIX век</th>\n",
       "    </tr>\n",
       "    <tr>\n",
       "      <th>collocation</th>\n",
       "      <th></th>\n",
       "      <th></th>\n",
       "      <th></th>\n",
       "      <th></th>\n",
       "      <th></th>\n",
       "    </tr>\n",
       "  </thead>\n",
       "  <tbody>\n",
       "    <tr>\n",
       "      <th>(абрам, яковлевич)</th>\n",
       "      <td>NaN</td>\n",
       "      <td>NaN</td>\n",
       "      <td>0.000044</td>\n",
       "      <td>NaN</td>\n",
       "      <td>NaN</td>\n",
       "    </tr>\n",
       "    <tr>\n",
       "      <th>(автор, книга)</th>\n",
       "      <td>NaN</td>\n",
       "      <td>NaN</td>\n",
       "      <td>NaN</td>\n",
       "      <td>0.000036</td>\n",
       "      <td>NaN</td>\n",
       "    </tr>\n",
       "    <tr>\n",
       "      <th>(авторский, право)</th>\n",
       "      <td>NaN</td>\n",
       "      <td>NaN</td>\n",
       "      <td>NaN</td>\n",
       "      <td>0.000036</td>\n",
       "      <td>NaN</td>\n",
       "    </tr>\n",
       "    <tr>\n",
       "      <th>(академия, наука)</th>\n",
       "      <td>NaN</td>\n",
       "      <td>0.000092</td>\n",
       "      <td>0.000061</td>\n",
       "      <td>NaN</td>\n",
       "      <td>NaN</td>\n",
       "    </tr>\n",
       "    <tr>\n",
       "      <th>(актовый, зал)</th>\n",
       "      <td>NaN</td>\n",
       "      <td>NaN</td>\n",
       "      <td>0.000033</td>\n",
       "      <td>NaN</td>\n",
       "      <td>NaN</td>\n",
       "    </tr>\n",
       "    <tr>\n",
       "      <th>...</th>\n",
       "      <td>...</td>\n",
       "      <td>...</td>\n",
       "      <td>...</td>\n",
       "      <td>...</td>\n",
       "      <td>...</td>\n",
       "    </tr>\n",
       "    <tr>\n",
       "      <th>(шао, цзя)</th>\n",
       "      <td>NaN</td>\n",
       "      <td>0.000084</td>\n",
       "      <td>NaN</td>\n",
       "      <td>NaN</td>\n",
       "      <td>NaN</td>\n",
       "    </tr>\n",
       "    <tr>\n",
       "      <th>(эмма, лида)</th>\n",
       "      <td>NaN</td>\n",
       "      <td>0.000050</td>\n",
       "      <td>NaN</td>\n",
       "      <td>NaN</td>\n",
       "      <td>NaN</td>\n",
       "    </tr>\n",
       "    <tr>\n",
       "      <th>(юрий, гагарин)</th>\n",
       "      <td>NaN</td>\n",
       "      <td>NaN</td>\n",
       "      <td>0.000039</td>\n",
       "      <td>NaN</td>\n",
       "      <td>NaN</td>\n",
       "    </tr>\n",
       "    <tr>\n",
       "      <th>(юрий, любимов)</th>\n",
       "      <td>NaN</td>\n",
       "      <td>NaN</td>\n",
       "      <td>NaN</td>\n",
       "      <td>0.000067</td>\n",
       "      <td>NaN</td>\n",
       "    </tr>\n",
       "    <tr>\n",
       "      <th>(ясный, поляна)</th>\n",
       "      <td>0.000044</td>\n",
       "      <td>NaN</td>\n",
       "      <td>NaN</td>\n",
       "      <td>NaN</td>\n",
       "      <td>0.000045</td>\n",
       "    </tr>\n",
       "  </tbody>\n",
       "</table>\n",
       "<p>927 rows × 5 columns</p>\n",
       "</div>"
      ],
      "text/plain": [
       "period              1899-1938  1939-1947  1948-1979  1980-2017   XIX век\n",
       "collocation                                                             \n",
       "(абрам, яковлевич)        NaN        NaN   0.000044        NaN       NaN\n",
       "(автор, книга)            NaN        NaN        NaN   0.000036       NaN\n",
       "(авторский, право)        NaN        NaN        NaN   0.000036       NaN\n",
       "(академия, наука)         NaN   0.000092   0.000061        NaN       NaN\n",
       "(актовый, зал)            NaN        NaN   0.000033        NaN       NaN\n",
       "...                       ...        ...        ...        ...       ...\n",
       "(шао, цзя)                NaN   0.000084        NaN        NaN       NaN\n",
       "(эмма, лида)              NaN   0.000050        NaN        NaN       NaN\n",
       "(юрий, гагарин)           NaN        NaN   0.000039        NaN       NaN\n",
       "(юрий, любимов)           NaN        NaN        NaN   0.000067       NaN\n",
       "(ясный, поляна)      0.000044        NaN        NaN        NaN  0.000045\n",
       "\n",
       "[927 rows x 5 columns]"
      ]
     },
     "execution_count": 288,
     "metadata": {},
     "output_type": "execute_result"
    }
   ],
   "source": [
    "pip"
   ]
  },
  {
   "cell_type": "code",
   "execution_count": 289,
   "id": "uniform-carolina",
   "metadata": {},
   "outputs": [],
   "source": [
    "import os  \n",
    "os.makedirs('/Users/victoriavrbv/Documents/Diploma', exist_ok=True)  \n",
    "pip.to_csv('/Users/victoriavrbv/Documents/Diploma/pip.csv')  "
   ]
  },
  {
   "cell_type": "code",
   "execution_count": 114,
   "id": "senior-enzyme",
   "metadata": {},
   "outputs": [],
   "source": [
    "collocation_list = []\n",
    "for item in period1_preprocessed:\n",
    "    collocation_list.append(collocater(item, 100))"
   ]
  },
  {
   "cell_type": "code",
   "execution_count": 116,
   "id": "under-delta",
   "metadata": {},
   "outputs": [],
   "source": [
    "colloc_for_years_prozhito_100 = {}\n",
    "for item in period1_preprocessed:\n",
    "    colloc_for_years_prozhito_100[key] = collocater(item, 100)"
   ]
  },
  {
   "cell_type": "code",
   "execution_count": 117,
   "id": "proved-england",
   "metadata": {},
   "outputs": [
    {
     "data": {
      "text/plain": [
       "{('„', 'Алые'): [(('александр', 'михаилович'), 1),\n",
       "  (('безусловно', 'решить'), 1),\n",
       "  (('бесчестный', 'александр'), 1),\n",
       "  (('боль', 'глубокий'), 1),\n",
       "  (('больной', 'вчера'), 1),\n",
       "  (('больший', 'реальность'), 1),\n",
       "  (('вновь', 'страшно'), 1),\n",
       "  (('водка', 'сильно'), 1),\n",
       "  (('волноваться', 'подождать'), 1),\n",
       "  (('вопрос', 'подходить'), 1),\n",
       "  (('вчера', 'выпить'), 1),\n",
       "  (('вчера', 'земляческий'), 1),\n",
       "  (('выпить', 'водка'), 1),\n",
       "  (('глубокий', 'спокойствие'), 1),\n",
       "  (('говорить', 'вчера'), 1),\n",
       "  (('горячо', 'любимый'), 1),\n",
       "  (('господин', '...'), 1),\n",
       "  (('готовиться', 'дурной'), 1),\n",
       "  (('грустно', 'счастливый'), 1),\n",
       "  (('дело', 'избавить'), 1),\n",
       "  (('должный', 'сбыться'), 1),\n",
       "  (('дом', 'полный'), 1),\n",
       "  (('достаточно', 'фраза'), 1),\n",
       "  (('думать', 'волноваться'), 1),\n",
       "  (('думать', 'самоубийство'), 1),\n",
       "  (('думать', 'удивиться'), 1),\n",
       "  (('дурной', 'прийти'), 1),\n",
       "  (('ждать', 'письмо'), 1),\n",
       "  (('замирать', 'готовиться'), 1),\n",
       "  (('здравый', 'спокойно'), 1),\n",
       "  (('земляк', 'думать'), 1),\n",
       "  (('земляческий', 'собрание'), 1),\n",
       "  (('избавить', 'смерть'), 1),\n",
       "  (('извне', 'таков'), 1),\n",
       "  (('интеллигенция', 'отношение'), 1),\n",
       "  (('казаться', 'свет'), 1),\n",
       "  (('лечь', 'спать'), 1),\n",
       "  (('любимый', 'опоздать'), 1),\n",
       "  (('любовь', 'счастие'), 1),\n",
       "  (('мысль', 'револьвер'), 1),\n",
       "  (('настолько', 'безусловно'), 1),\n",
       "  (('невероятный', 'мысль'), 1),\n",
       "  (('невозможно', 'особо'), 1),\n",
       "  (('недоумевать', 'промолчать'), 1),\n",
       "  (('неосуществимый', 'приобретать'), 1),\n",
       "  (('несчастный', 'бесчестный'), 1),\n",
       "  (('ночь', 'письмо'), 1),\n",
       "  (('оживление', 'роль'), 1),\n",
       "  (('опоздать', 'поезд'), 1),\n",
       "  (('основание', 'предполагать'), 1),\n",
       "  (('особо', 'уважительный'), 1),\n",
       "  (('ответить', 'должный'), 1),\n",
       "  (('ответить', 'тотчас'), 1),\n",
       "  (('отношение', 'рабочий'), 1),\n",
       "  (('ошаление', 'проходить'), 1),\n",
       "  (('письмо', 'невозможно'), 1),\n",
       "  (('письмо', 'положительно'), 1),\n",
       "  (('письмо', 'сердце'), 1),\n",
       "  (('пить', 'толковать'), 1),\n",
       "  (('поворот', 'дело'), 1),\n",
       "  (('подействовать', 'лечь'), 1),\n",
       "  (('подождать', 'грустно'), 1),\n",
       "  (('подходить', 'дом'), 1),\n",
       "  (('поезд', 'вновь'), 1),\n",
       "  (('полный', 'основание'), 1),\n",
       "  (('полный', 'уверенность'), 1),\n",
       "  (('положительно', 'недоумевать'), 1),\n",
       "  (('полубесчувствие', 'больной'), 1),\n",
       "  (('предполагать', 'ответить'), 1),\n",
       "  (('прийти', 'пустота'), 1),\n",
       "  (('приобретать', 'больший'), 1),\n",
       "  (('причина', 'достаточно'), 1),\n",
       "  (('промолчать', 'письмо'), 1),\n",
       "  (('проститься', 'горячо'), 1),\n",
       "  (('проходить', 'извне'), 1),\n",
       "  (('проходить', 'казаться'), 1),\n",
       "  (('пустота', 'ошаление'), 1),\n",
       "  (('рабочий', 'вопрос'), 1),\n",
       "  (('рассуждать', 'господин'), 1),\n",
       "  (('реальность', 'смотреть'), 1),\n",
       "  (('револьвер', 'проходить'), 1),\n",
       "  (('ресторан', 'пить'), 1),\n",
       "  (('решить', 'думать'), 1),\n",
       "  (('роль', 'интеллигенция'), 1),\n",
       "  (('самоубийство', 'тоска'), 1),\n",
       "  (('сбыться', 'говорить'), 1),\n",
       "  (('сердце', 'замирать'), 1),\n",
       "  (('сильно', 'подействовать'), 1),\n",
       "  (('смерть', 'точно'), 1),\n",
       "  (('смотреть', 'земляк'), 1),\n",
       "  (('собрание', 'ресторан'), 1),\n",
       "  (('спать', 'полубесчувствие'), 1),\n",
       "  (('спокойно', 'рассуждать'), 1),\n",
       "  (('спокойствие', 'являться'), 1),\n",
       "  (('страшно', 'хотеться'), 1),\n",
       "  (('счастие', 'подождать'), 1),\n",
       "  (('счастливый', 'поворот'), 1),\n",
       "  (('таков', 'душа'), 1),\n",
       "  (('толковать', 'оживление'), 1),\n",
       "  (('тоска', 'боль'), 1)]}"
      ]
     },
     "execution_count": 117,
     "metadata": {},
     "output_type": "execute_result"
    }
   ],
   "source": [
    "colloc_for_years_prozhito_100 "
   ]
  },
  {
   "cell_type": "code",
   "execution_count": 125,
   "id": "transparent-gothic",
   "metadata": {},
   "outputs": [],
   "source": [
    "import statistics\n",
    "log = finder.score_ngrams(bigram_measures.likelihood_ratio)"
   ]
  },
  {
   "cell_type": "code",
   "execution_count": 308,
   "id": "furnished-strand",
   "metadata": {},
   "outputs": [],
   "source": [
    "bigram_measures = nltk.collocations.BigramAssocMeasures()\n",
    "bigrams_list = []\n",
    "tokens = nltk.wordpunct_tokenize(period1_preprocessed_flat)\n",
    "tokens = [token for token in tokens if token not in extended_punctuation and stoplist2]\n",
    "finder = BigramCollocationFinder.from_words(tokens)\n",
    "scored_tm = finder.score_ngrams(bigram_measures.student_t)\n",
    "#bigrams_list.append(sorted(bigram for bigram, score in scored_tm))\n",
    "scored_tm = sorted(scored_tm, key=lambda t: (-t[1], t[0]))\n",
    "scored_tm = scored_tm[:100]\n",
    "#scored_tm = finder.score_ngrams(bigram_measures.student_t)\n",
    "#scored_tm = sorted(scored_tm.ngram_fd.items(), key=lambda t: (-t[1], t[0]))\n",
    "#scored_tm = scored_tm[:number]"
   ]
  },
  {
   "cell_type": "code",
   "execution_count": 311,
   "id": "sweet-yacht",
   "metadata": {},
   "outputs": [],
   "source": [
    "def collocater_tscore(text, number):\n",
    "    tokens = nltk.wordpunct_tokenize(text)\n",
    "    tokens_without_punkt = [token for token in tokens if token not in extended_punctuation and stoplist]\n",
    "    finder = BigramCollocationFinder.from_words(tokens_without_punkt)\n",
    "    scored_tm = finder.score_ngrams(bigram_measures.student_t)\n",
    "    scored_tm = sorted(scored_tm, key=lambda t: (-t[1], t[0]))\n",
    "    scored_tm = scored_tm[:number]\n",
    "    return scored_tm"
   ]
  },
  {
   "cell_type": "code",
   "execution_count": 312,
   "id": "mature-backing",
   "metadata": {},
   "outputs": [],
   "source": [
    "collocations1_tscore = collocater_tscore(period1_preprocessed_flat, 100)\n",
    "collocations2_tscore = collocater_tscore(period2_preprocessed_flat, 100)\n",
    "collocations3_tscore = collocater_tscore(period3_preprocessed_flat, 100)\n",
    "collocations4_tscore = collocater_tscore(period4_preprocessed_flat, 100)\n",
    "collocations5_tscore = collocater_tscore(period5_preprocessed_flat, 100)"
   ]
  },
  {
   "cell_type": "code",
   "execution_count": 316,
   "id": "proved-technical",
   "metadata": {},
   "outputs": [],
   "source": [
    "collocations1_df_tscore = pd.DataFrame(collocations1_tscore, columns=['collocation', 'frequency'])\n",
    "collocations1_df_tscore = collocations1_df_tscore.assign(period = 'Период 1')"
   ]
  },
  {
   "cell_type": "code",
   "execution_count": 317,
   "id": "equal-transport",
   "metadata": {},
   "outputs": [],
   "source": [
    "collocations2_df_tscore = pd.DataFrame(collocations2_tscore, columns=['collocation', 'frequency'])\n",
    "collocations2_df_tscore = collocations2_df_tscore.assign(period = 'Период 2')\n",
    "collocations3_df_tscore = pd.DataFrame(collocations3_tscore, columns=['collocation', 'frequency'])\n",
    "collocations3_df_tscore = collocations3_df_tscore.assign(period = 'Период 3')\n",
    "collocations4_df_tscore = pd.DataFrame(collocations4_tscore, columns=['collocation', 'frequency'])\n",
    "collocations4_df_tscore = collocations4_df_tscore.assign(period = 'Период 4')\n",
    "collocations5_df_tscore = pd.DataFrame(collocations5_tscore, columns=['collocation', 'frequency'])\n",
    "collocations5_df_tscore = collocations5_df_tscore.assign(period = 'Период 5')"
   ]
  },
  {
   "cell_type": "code",
   "execution_count": 319,
   "id": "first-april",
   "metadata": {},
   "outputs": [],
   "source": [
    "df_collocations_tscore = pd.concat([collocations1_df_tscore, collocations2_df_tscore, collocations3_df_tscore, collocations4_df_tscore, collocations5_df_tscore], ignore_index=True)"
   ]
  },
  {
   "cell_type": "code",
   "execution_count": 320,
   "id": "covered-egyptian",
   "metadata": {},
   "outputs": [],
   "source": [
    "pip2 = df_collocations_tscore.pivot(index = 'collocation', columns='period', values='collocation')"
   ]
  },
  {
   "cell_type": "code",
   "execution_count": 321,
   "id": "political-longer",
   "metadata": {},
   "outputs": [
    {
     "data": {
      "text/html": [
       "<div>\n",
       "<style scoped>\n",
       "    .dataframe tbody tr th:only-of-type {\n",
       "        vertical-align: middle;\n",
       "    }\n",
       "\n",
       "    .dataframe tbody tr th {\n",
       "        vertical-align: top;\n",
       "    }\n",
       "\n",
       "    .dataframe thead th {\n",
       "        text-align: right;\n",
       "    }\n",
       "</style>\n",
       "<table border=\"1\" class=\"dataframe\">\n",
       "  <thead>\n",
       "    <tr style=\"text-align: right;\">\n",
       "      <th>period</th>\n",
       "      <th>Период 1</th>\n",
       "      <th>Период 2</th>\n",
       "      <th>Период 3</th>\n",
       "      <th>Период 4</th>\n",
       "      <th>Период 5</th>\n",
       "    </tr>\n",
       "    <tr>\n",
       "      <th>collocation</th>\n",
       "      <th></th>\n",
       "      <th></th>\n",
       "      <th></th>\n",
       "      <th></th>\n",
       "      <th></th>\n",
       "    </tr>\n",
       "  </thead>\n",
       "  <tbody>\n",
       "    <tr>\n",
       "      <th>(.\\, ть)</th>\n",
       "      <td>NaN</td>\n",
       "      <td>NaN</td>\n",
       "      <td>NaN</td>\n",
       "      <td>NaN</td>\n",
       "      <td>(.\\, ть)</td>\n",
       "    </tr>\n",
       "    <tr>\n",
       "      <th>(\\-, го)</th>\n",
       "      <td>NaN</td>\n",
       "      <td>(\\-, го)</td>\n",
       "      <td>(\\-, го)</td>\n",
       "      <td>NaN</td>\n",
       "      <td>NaN</td>\n",
       "    </tr>\n",
       "    <tr>\n",
       "      <th>(\\—, \\—)</th>\n",
       "      <td>(\\—, \\—)</td>\n",
       "      <td>(\\—, \\—)</td>\n",
       "      <td>(\\—, \\—)</td>\n",
       "      <td>(\\—, \\—)</td>\n",
       "      <td>(\\—, \\—)</td>\n",
       "    </tr>\n",
       "    <tr>\n",
       "      <th>(\\—, говорить)</th>\n",
       "      <td>(\\—, говорить)</td>\n",
       "      <td>(\\—, говорить)</td>\n",
       "      <td>NaN</td>\n",
       "      <td>NaN</td>\n",
       "      <td>NaN</td>\n",
       "    </tr>\n",
       "    <tr>\n",
       "      <th>(\\—, знать)</th>\n",
       "      <td>(\\—, знать)</td>\n",
       "      <td>(\\—, знать)</td>\n",
       "      <td>(\\—, знать)</td>\n",
       "      <td>(\\—, знать)</td>\n",
       "      <td>NaN</td>\n",
       "    </tr>\n",
       "    <tr>\n",
       "      <th>...</th>\n",
       "      <td>...</td>\n",
       "      <td>...</td>\n",
       "      <td>...</td>\n",
       "      <td>...</td>\n",
       "      <td>...</td>\n",
       "    </tr>\n",
       "    <tr>\n",
       "      <th>(юрий, любимов)</th>\n",
       "      <td>NaN</td>\n",
       "      <td>NaN</td>\n",
       "      <td>NaN</td>\n",
       "      <td>NaN</td>\n",
       "      <td>(юрий, любимов)</td>\n",
       "    </tr>\n",
       "    <tr>\n",
       "      <th>(я, думать)</th>\n",
       "      <td>NaN</td>\n",
       "      <td>NaN</td>\n",
       "      <td>NaN</td>\n",
       "      <td>NaN</td>\n",
       "      <td>(я, думать)</td>\n",
       "    </tr>\n",
       "    <tr>\n",
       "      <th>(я, любить)</th>\n",
       "      <td>NaN</td>\n",
       "      <td>NaN</td>\n",
       "      <td>NaN</td>\n",
       "      <td>(я, любить)</td>\n",
       "      <td>(я, любить)</td>\n",
       "    </tr>\n",
       "    <tr>\n",
       "      <th>(я, то)</th>\n",
       "      <td>NaN</td>\n",
       "      <td>NaN</td>\n",
       "      <td>(я, то)</td>\n",
       "      <td>NaN</td>\n",
       "      <td>(я, то)</td>\n",
       "    </tr>\n",
       "    <tr>\n",
       "      <th>(‑, тый)</th>\n",
       "      <td>NaN</td>\n",
       "      <td>(‑, тый)</td>\n",
       "      <td>NaN</td>\n",
       "      <td>NaN</td>\n",
       "      <td>NaN</td>\n",
       "    </tr>\n",
       "  </tbody>\n",
       "</table>\n",
       "<p>269 rows × 5 columns</p>\n",
       "</div>"
      ],
      "text/plain": [
       "period                 Период 1        Период 2     Период 3     Период 4  \\\n",
       "collocation                                                                 \n",
       "(.\\, ть)                    NaN             NaN          NaN          NaN   \n",
       "(\\-, го)                    NaN        (\\-, го)     (\\-, го)          NaN   \n",
       "(\\—, \\—)               (\\—, \\—)        (\\—, \\—)     (\\—, \\—)     (\\—, \\—)   \n",
       "(\\—, говорить)   (\\—, говорить)  (\\—, говорить)          NaN          NaN   \n",
       "(\\—, знать)         (\\—, знать)     (\\—, знать)  (\\—, знать)  (\\—, знать)   \n",
       "...                         ...             ...          ...          ...   \n",
       "(юрий, любимов)             NaN             NaN          NaN          NaN   \n",
       "(я, думать)                 NaN             NaN          NaN          NaN   \n",
       "(я, любить)                 NaN             NaN          NaN  (я, любить)   \n",
       "(я, то)                     NaN             NaN      (я, то)          NaN   \n",
       "(‑, тый)                    NaN        (‑, тый)          NaN          NaN   \n",
       "\n",
       "period                  Период 5  \n",
       "collocation                       \n",
       "(.\\, ть)                (.\\, ть)  \n",
       "(\\-, го)                     NaN  \n",
       "(\\—, \\—)                (\\—, \\—)  \n",
       "(\\—, говорить)               NaN  \n",
       "(\\—, знать)                  NaN  \n",
       "...                          ...  \n",
       "(юрий, любимов)  (юрий, любимов)  \n",
       "(я, думать)          (я, думать)  \n",
       "(я, любить)          (я, любить)  \n",
       "(я, то)                  (я, то)  \n",
       "(‑, тый)                     NaN  \n",
       "\n",
       "[269 rows x 5 columns]"
      ]
     },
     "execution_count": 321,
     "metadata": {},
     "output_type": "execute_result"
    }
   ],
   "source": [
    "pip2"
   ]
  },
  {
   "cell_type": "code",
   "execution_count": 322,
   "id": "included-iraqi",
   "metadata": {},
   "outputs": [],
   "source": [
    "os.makedirs('/Users/victoriavrbv/Documents/Diploma', exist_ok=True)  \n",
    "pip2.to_csv('/Users/victoriavrbv/Documents/Diploma/pip2.csv')  "
   ]
  },
  {
   "cell_type": "code",
   "execution_count": 155,
   "id": "helpful-egyptian",
   "metadata": {},
   "outputs": [],
   "source": [
    "#декомпозирую функцию, но решила не использовать\n",
    "bigram_measures = nltk.collocations.BigramAssocMeasures()\n",
    "bigrams_list = []\n",
    "tokens = nltk.wordpunct_tokenize(text)\n",
    "tokens = [token for token in tokens if token not in extended_punctuation and stoplist2]\n",
    "finder = BigramCollocationFinder.from_words(tokens)\n",
    "scored_tm = finder.score_ngrams(bigram_measures.student_t)\n",
    "bigrams_list.append(sorted(bigram for bigram, score in scored_tm))\n",
    "#bigrams_list_flat = flatten_list(bigrams_list)"
   ]
  },
  {
   "cell_type": "code",
   "execution_count": 44,
   "id": "aggressive-schedule",
   "metadata": {},
   "outputs": [],
   "source": [
    "#упрощённая функция, но решила не использовать\n",
    "def collocater_simple(texts):\n",
    "    bigram_measures = nltk.collocations.BigramAssocMeasures()\n",
    "    bigrams_list = []\n",
    "    for text in texts:\n",
    "        tokens = nltk.wordpunct_tokenize(text)\n",
    "        tokens = [token for token in tokens if token not in extended_punctuation and stoplist2]\n",
    "        finder = BigramCollocationFinder.from_words(tokens)\n",
    "        scored = finder.score_ngrams(bigram_measures.raw_freq)\n",
    "        bigrams_list.append(sorted(bigram for bigram, score in scored))\n",
    "    bigrams_list_flat = flatten_list(bigrams_list)\n",
    "    colloc_freq = Counter(bigrams_list_flat).most_common()\n",
    "    return colloc_freq"
   ]
  },
  {
   "cell_type": "code",
   "execution_count": 79,
   "id": "advised-booth",
   "metadata": {},
   "outputs": [],
   "source": [
    "#collocater_simple(period1_records_flat)"
   ]
  },
  {
   "cell_type": "code",
   "execution_count": 53,
   "id": "significant-wallpaper",
   "metadata": {},
   "outputs": [],
   "source": [
    "#Counter(bigrams_list_flat).most_common()"
   ]
  },
  {
   "cell_type": "code",
   "execution_count": 64,
   "id": "studied-insurance",
   "metadata": {},
   "outputs": [],
   "source": [
    "colloc_freq = Counter(bigrams_list_flat) "
   ]
  },
  {
   "cell_type": "code",
   "execution_count": 75,
   "id": "statewide-frontier",
   "metadata": {},
   "outputs": [],
   "source": [
    "newdict_5 = {}\n",
    "for key, value in colloc_freq.items():\n",
    "    if value > 6 and value < 50:\n",
    "        newdict_5[key] = value"
   ]
  },
  {
   "cell_type": "code",
   "execution_count": 56,
   "id": "drawn-cigarette",
   "metadata": {},
   "outputs": [],
   "source": [
    "#newdict_1\n",
    "#newdict_2"
   ]
  },
  {
   "cell_type": "code",
   "execution_count": 57,
   "id": "conditional-conservation",
   "metadata": {},
   "outputs": [],
   "source": [
    "common_list = []\n",
    "for key1 in newdict_1.keys():\n",
    "    for key2 in newdict_2.keys():\n",
    "        if key1 == key2:\n",
    "            common_list.append(key1)       "
   ]
  },
  {
   "cell_type": "code",
   "execution_count": 67,
   "id": "turkish-thomson",
   "metadata": {},
   "outputs": [
    {
     "data": {
      "text/plain": [
       "12395"
      ]
     },
     "execution_count": 67,
     "metadata": {},
     "output_type": "execute_result"
    }
   ],
   "source": [
    "len(common_list2)"
   ]
  },
  {
   "cell_type": "code",
   "execution_count": 167,
   "id": "opening-radical",
   "metadata": {},
   "outputs": [],
   "source": [
    "#считаем количество токенов в периоде\n",
    "period5_tokenized = []\n",
    "for item in period5_records:\n",
    "    tokens = word_tokenize(str(item))\n",
    "    for token in tokens:\n",
    "        if token not in extended_punctuation:\n",
    "            period5_tokenized.append(token)\n",
    "#len(period1_tokenized)"
   ]
  },
  {
   "cell_type": "code",
   "execution_count": 168,
   "id": "literary-occasion",
   "metadata": {},
   "outputs": [
    {
     "data": {
      "text/plain": [
       "458551"
      ]
     },
     "execution_count": 168,
     "metadata": {},
     "output_type": "execute_result"
    }
   ],
   "source": [
    "len(period5_tokenized)"
   ]
  },
  {
   "cell_type": "code",
   "execution_count": 147,
   "id": "boolean-timeline",
   "metadata": {},
   "outputs": [],
   "source": [
    "#period1_tokenized"
   ]
  },
  {
   "cell_type": "code",
   "execution_count": 33,
   "id": "traditional-program",
   "metadata": {},
   "outputs": [],
   "source": [
    "with open('period1_records_flat.txt', 'w') as p1:\n",
    "    for item in period1_records_flat:\n",
    "        p1.write(\"%s\\n\" % item)\n",
    "with open('period2_records_flat.txt', 'w') as p1:\n",
    "    for item in period2_records_flat:\n",
    "        p1.write(\"%s\\n\" % item)\n",
    "with open('period3_records_flat.txt', 'w') as p1:\n",
    "    for item in period3_records_flat:\n",
    "        p1.write(\"%s\\n\" % item)\n",
    "with open('period4_records_flat.txt', 'w') as p1:\n",
    "    for item in period4_records_flat:\n",
    "        p1.write(\"%s\\n\" % item)\n",
    "with open('period5_records_flat.txt', 'w') as p1:\n",
    "    for item in period5_records_flat:\n",
    "        p1.write(\"%s\\n\" % item)"
   ]
  },
  {
   "cell_type": "code",
   "execution_count": 708,
   "id": "fiscal-usage",
   "metadata": {},
   "outputs": [],
   "source": [
    "#выгружаем записи в txt\n",
    "with open('period1_records_flat.txt', 'w') as p1:\n",
    "    for item in period1_records_flat:\n",
    "        p1.write(\"%s\\n\" % item)\n",
    "with open('period3_records.txt', 'w') as p3:\n",
    "    for item in period3_records:\n",
    "        p3.write(\"%s\\n\" % item)\n",
    "with open('period4_records.txt', 'w') as p4:\n",
    "    for item in period4_records:\n",
    "        p4.write(\"%s\\n\" % item)"
   ]
  },
  {
   "cell_type": "code",
   "execution_count": 108,
   "id": "trying-committee",
   "metadata": {},
   "outputs": [],
   "source": [
    "with open('period2_records.txt', 'w') as p2:\n",
    "    for item in period2_records:\n",
    "        p2.write(\"%s\\n\" % item)\n",
    "with open('period5_records.txt', 'w') as p5:\n",
    "    for item in period5_records:\n",
    "        p5.write(\"%s\\n\" % item)"
   ]
  },
  {
   "cell_type": "code",
   "execution_count": 317,
   "id": "adolescent-uzbekistan",
   "metadata": {},
   "outputs": [],
   "source": [
    "#meta_info_cleaned[(meta_info_cleaned['Дата'] > '2013-1-1') & (meta_info_cleaned['Дата'] < '2017-6-8')]\n",
    "#meta_info_cleaned[(meta_info_cleaned['Дата']>datetime.date(2016, 1, 1)) & (meta_info_cleaned['Дата']<datetime.date(2017, 6, 8))]"
   ]
  },
  {
   "cell_type": "code",
   "execution_count": 28,
   "id": "weird-isolation",
   "metadata": {},
   "outputs": [],
   "source": [
    "#отбираем имена, чтобы разделить по гендеру\n",
    "names = set()\n",
    "for item in meta_info_cleaned[\"Автор\"]:\n",
    "    name = re.search(\"#\\d{1,5}\\s(?P<name>[А-ЯЁ][а-яё]+)\", str(item))\n",
    "    if name:\n",
    "        names.add(name.group (\"name\"))"
   ]
  },
  {
   "cell_type": "code",
   "execution_count": 29,
   "id": "helpful-commerce",
   "metadata": {},
   "outputs": [],
   "source": [
    "female = []\n",
    "male = []\n",
    "ambig_fem = [\"Любовь\", \"Рашель\", \"Эсфирь\", \"Элен\", \"Нуне\"]\n",
    "ambig_male = [\"Микола\", \"Илья\", \"Дзига\", \"Никита\"] \n",
    "for name in names:\n",
    "    if re.search(\"(а|я|и)$\", name) and name not in ambig_male:\n",
    "        female.append(name)\n",
    "    elif name in ambig_fem:\n",
    "        female.append(name)\n",
    "    else:\n",
    "         male.append(name)"
   ]
  },
  {
   "cell_type": "code",
   "execution_count": 30,
   "id": "dominant-separation",
   "metadata": {},
   "outputs": [],
   "source": [
    "female_regex = re.compile(\"\"+\"|\".join(female))\n",
    "#regex = re.compile(\"^(\"+\"|\".join(item_list)+\")\\.\")\n",
    "male_regex = re.compile(\"\"+\"|\".join(male))"
   ]
  },
  {
   "cell_type": "code",
   "execution_count": 31,
   "id": "chronic-merchandise",
   "metadata": {},
   "outputs": [
    {
     "name": "stderr",
     "output_type": "stream",
     "text": [
      "/var/folders/3s/by9v925x5xd0hsnplvbq6j040000gp/T/ipykernel_2000/686961531.py:12: SettingWithCopyWarning: \n",
      "A value is trying to be set on a copy of a slice from a DataFrame.\n",
      "Try using .loc[row_indexer,col_indexer] = value instead\n",
      "\n",
      "See the caveats in the documentation: https://pandas.pydata.org/pandas-docs/stable/user_guide/indexing.html#returning-a-view-versus-a-copy\n",
      "  meta_info_cleaned[\"Гендер\"] = gender\n"
     ]
    }
   ],
   "source": [
    "#создаем новый столбец с гендером\n",
    "gender = []\n",
    "for item in meta_info_cleaned[\"Автор\"]:\n",
    "    fem_match = re.search(female_regex, str(item))\n",
    "    male_match = re.search(male_regex, str(item))\n",
    "    if fem_match:\n",
    "        gender.append(\"Женский\")\n",
    "    elif male_match:\n",
    "        gender.append(\"Мужской\")\n",
    "    else:\n",
    "        gender.append(\"\")\n",
    "meta_info_cleaned[\"Гендер\"] = gender"
   ]
  },
  {
   "cell_type": "code",
   "execution_count": 32,
   "id": "coupled-boxing",
   "metadata": {},
   "outputs": [
    {
     "data": {
      "text/html": [
       "<div>\n",
       "<style scoped>\n",
       "    .dataframe tbody tr th:only-of-type {\n",
       "        vertical-align: middle;\n",
       "    }\n",
       "\n",
       "    .dataframe tbody tr th {\n",
       "        vertical-align: top;\n",
       "    }\n",
       "\n",
       "    .dataframe thead th {\n",
       "        text-align: right;\n",
       "    }\n",
       "</style>\n",
       "<table border=\"1\" class=\"dataframe\">\n",
       "  <thead>\n",
       "    <tr style=\"text-align: right;\">\n",
       "      <th></th>\n",
       "      <th>ID</th>\n",
       "      <th>Автор</th>\n",
       "      <th>ID дневника</th>\n",
       "      <th>Дата</th>\n",
       "      <th>Гендер</th>\n",
       "    </tr>\n",
       "  </thead>\n",
       "  <tbody>\n",
       "    <tr>\n",
       "      <th>0</th>\n",
       "      <td>140292</td>\n",
       "      <td>#507 Степан Петрович Жихарев</td>\n",
       "      <td>515</td>\n",
       "      <td>1805-07-20</td>\n",
       "      <td>Мужской</td>\n",
       "    </tr>\n",
       "    <tr>\n",
       "      <th>1</th>\n",
       "      <td>444870</td>\n",
       "      <td>#719 Николай Дмитриевич Дурново</td>\n",
       "      <td>729</td>\n",
       "      <td>1812-01-22</td>\n",
       "      <td>Мужской</td>\n",
       "    </tr>\n",
       "    <tr>\n",
       "      <th>2</th>\n",
       "      <td>178659</td>\n",
       "      <td>#763 Анна Алексеевна Андро</td>\n",
       "      <td>773</td>\n",
       "      <td>1828-10-06</td>\n",
       "      <td>Женский</td>\n",
       "    </tr>\n",
       "    <tr>\n",
       "      <th>3</th>\n",
       "      <td>171755</td>\n",
       "      <td>#706 Алексей Николаевич Вульф</td>\n",
       "      <td>716</td>\n",
       "      <td>1831-02-10</td>\n",
       "      <td>Мужской</td>\n",
       "    </tr>\n",
       "    <tr>\n",
       "      <th>4</th>\n",
       "      <td>442455</td>\n",
       "      <td>#790 Дарья Фёдоровна Фикельмон</td>\n",
       "      <td>800</td>\n",
       "      <td>1831-07-05</td>\n",
       "      <td>Женский</td>\n",
       "    </tr>\n",
       "    <tr>\n",
       "      <th>...</th>\n",
       "      <td>...</td>\n",
       "      <td>...</td>\n",
       "      <td>...</td>\n",
       "      <td>...</td>\n",
       "      <td>...</td>\n",
       "    </tr>\n",
       "    <tr>\n",
       "      <th>7136</th>\n",
       "      <td>435616</td>\n",
       "      <td>#1949 Юрий Михайлович Кублановский</td>\n",
       "      <td>1959</td>\n",
       "      <td>2010-03-14</td>\n",
       "      <td>Мужской</td>\n",
       "    </tr>\n",
       "    <tr>\n",
       "      <th>7137</th>\n",
       "      <td>394573</td>\n",
       "      <td>#2338 Ирина Львовна Шолохова</td>\n",
       "      <td>2348</td>\n",
       "      <td>2011-01-03</td>\n",
       "      <td>Женский</td>\n",
       "    </tr>\n",
       "    <tr>\n",
       "      <th>7139</th>\n",
       "      <td>394581</td>\n",
       "      <td>#2338 Ирина Львовна Шолохова</td>\n",
       "      <td>2348</td>\n",
       "      <td>2012-12-02</td>\n",
       "      <td>Женский</td>\n",
       "    </tr>\n",
       "    <tr>\n",
       "      <th>7140</th>\n",
       "      <td>394582</td>\n",
       "      <td>#2338 Ирина Львовна Шолохова</td>\n",
       "      <td>2348</td>\n",
       "      <td>2012-12-29</td>\n",
       "      <td>Женский</td>\n",
       "    </tr>\n",
       "    <tr>\n",
       "      <th>7142</th>\n",
       "      <td>364873</td>\n",
       "      <td>#981 Галина Г. Ларская</td>\n",
       "      <td>991</td>\n",
       "      <td>2017-01-27</td>\n",
       "      <td>Женский</td>\n",
       "    </tr>\n",
       "  </tbody>\n",
       "</table>\n",
       "<p>6283 rows × 5 columns</p>\n",
       "</div>"
      ],
      "text/plain": [
       "          ID                               Автор  ID дневника       Дата  \\\n",
       "0     140292        #507 Степан Петрович Жихарев          515 1805-07-20   \n",
       "1     444870     #719 Николай Дмитриевич Дурново          729 1812-01-22   \n",
       "2     178659          #763 Анна Алексеевна Андро          773 1828-10-06   \n",
       "3     171755       #706 Алексей Николаевич Вульф          716 1831-02-10   \n",
       "4     442455      #790 Дарья Фёдоровна Фикельмон          800 1831-07-05   \n",
       "...      ...                                 ...          ...        ...   \n",
       "7136  435616  #1949 Юрий Михайлович Кублановский         1959 2010-03-14   \n",
       "7137  394573        #2338 Ирина Львовна Шолохова         2348 2011-01-03   \n",
       "7139  394581        #2338 Ирина Львовна Шолохова         2348 2012-12-02   \n",
       "7140  394582        #2338 Ирина Львовна Шолохова         2348 2012-12-29   \n",
       "7142  364873              #981 Галина Г. Ларская          991 2017-01-27   \n",
       "\n",
       "       Гендер  \n",
       "0     Мужской  \n",
       "1     Мужской  \n",
       "2     Женский  \n",
       "3     Мужской  \n",
       "4     Женский  \n",
       "...       ...  \n",
       "7136  Мужской  \n",
       "7137  Женский  \n",
       "7139  Женский  \n",
       "7140  Женский  \n",
       "7142  Женский  \n",
       "\n",
       "[6283 rows x 5 columns]"
      ]
     },
     "execution_count": 32,
     "metadata": {},
     "output_type": "execute_result"
    }
   ],
   "source": [
    "meta_info_cleaned"
   ]
  },
  {
   "cell_type": "code",
   "execution_count": 44,
   "id": "roman-kruger",
   "metadata": {},
   "outputs": [
    {
     "name": "stderr",
     "output_type": "stream",
     "text": [
      "/var/folders/3s/by9v925x5xd0hsnplvbq6j040000gp/T/ipykernel_50665/2717494215.py:11: SettingWithCopyWarning: \n",
      "A value is trying to be set on a copy of a slice from a DataFrame.\n",
      "Try using .loc[row_indexer,col_indexer] = value instead\n",
      "\n",
      "See the caveats in the documentation: https://pandas.pydata.org/pandas-docs/stable/user_guide/indexing.html#returning-a-view-versus-a-copy\n",
      "  meta_info_cleaned[\"Автор\"] = [p.sub('', str(x)) for x in meta_info_cleaned[\"Автор\"]]\n",
      "/var/folders/3s/by9v925x5xd0hsnplvbq6j040000gp/T/ipykernel_50665/2717494215.py:13: SettingWithCopyWarning: \n",
      "A value is trying to be set on a copy of a slice from a DataFrame.\n",
      "Try using .loc[row_indexer,col_indexer] = value instead\n",
      "\n",
      "See the caveats in the documentation: https://pandas.pydata.org/pandas-docs/stable/user_guide/indexing.html#returning-a-view-versus-a-copy\n",
      "  meta_info_cleaned[\"ID автора\"] = ids\n"
     ]
    },
    {
     "data": {
      "text/html": [
       "<div>\n",
       "<style scoped>\n",
       "    .dataframe tbody tr th:only-of-type {\n",
       "        vertical-align: middle;\n",
       "    }\n",
       "\n",
       "    .dataframe tbody tr th {\n",
       "        vertical-align: top;\n",
       "    }\n",
       "\n",
       "    .dataframe thead th {\n",
       "        text-align: right;\n",
       "    }\n",
       "</style>\n",
       "<table border=\"1\" class=\"dataframe\">\n",
       "  <thead>\n",
       "    <tr style=\"text-align: right;\">\n",
       "      <th></th>\n",
       "      <th>ID</th>\n",
       "      <th>Автор</th>\n",
       "      <th>ID дневника</th>\n",
       "      <th>Дата</th>\n",
       "      <th>Гендер</th>\n",
       "      <th>ID автора</th>\n",
       "    </tr>\n",
       "  </thead>\n",
       "  <tbody>\n",
       "    <tr>\n",
       "      <th>0</th>\n",
       "      <td>140292</td>\n",
       "      <td>Степан Петрович Жихарев</td>\n",
       "      <td>515</td>\n",
       "      <td>1805-07-20</td>\n",
       "      <td>Мужской</td>\n",
       "      <td>507</td>\n",
       "    </tr>\n",
       "    <tr>\n",
       "      <th>1</th>\n",
       "      <td>444870</td>\n",
       "      <td>Николай Дмитриевич Дурново</td>\n",
       "      <td>729</td>\n",
       "      <td>1812-01-22</td>\n",
       "      <td>Мужской</td>\n",
       "      <td>719</td>\n",
       "    </tr>\n",
       "    <tr>\n",
       "      <th>2</th>\n",
       "      <td>178659</td>\n",
       "      <td>Анна Алексеевна Андро</td>\n",
       "      <td>773</td>\n",
       "      <td>1828-10-06</td>\n",
       "      <td>Женский</td>\n",
       "      <td>763</td>\n",
       "    </tr>\n",
       "    <tr>\n",
       "      <th>3</th>\n",
       "      <td>171755</td>\n",
       "      <td>Алексей Николаевич Вульф</td>\n",
       "      <td>716</td>\n",
       "      <td>1831-02-10</td>\n",
       "      <td>Мужской</td>\n",
       "      <td>706</td>\n",
       "    </tr>\n",
       "    <tr>\n",
       "      <th>4</th>\n",
       "      <td>442455</td>\n",
       "      <td>Дарья Фёдоровна Фикельмон</td>\n",
       "      <td>800</td>\n",
       "      <td>1831-07-05</td>\n",
       "      <td>Женский</td>\n",
       "      <td>790</td>\n",
       "    </tr>\n",
       "    <tr>\n",
       "      <th>...</th>\n",
       "      <td>...</td>\n",
       "      <td>...</td>\n",
       "      <td>...</td>\n",
       "      <td>...</td>\n",
       "      <td>...</td>\n",
       "      <td>...</td>\n",
       "    </tr>\n",
       "    <tr>\n",
       "      <th>7136</th>\n",
       "      <td>435616</td>\n",
       "      <td>Юрий Михайлович Кублановский</td>\n",
       "      <td>1959</td>\n",
       "      <td>2010-03-14</td>\n",
       "      <td>Мужской</td>\n",
       "      <td>1949</td>\n",
       "    </tr>\n",
       "    <tr>\n",
       "      <th>7137</th>\n",
       "      <td>394573</td>\n",
       "      <td>Ирина Львовна Шолохова</td>\n",
       "      <td>2348</td>\n",
       "      <td>2011-01-03</td>\n",
       "      <td>Женский</td>\n",
       "      <td>2338</td>\n",
       "    </tr>\n",
       "    <tr>\n",
       "      <th>7139</th>\n",
       "      <td>394581</td>\n",
       "      <td>Ирина Львовна Шолохова</td>\n",
       "      <td>2348</td>\n",
       "      <td>2012-12-02</td>\n",
       "      <td>Женский</td>\n",
       "      <td>2338</td>\n",
       "    </tr>\n",
       "    <tr>\n",
       "      <th>7140</th>\n",
       "      <td>394582</td>\n",
       "      <td>Ирина Львовна Шолохова</td>\n",
       "      <td>2348</td>\n",
       "      <td>2012-12-29</td>\n",
       "      <td>Женский</td>\n",
       "      <td>2338</td>\n",
       "    </tr>\n",
       "    <tr>\n",
       "      <th>7142</th>\n",
       "      <td>364873</td>\n",
       "      <td>Галина Г. Ларская</td>\n",
       "      <td>991</td>\n",
       "      <td>2017-01-27</td>\n",
       "      <td>Женский</td>\n",
       "      <td>981</td>\n",
       "    </tr>\n",
       "  </tbody>\n",
       "</table>\n",
       "<p>6283 rows × 6 columns</p>\n",
       "</div>"
      ],
      "text/plain": [
       "          ID                         Автор  ID дневника       Дата   Гендер  \\\n",
       "0     140292       Степан Петрович Жихарев          515 1805-07-20  Мужской   \n",
       "1     444870    Николай Дмитриевич Дурново          729 1812-01-22  Мужской   \n",
       "2     178659         Анна Алексеевна Андро          773 1828-10-06  Женский   \n",
       "3     171755      Алексей Николаевич Вульф          716 1831-02-10  Мужской   \n",
       "4     442455     Дарья Фёдоровна Фикельмон          800 1831-07-05  Женский   \n",
       "...      ...                           ...          ...        ...      ...   \n",
       "7136  435616  Юрий Михайлович Кублановский         1959 2010-03-14  Мужской   \n",
       "7137  394573        Ирина Львовна Шолохова         2348 2011-01-03  Женский   \n",
       "7139  394581        Ирина Львовна Шолохова         2348 2012-12-02  Женский   \n",
       "7140  394582        Ирина Львовна Шолохова         2348 2012-12-29  Женский   \n",
       "7142  364873             Галина Г. Ларская          991 2017-01-27  Женский   \n",
       "\n",
       "     ID автора  \n",
       "0          507  \n",
       "1          719  \n",
       "2          763  \n",
       "3          706  \n",
       "4          790  \n",
       "...        ...  \n",
       "7136      1949  \n",
       "7137      2338  \n",
       "7139      2338  \n",
       "7140      2338  \n",
       "7142       981  \n",
       "\n",
       "[6283 rows x 6 columns]"
      ]
     },
     "execution_count": 44,
     "metadata": {},
     "output_type": "execute_result"
    }
   ],
   "source": [
    "#приводим метаданные к единому формату\n",
    "ids = []\n",
    "for item in meta_info_cleaned[\"Автор\"]:\n",
    "    number = re.search(r\"\\d{1,5}\", str(item))\n",
    "    if number:\n",
    "        ids.append(number.group())\n",
    "    else: \n",
    "        ids.append(0)\n",
    "        \n",
    "p = re.compile(r\"#\\d{1,5}\\s\")\n",
    "meta_info_cleaned[\"Автор\"] = [p.sub('', str(x)) for x in meta_info_cleaned[\"Автор\"]]\n",
    "        \n",
    "meta_info_cleaned[\"ID автора\"] = ids   \n",
    "meta_info_cleaned"
   ]
  },
  {
   "cell_type": "code",
   "execution_count": 45,
   "id": "devoted-retrieval",
   "metadata": {},
   "outputs": [
    {
     "name": "stderr",
     "output_type": "stream",
     "text": [
      "/var/folders/3s/by9v925x5xd0hsnplvbq6j040000gp/T/ipykernel_50665/106085110.py:1: SettingWithCopyWarning: \n",
      "A value is trying to be set on a copy of a slice from a DataFrame.\n",
      "Try using .loc[row_indexer,col_indexer] = value instead\n",
      "\n",
      "See the caveats in the documentation: https://pandas.pydata.org/pandas-docs/stable/user_guide/indexing.html#returning-a-view-versus-a-copy\n",
      "  meta_info_cleaned['ID автора']= meta_info_cleaned['ID автора'].astype(int)\n"
     ]
    }
   ],
   "source": [
    "meta_info_cleaned['ID автора']= meta_info_cleaned['ID автора'].astype(int)"
   ]
  },
  {
   "cell_type": "code",
   "execution_count": 46,
   "id": "possible-rachel",
   "metadata": {},
   "outputs": [
    {
     "ename": "KeyboardInterrupt",
     "evalue": "",
     "output_type": "error",
     "traceback": [
      "\u001b[0;31m---------------------------------------------------------------------------\u001b[0m",
      "\u001b[0;31mKeyboardInterrupt\u001b[0m                         Traceback (most recent call last)",
      "Input \u001b[0;32mIn [46]\u001b[0m, in \u001b[0;36m<cell line: 9>\u001b[0;34m()\u001b[0m\n\u001b[1;32m      7\u001b[0m             number \u001b[38;5;241m=\u001b[39m \u001b[38;5;28mlen\u001b[39m(line\u001b[38;5;241m.\u001b[39mnotes)\n\u001b[1;32m      8\u001b[0m             \u001b[38;5;28;01mreturn\u001b[39;00m number\n\u001b[0;32m----> 9\u001b[0m meta_info_cleaned[\u001b[38;5;124m'\u001b[39m\u001b[38;5;124mКоличество записей\u001b[39m\u001b[38;5;124m'\u001b[39m] \u001b[38;5;241m=\u001b[39m \u001b[43mmeta_info_cleaned\u001b[49m\u001b[38;5;241;43m.\u001b[39;49m\u001b[43mapply\u001b[49m\u001b[43m(\u001b[49m\u001b[43mrecord_number\u001b[49m\u001b[43m,\u001b[49m\u001b[43m \u001b[49m\u001b[43maxis\u001b[49m\u001b[38;5;241;43m=\u001b[39;49m\u001b[38;5;241;43m1\u001b[39;49m\u001b[43m)\u001b[49m\n",
      "File \u001b[0;32m~/Library/Python/3.9/lib/python/site-packages/pandas/core/frame.py:8839\u001b[0m, in \u001b[0;36mDataFrame.apply\u001b[0;34m(self, func, axis, raw, result_type, args, **kwargs)\u001b[0m\n\u001b[1;32m   8828\u001b[0m \u001b[38;5;28;01mfrom\u001b[39;00m \u001b[38;5;21;01mpandas\u001b[39;00m\u001b[38;5;21;01m.\u001b[39;00m\u001b[38;5;21;01mcore\u001b[39;00m\u001b[38;5;21;01m.\u001b[39;00m\u001b[38;5;21;01mapply\u001b[39;00m \u001b[38;5;28;01mimport\u001b[39;00m frame_apply\n\u001b[1;32m   8830\u001b[0m op \u001b[38;5;241m=\u001b[39m frame_apply(\n\u001b[1;32m   8831\u001b[0m     \u001b[38;5;28mself\u001b[39m,\n\u001b[1;32m   8832\u001b[0m     func\u001b[38;5;241m=\u001b[39mfunc,\n\u001b[0;32m   (...)\u001b[0m\n\u001b[1;32m   8837\u001b[0m     kwargs\u001b[38;5;241m=\u001b[39mkwargs,\n\u001b[1;32m   8838\u001b[0m )\n\u001b[0;32m-> 8839\u001b[0m \u001b[38;5;28;01mreturn\u001b[39;00m \u001b[43mop\u001b[49m\u001b[38;5;241;43m.\u001b[39;49m\u001b[43mapply\u001b[49m\u001b[43m(\u001b[49m\u001b[43m)\u001b[49m\u001b[38;5;241m.\u001b[39m__finalize__(\u001b[38;5;28mself\u001b[39m, method\u001b[38;5;241m=\u001b[39m\u001b[38;5;124m\"\u001b[39m\u001b[38;5;124mapply\u001b[39m\u001b[38;5;124m\"\u001b[39m)\n",
      "File \u001b[0;32m~/Library/Python/3.9/lib/python/site-packages/pandas/core/apply.py:727\u001b[0m, in \u001b[0;36mFrameApply.apply\u001b[0;34m(self)\u001b[0m\n\u001b[1;32m    724\u001b[0m \u001b[38;5;28;01melif\u001b[39;00m \u001b[38;5;28mself\u001b[39m\u001b[38;5;241m.\u001b[39mraw:\n\u001b[1;32m    725\u001b[0m     \u001b[38;5;28;01mreturn\u001b[39;00m \u001b[38;5;28mself\u001b[39m\u001b[38;5;241m.\u001b[39mapply_raw()\n\u001b[0;32m--> 727\u001b[0m \u001b[38;5;28;01mreturn\u001b[39;00m \u001b[38;5;28;43mself\u001b[39;49m\u001b[38;5;241;43m.\u001b[39;49m\u001b[43mapply_standard\u001b[49m\u001b[43m(\u001b[49m\u001b[43m)\u001b[49m\n",
      "File \u001b[0;32m~/Library/Python/3.9/lib/python/site-packages/pandas/core/apply.py:851\u001b[0m, in \u001b[0;36mFrameApply.apply_standard\u001b[0;34m(self)\u001b[0m\n\u001b[1;32m    850\u001b[0m \u001b[38;5;28;01mdef\u001b[39;00m \u001b[38;5;21mapply_standard\u001b[39m(\u001b[38;5;28mself\u001b[39m):\n\u001b[0;32m--> 851\u001b[0m     results, res_index \u001b[38;5;241m=\u001b[39m \u001b[38;5;28;43mself\u001b[39;49m\u001b[38;5;241;43m.\u001b[39;49m\u001b[43mapply_series_generator\u001b[49m\u001b[43m(\u001b[49m\u001b[43m)\u001b[49m\n\u001b[1;32m    853\u001b[0m     \u001b[38;5;66;03m# wrap results\u001b[39;00m\n\u001b[1;32m    854\u001b[0m     \u001b[38;5;28;01mreturn\u001b[39;00m \u001b[38;5;28mself\u001b[39m\u001b[38;5;241m.\u001b[39mwrap_results(results, res_index)\n",
      "File \u001b[0;32m~/Library/Python/3.9/lib/python/site-packages/pandas/core/apply.py:867\u001b[0m, in \u001b[0;36mFrameApply.apply_series_generator\u001b[0;34m(self)\u001b[0m\n\u001b[1;32m    864\u001b[0m \u001b[38;5;28;01mwith\u001b[39;00m option_context(\u001b[38;5;124m\"\u001b[39m\u001b[38;5;124mmode.chained_assignment\u001b[39m\u001b[38;5;124m\"\u001b[39m, \u001b[38;5;28;01mNone\u001b[39;00m):\n\u001b[1;32m    865\u001b[0m     \u001b[38;5;28;01mfor\u001b[39;00m i, v \u001b[38;5;129;01min\u001b[39;00m \u001b[38;5;28menumerate\u001b[39m(series_gen):\n\u001b[1;32m    866\u001b[0m         \u001b[38;5;66;03m# ignore SettingWithCopy here in case the user mutates\u001b[39;00m\n\u001b[0;32m--> 867\u001b[0m         results[i] \u001b[38;5;241m=\u001b[39m \u001b[38;5;28;43mself\u001b[39;49m\u001b[38;5;241;43m.\u001b[39;49m\u001b[43mf\u001b[49m\u001b[43m(\u001b[49m\u001b[43mv\u001b[49m\u001b[43m)\u001b[49m\n\u001b[1;32m    868\u001b[0m         \u001b[38;5;28;01mif\u001b[39;00m \u001b[38;5;28misinstance\u001b[39m(results[i], ABCSeries):\n\u001b[1;32m    869\u001b[0m             \u001b[38;5;66;03m# If we have a view on v, we need to make a copy because\u001b[39;00m\n\u001b[1;32m    870\u001b[0m             \u001b[38;5;66;03m#  series_generator will swap out the underlying data\u001b[39;00m\n\u001b[1;32m    871\u001b[0m             results[i] \u001b[38;5;241m=\u001b[39m results[i]\u001b[38;5;241m.\u001b[39mcopy(deep\u001b[38;5;241m=\u001b[39m\u001b[38;5;28;01mFalse\u001b[39;00m)\n",
      "Input \u001b[0;32mIn [46]\u001b[0m, in \u001b[0;36mrecord_number\u001b[0;34m(row)\u001b[0m\n\u001b[1;32m      5\u001b[0m \u001b[38;5;28;01mfor\u001b[39;00m line \u001b[38;5;129;01min\u001b[39;00m dw\u001b[38;5;241m.\u001b[39mdiaries:\n\u001b[1;32m      6\u001b[0m     \u001b[38;5;28;01mif\u001b[39;00m re\u001b[38;5;241m.\u001b[39msearch(diary_number, \u001b[38;5;28mstr\u001b[39m(line)):\n\u001b[0;32m----> 7\u001b[0m         number \u001b[38;5;241m=\u001b[39m \u001b[38;5;28mlen\u001b[39m(\u001b[43mline\u001b[49m\u001b[38;5;241;43m.\u001b[39;49m\u001b[43mnotes\u001b[49m)\n\u001b[1;32m      8\u001b[0m         \u001b[38;5;28;01mreturn\u001b[39;00m number\n",
      "File \u001b[0;32m~/prozhitotools/diary.py:48\u001b[0m, in \u001b[0;36mProzhitoDiary.notes\u001b[0;34m(self)\u001b[0m\n\u001b[1;32m     45\u001b[0m \u001b[38;5;129m@property\u001b[39m\n\u001b[1;32m     46\u001b[0m \u001b[38;5;28;01mdef\u001b[39;00m \u001b[38;5;21mnotes\u001b[39m(\u001b[38;5;28mself\u001b[39m):\n\u001b[1;32m     47\u001b[0m     notes_of_diary \u001b[38;5;241m=\u001b[39m \u001b[38;5;28mfilter\u001b[39m(\u001b[38;5;28;01mlambda\u001b[39;00m note: note\u001b[38;5;241m.\u001b[39mdiary_ID \u001b[38;5;241m==\u001b[39m \u001b[38;5;28mself\u001b[39m\u001b[38;5;241m.\u001b[39mID, \u001b[38;5;28mself\u001b[39m\u001b[38;5;241m.\u001b[39mdw\u001b[38;5;241m.\u001b[39mnotes)\n\u001b[0;32m---> 48\u001b[0m     \u001b[38;5;28;01mreturn\u001b[39;00m \u001b[43mProzhitoNotes\u001b[49m\u001b[38;5;241;43m.\u001b[39;49m\u001b[43mnew_from_list\u001b[49m\u001b[43m(\u001b[49m\u001b[38;5;28;43mself\u001b[39;49m\u001b[38;5;241;43m.\u001b[39;49m\u001b[43mdw\u001b[49m\u001b[43m,\u001b[49m\u001b[43m \u001b[49m\u001b[43mnotes_of_diary\u001b[49m\u001b[43m)\u001b[49m\n",
      "File \u001b[0;32m~/prozhitotools/notes.py:25\u001b[0m, in \u001b[0;36mProzhitoNotes.new_from_list\u001b[0;34m(cls, dumpwrap, notes_iter)\u001b[0m\n\u001b[1;32m     22\u001b[0m \u001b[38;5;129m@classmethod\u001b[39m\n\u001b[1;32m     23\u001b[0m \u001b[38;5;28;01mdef\u001b[39;00m \u001b[38;5;21mnew_from_list\u001b[39m(\u001b[38;5;28mcls\u001b[39m, dumpwrap, notes_iter):\n\u001b[1;32m     24\u001b[0m     notes \u001b[38;5;241m=\u001b[39m \u001b[38;5;28mcls\u001b[39m(dumpwrap)\n\u001b[0;32m---> 25\u001b[0m     notes\u001b[38;5;241m.\u001b[39mnotes_list \u001b[38;5;241m=\u001b[39m \u001b[38;5;28;43mlist\u001b[39;49m\u001b[43m(\u001b[49m\u001b[43mnotes_iter\u001b[49m\u001b[43m)\u001b[49m\n\u001b[1;32m     26\u001b[0m     notes\u001b[38;5;241m.\u001b[39mrecalc_dates()\n\u001b[1;32m     27\u001b[0m     \u001b[38;5;28;01mreturn\u001b[39;00m notes\n",
      "File \u001b[0;32m~/prozhitotools/notes.py:72\u001b[0m, in \u001b[0;36mProzhitoNotes.get_note_by_date\u001b[0;34m(self, di)\u001b[0m\n\u001b[1;32m     69\u001b[0m     \u001b[38;5;28;01mwith\u001b[39;00m \u001b[38;5;28mopen\u001b[39m(\u001b[38;5;28mself\u001b[39m\u001b[38;5;241m.\u001b[39mdates_filename, \u001b[38;5;124m'\u001b[39m\u001b[38;5;124mwb\u001b[39m\u001b[38;5;124m'\u001b[39m) \u001b[38;5;28;01mas\u001b[39;00m f:\n\u001b[1;32m     70\u001b[0m         pickle\u001b[38;5;241m.\u001b[39mdump(\u001b[38;5;28mself\u001b[39m\u001b[38;5;241m.\u001b[39mdates, f)\n\u001b[0;32m---> 72\u001b[0m \u001b[38;5;28;01mdef\u001b[39;00m \u001b[38;5;21mget_note_by_date\u001b[39m(\u001b[38;5;28mself\u001b[39m, di):\n\u001b[1;32m     73\u001b[0m     \u001b[38;5;28;01mreturn\u001b[39;00m \u001b[38;5;28mself\u001b[39m\u001b[38;5;241m.\u001b[39mnotes_list[di[\u001b[38;5;241m1\u001b[39m]]\n\u001b[1;32m     75\u001b[0m \u001b[38;5;28;01mdef\u001b[39;00m \u001b[38;5;21mget_note_by_date_index\u001b[39m(\u001b[38;5;28mself\u001b[39m, i):\n",
      "\u001b[0;31mKeyboardInterrupt\u001b[0m: "
     ]
    }
   ],
   "source": [
    "#функция для колонки с количеством записей в дневнике\n",
    "def record_number(row):\n",
    "    #for item in tqdm(row[\"ID дневника\"]):\n",
    "    diary_number = re.compile(\"@\"+str(row[\"ID дневника\"])+\"\\s\")\n",
    "    for line in dw.diaries:\n",
    "        if re.search(diary_number, str(line)):\n",
    "            number = len(line.notes)\n",
    "            return number\n",
    "meta_info_cleaned['Количество записей'] = meta_info_cleaned.apply(record_number, axis=1)"
   ]
  },
  {
   "cell_type": "code",
   "execution_count": 33,
   "id": "persistent-virgin",
   "metadata": {},
   "outputs": [
    {
     "data": {
      "application/vnd.jupyter.widget-view+json": {
       "model_id": "d43e55dbfa9142b7b9d32626824765e6",
       "version_major": 2,
       "version_minor": 0
      },
      "text/plain": [
       "  0%|          | 0/6283 [00:00<?, ?it/s]"
      ]
     },
     "metadata": {},
     "output_type": "display_data"
    }
   ],
   "source": [
    "#создаём колонку с периодом записи\n",
    "period_column = []\n",
    "for item in tqdm(meta_info_cleaned['Дата']):\n",
    "    #item = datetime.strptime(item, \"%Y-%m-%d\")\n",
    "    if item > datetime.strptime('1798-12-31', \"%Y-%m-%d\") and item <= datetime.strptime('1898-12-31', \"%Y-%m-%d\"):\n",
    "        period_column.append(\"Период 1\")\n",
    "    elif item > datetime.strptime('1898-12-31', \"%Y-%m-%d\") and item <= datetime.strptime('1938-12-31', \"%Y-%m-%d\"):\n",
    "        period_column.append(\"Период 2\")\n",
    "    elif item > datetime.strptime('1938-12-31', \"%Y-%m-%d\") and item <= datetime.strptime('1947-12-31', \"%Y-%m-%d\"):\n",
    "        period_column.append(\"Период 3\")\n",
    "    elif item > datetime.strptime('1947-12-31', \"%Y-%m-%d\") and item <= datetime.strptime('1979-12-31', \"%Y-%m-%d\"):\n",
    "        period_column.append(\"Период 4\")\n",
    "    elif item > datetime.strptime('1979-12-31', \"%Y-%m-%d\") and item <= datetime.strptime('2017-12-31', \"%Y-%m-%d\"):\n",
    "        period_column.append(\"Период 5\")\n",
    "    else:\n",
    "        period_column.append(\"\")"
   ]
  },
  {
   "cell_type": "code",
   "execution_count": 34,
   "id": "expired-spanish",
   "metadata": {},
   "outputs": [
    {
     "name": "stderr",
     "output_type": "stream",
     "text": [
      "/var/folders/3s/by9v925x5xd0hsnplvbq6j040000gp/T/ipykernel_2000/1912562062.py:2: SettingWithCopyWarning: \n",
      "A value is trying to be set on a copy of a slice from a DataFrame.\n",
      "Try using .loc[row_indexer,col_indexer] = value instead\n",
      "\n",
      "See the caveats in the documentation: https://pandas.pydata.org/pandas-docs/stable/user_guide/indexing.html#returning-a-view-versus-a-copy\n",
      "  meta_info_cleaned[\"Период\"] = period_column\n"
     ]
    }
   ],
   "source": [
    "#meta_info_cleaned[\"Количество записей\"] = numbers \n",
    "meta_info_cleaned[\"Период\"] = period_column"
   ]
  },
  {
   "cell_type": "code",
   "execution_count": 35,
   "id": "bigger-memorabilia",
   "metadata": {},
   "outputs": [
    {
     "data": {
      "text/html": [
       "<div>\n",
       "<style scoped>\n",
       "    .dataframe tbody tr th:only-of-type {\n",
       "        vertical-align: middle;\n",
       "    }\n",
       "\n",
       "    .dataframe tbody tr th {\n",
       "        vertical-align: top;\n",
       "    }\n",
       "\n",
       "    .dataframe thead th {\n",
       "        text-align: right;\n",
       "    }\n",
       "</style>\n",
       "<table border=\"1\" class=\"dataframe\">\n",
       "  <thead>\n",
       "    <tr style=\"text-align: right;\">\n",
       "      <th></th>\n",
       "      <th>ID</th>\n",
       "      <th>Автор</th>\n",
       "      <th>ID дневника</th>\n",
       "      <th>Дата</th>\n",
       "      <th>Гендер</th>\n",
       "      <th>Период</th>\n",
       "    </tr>\n",
       "  </thead>\n",
       "  <tbody>\n",
       "    <tr>\n",
       "      <th>0</th>\n",
       "      <td>140292</td>\n",
       "      <td>#507 Степан Петрович Жихарев</td>\n",
       "      <td>515</td>\n",
       "      <td>1805-07-20</td>\n",
       "      <td>Мужской</td>\n",
       "      <td>Период 1</td>\n",
       "    </tr>\n",
       "    <tr>\n",
       "      <th>1</th>\n",
       "      <td>444870</td>\n",
       "      <td>#719 Николай Дмитриевич Дурново</td>\n",
       "      <td>729</td>\n",
       "      <td>1812-01-22</td>\n",
       "      <td>Мужской</td>\n",
       "      <td>Период 1</td>\n",
       "    </tr>\n",
       "    <tr>\n",
       "      <th>2</th>\n",
       "      <td>178659</td>\n",
       "      <td>#763 Анна Алексеевна Андро</td>\n",
       "      <td>773</td>\n",
       "      <td>1828-10-06</td>\n",
       "      <td>Женский</td>\n",
       "      <td>Период 1</td>\n",
       "    </tr>\n",
       "    <tr>\n",
       "      <th>3</th>\n",
       "      <td>171755</td>\n",
       "      <td>#706 Алексей Николаевич Вульф</td>\n",
       "      <td>716</td>\n",
       "      <td>1831-02-10</td>\n",
       "      <td>Мужской</td>\n",
       "      <td>Период 1</td>\n",
       "    </tr>\n",
       "    <tr>\n",
       "      <th>4</th>\n",
       "      <td>442455</td>\n",
       "      <td>#790 Дарья Фёдоровна Фикельмон</td>\n",
       "      <td>800</td>\n",
       "      <td>1831-07-05</td>\n",
       "      <td>Женский</td>\n",
       "      <td>Период 1</td>\n",
       "    </tr>\n",
       "    <tr>\n",
       "      <th>...</th>\n",
       "      <td>...</td>\n",
       "      <td>...</td>\n",
       "      <td>...</td>\n",
       "      <td>...</td>\n",
       "      <td>...</td>\n",
       "      <td>...</td>\n",
       "    </tr>\n",
       "    <tr>\n",
       "      <th>7136</th>\n",
       "      <td>435616</td>\n",
       "      <td>#1949 Юрий Михайлович Кублановский</td>\n",
       "      <td>1959</td>\n",
       "      <td>2010-03-14</td>\n",
       "      <td>Мужской</td>\n",
       "      <td>Период 5</td>\n",
       "    </tr>\n",
       "    <tr>\n",
       "      <th>7137</th>\n",
       "      <td>394573</td>\n",
       "      <td>#2338 Ирина Львовна Шолохова</td>\n",
       "      <td>2348</td>\n",
       "      <td>2011-01-03</td>\n",
       "      <td>Женский</td>\n",
       "      <td>Период 5</td>\n",
       "    </tr>\n",
       "    <tr>\n",
       "      <th>7139</th>\n",
       "      <td>394581</td>\n",
       "      <td>#2338 Ирина Львовна Шолохова</td>\n",
       "      <td>2348</td>\n",
       "      <td>2012-12-02</td>\n",
       "      <td>Женский</td>\n",
       "      <td>Период 5</td>\n",
       "    </tr>\n",
       "    <tr>\n",
       "      <th>7140</th>\n",
       "      <td>394582</td>\n",
       "      <td>#2338 Ирина Львовна Шолохова</td>\n",
       "      <td>2348</td>\n",
       "      <td>2012-12-29</td>\n",
       "      <td>Женский</td>\n",
       "      <td>Период 5</td>\n",
       "    </tr>\n",
       "    <tr>\n",
       "      <th>7142</th>\n",
       "      <td>364873</td>\n",
       "      <td>#981 Галина Г. Ларская</td>\n",
       "      <td>991</td>\n",
       "      <td>2017-01-27</td>\n",
       "      <td>Женский</td>\n",
       "      <td>Период 5</td>\n",
       "    </tr>\n",
       "  </tbody>\n",
       "</table>\n",
       "<p>6283 rows × 6 columns</p>\n",
       "</div>"
      ],
      "text/plain": [
       "          ID                               Автор  ID дневника       Дата  \\\n",
       "0     140292        #507 Степан Петрович Жихарев          515 1805-07-20   \n",
       "1     444870     #719 Николай Дмитриевич Дурново          729 1812-01-22   \n",
       "2     178659          #763 Анна Алексеевна Андро          773 1828-10-06   \n",
       "3     171755       #706 Алексей Николаевич Вульф          716 1831-02-10   \n",
       "4     442455      #790 Дарья Фёдоровна Фикельмон          800 1831-07-05   \n",
       "...      ...                                 ...          ...        ...   \n",
       "7136  435616  #1949 Юрий Михайлович Кублановский         1959 2010-03-14   \n",
       "7137  394573        #2338 Ирина Львовна Шолохова         2348 2011-01-03   \n",
       "7139  394581        #2338 Ирина Львовна Шолохова         2348 2012-12-02   \n",
       "7140  394582        #2338 Ирина Львовна Шолохова         2348 2012-12-29   \n",
       "7142  364873              #981 Галина Г. Ларская          991 2017-01-27   \n",
       "\n",
       "       Гендер    Период  \n",
       "0     Мужской  Период 1  \n",
       "1     Мужской  Период 1  \n",
       "2     Женский  Период 1  \n",
       "3     Мужской  Период 1  \n",
       "4     Женский  Период 1  \n",
       "...       ...       ...  \n",
       "7136  Мужской  Период 5  \n",
       "7137  Женский  Период 5  \n",
       "7139  Женский  Период 5  \n",
       "7140  Женский  Период 5  \n",
       "7142  Женский  Период 5  \n",
       "\n",
       "[6283 rows x 6 columns]"
      ]
     },
     "execution_count": 35,
     "metadata": {},
     "output_type": "execute_result"
    }
   ],
   "source": [
    "meta_info_cleaned"
   ]
  },
  {
   "cell_type": "code",
   "execution_count": 148,
   "id": "numerical-aspect",
   "metadata": {},
   "outputs": [],
   "source": [
    "meta_info_cleaned.to_csv(\"prozhito_meta.csv\", index=False)"
   ]
  },
  {
   "cell_type": "code",
   "execution_count": 40,
   "id": "marine-moment",
   "metadata": {},
   "outputs": [],
   "source": [
    "#объединяем датафреймы\n",
    "full_meta_data = pd.merge(meta_info_cleaned, authors_data, left_on='ID автора', right_on='id', how='left').drop(['id', 'first_name', 'family_name', 'patronymic', 'gender', 'from_natasha', 'from_tags'], axis=1)"
   ]
  },
  {
   "cell_type": "code",
   "execution_count": 41,
   "id": "maritime-symphony",
   "metadata": {},
   "outputs": [
    {
     "data": {
      "text/html": [
       "<div>\n",
       "<style scoped>\n",
       "    .dataframe tbody tr th:only-of-type {\n",
       "        vertical-align: middle;\n",
       "    }\n",
       "\n",
       "    .dataframe tbody tr th {\n",
       "        vertical-align: top;\n",
       "    }\n",
       "\n",
       "    .dataframe thead th {\n",
       "        text-align: right;\n",
       "    }\n",
       "</style>\n",
       "<table border=\"1\" class=\"dataframe\">\n",
       "  <thead>\n",
       "    <tr style=\"text-align: right;\">\n",
       "      <th></th>\n",
       "      <th>ID</th>\n",
       "      <th>Автор</th>\n",
       "      <th>ID дневника</th>\n",
       "      <th>Дата</th>\n",
       "      <th>Гендер</th>\n",
       "      <th>ID автора</th>\n",
       "      <th>Период</th>\n",
       "      <th>birth_date</th>\n",
       "      <th>death_date</th>\n",
       "      <th>edition</th>\n",
       "      <th>additional_info</th>\n",
       "      <th>info</th>\n",
       "      <th>nickname</th>\n",
       "      <th>wiki</th>\n",
       "    </tr>\n",
       "  </thead>\n",
       "  <tbody>\n",
       "    <tr>\n",
       "      <th>0</th>\n",
       "      <td>140292</td>\n",
       "      <td>Степан Петрович Жихарев</td>\n",
       "      <td>515</td>\n",
       "      <td>1805-07-20</td>\n",
       "      <td>Мужской</td>\n",
       "      <td>507</td>\n",
       "      <td>Период 1</td>\n",
       "      <td>1787-02-28</td>\n",
       "      <td>1860-09-12</td>\n",
       "      <td>**Издание:** [* Жихарев С.П.* Записки современ...</td>\n",
       "      <td>NaN</td>\n",
       "      <td>Писатель, драматург, переводчик, сенатор, теат...</td>\n",
       "      <td>NaN</td>\n",
       "      <td>https://ru.wikipedia.org/wiki/%D0%96%D0%B8%D1%...</td>\n",
       "    </tr>\n",
       "    <tr>\n",
       "      <th>1</th>\n",
       "      <td>444870</td>\n",
       "      <td>Николай Дмитриевич Дурново</td>\n",
       "      <td>729</td>\n",
       "      <td>1812-01-22</td>\n",
       "      <td>Мужской</td>\n",
       "      <td>719</td>\n",
       "      <td>Период 1</td>\n",
       "      <td>1725-01-01</td>\n",
       "      <td>1816-12-31</td>\n",
       "      <td>**Издание:** [1812 год... Военные дневники / С...</td>\n",
       "      <td>NaN</td>\n",
       "      <td>Генерал-аншеф, сенатор.</td>\n",
       "      <td>NaN</td>\n",
       "      <td>https://ru.wikipedia.org/wiki/Дурново,_Николай...</td>\n",
       "    </tr>\n",
       "    <tr>\n",
       "      <th>2</th>\n",
       "      <td>178659</td>\n",
       "      <td>Анна Алексеевна Андро</td>\n",
       "      <td>773</td>\n",
       "      <td>1828-10-06</td>\n",
       "      <td>Женский</td>\n",
       "      <td>763</td>\n",
       "      <td>Период 1</td>\n",
       "      <td>1808-08-23</td>\n",
       "      <td>1888-12-27</td>\n",
       "      <td>**Издание:** \\n* *Оленина А.А. *Дневник. Воспо...</td>\n",
       "      <td>**Критика комментариев к изданию 1999 года: **...</td>\n",
       "      <td>Возлюбленная А.С. Пушкина.</td>\n",
       "      <td>Оленина</td>\n",
       "      <td>https://ru.wikipedia.org/wiki/Оленина,_Анна_Ал...</td>\n",
       "    </tr>\n",
       "    <tr>\n",
       "      <th>3</th>\n",
       "      <td>171755</td>\n",
       "      <td>Алексей Николаевич Вульф</td>\n",
       "      <td>716</td>\n",
       "      <td>1831-02-10</td>\n",
       "      <td>Мужской</td>\n",
       "      <td>706</td>\n",
       "      <td>Период 1</td>\n",
       "      <td>1805-12-28</td>\n",
       "      <td>1881-04-29</td>\n",
       "      <td>**Издания:** \\n* *А. Н. Вульф*. Дневники : Люб...</td>\n",
       "      <td>NaN</td>\n",
       "      <td>Мемуарист. Близкий друг [А. С. Пушкина](http:/...</td>\n",
       "      <td>NaN</td>\n",
       "      <td>https://ru.wikipedia.org/wiki/Вульф,_Алексей_Н...</td>\n",
       "    </tr>\n",
       "    <tr>\n",
       "      <th>4</th>\n",
       "      <td>442455</td>\n",
       "      <td>Дарья Фёдоровна Фикельмон</td>\n",
       "      <td>800</td>\n",
       "      <td>1831-07-05</td>\n",
       "      <td>Женский</td>\n",
       "      <td>790</td>\n",
       "      <td>Период 1</td>\n",
       "      <td>1804-10-26</td>\n",
       "      <td>1863-04-22</td>\n",
       "      <td>**Издания:**\\n\\n* *Kauchtschwili N.* Il diario...</td>\n",
       "      <td>* *Гиллельсон М. И.* Пушкин в итальянском изда...</td>\n",
       "      <td>Внучка [М. И. Кутузова](http://prozhito.org/pe...</td>\n",
       "      <td>Долли</td>\n",
       "      <td>https://ru.wikipedia.org/wiki/Фикельмон,_Дарья...</td>\n",
       "    </tr>\n",
       "    <tr>\n",
       "      <th>...</th>\n",
       "      <td>...</td>\n",
       "      <td>...</td>\n",
       "      <td>...</td>\n",
       "      <td>...</td>\n",
       "      <td>...</td>\n",
       "      <td>...</td>\n",
       "      <td>...</td>\n",
       "      <td>...</td>\n",
       "      <td>...</td>\n",
       "      <td>...</td>\n",
       "      <td>...</td>\n",
       "      <td>...</td>\n",
       "      <td>...</td>\n",
       "      <td>...</td>\n",
       "    </tr>\n",
       "    <tr>\n",
       "      <th>6278</th>\n",
       "      <td>435616</td>\n",
       "      <td>Юрий Михайлович Кублановский</td>\n",
       "      <td>1959</td>\n",
       "      <td>2010-03-14</td>\n",
       "      <td>Мужской</td>\n",
       "      <td>1949</td>\n",
       "      <td>Период 5</td>\n",
       "      <td>1947-04-30</td>\n",
       "      <td>NaN</td>\n",
       "      <td>**Издание:** *Кублановский Ю.* Год за год // Н...</td>\n",
       "      <td>NaN</td>\n",
       "      <td>Поэт и эссеист, публицист, критик, искусствовед.</td>\n",
       "      <td>NaN</td>\n",
       "      <td>https://ru.wikipedia.org/wiki/Кублановский,_Юр...</td>\n",
       "    </tr>\n",
       "    <tr>\n",
       "      <th>6279</th>\n",
       "      <td>394573</td>\n",
       "      <td>Ирина Львовна Шолохова</td>\n",
       "      <td>2348</td>\n",
       "      <td>2011-01-03</td>\n",
       "      <td>Женский</td>\n",
       "      <td>2338</td>\n",
       "      <td>Период 5</td>\n",
       "      <td>1971-04-15</td>\n",
       "      <td>NaN</td>\n",
       "      <td>Мы сердечно благодарим [автора](https://vk.com...</td>\n",
       "      <td>NaN</td>\n",
       "      <td>Ведущий специалист литературной части Санкт-Пе...</td>\n",
       "      <td>NaN</td>\n",
       "      <td>NaN</td>\n",
       "    </tr>\n",
       "    <tr>\n",
       "      <th>6280</th>\n",
       "      <td>394581</td>\n",
       "      <td>Ирина Львовна Шолохова</td>\n",
       "      <td>2348</td>\n",
       "      <td>2012-12-02</td>\n",
       "      <td>Женский</td>\n",
       "      <td>2338</td>\n",
       "      <td>Период 5</td>\n",
       "      <td>1971-04-15</td>\n",
       "      <td>NaN</td>\n",
       "      <td>Мы сердечно благодарим [автора](https://vk.com...</td>\n",
       "      <td>NaN</td>\n",
       "      <td>Ведущий специалист литературной части Санкт-Пе...</td>\n",
       "      <td>NaN</td>\n",
       "      <td>NaN</td>\n",
       "    </tr>\n",
       "    <tr>\n",
       "      <th>6281</th>\n",
       "      <td>394582</td>\n",
       "      <td>Ирина Львовна Шолохова</td>\n",
       "      <td>2348</td>\n",
       "      <td>2012-12-29</td>\n",
       "      <td>Женский</td>\n",
       "      <td>2338</td>\n",
       "      <td>Период 5</td>\n",
       "      <td>1971-04-15</td>\n",
       "      <td>NaN</td>\n",
       "      <td>Мы сердечно благодарим [автора](https://vk.com...</td>\n",
       "      <td>NaN</td>\n",
       "      <td>Ведущий специалист литературной части Санкт-Пе...</td>\n",
       "      <td>NaN</td>\n",
       "      <td>NaN</td>\n",
       "    </tr>\n",
       "    <tr>\n",
       "      <th>6282</th>\n",
       "      <td>364873</td>\n",
       "      <td>Галина Г. Ларская</td>\n",
       "      <td>991</td>\n",
       "      <td>2017-01-27</td>\n",
       "      <td>Женский</td>\n",
       "      <td>981</td>\n",
       "      <td>Период 5</td>\n",
       "      <td>NaN</td>\n",
       "      <td>NaN</td>\n",
       "      <td>Текст закрыт на время согласования публикации ...</td>\n",
       "      <td>## Автобиография Галины Ларской\\n\\nРодилась я ...</td>\n",
       "      <td>Певица, художница, поэтесса, преподаватель фор...</td>\n",
       "      <td>NaN</td>\n",
       "      <td>NaN</td>\n",
       "    </tr>\n",
       "  </tbody>\n",
       "</table>\n",
       "<p>6283 rows × 14 columns</p>\n",
       "</div>"
      ],
      "text/plain": [
       "          ID                         Автор  ID дневника       Дата   Гендер  \\\n",
       "0     140292       Степан Петрович Жихарев          515 1805-07-20  Мужской   \n",
       "1     444870    Николай Дмитриевич Дурново          729 1812-01-22  Мужской   \n",
       "2     178659         Анна Алексеевна Андро          773 1828-10-06  Женский   \n",
       "3     171755      Алексей Николаевич Вульф          716 1831-02-10  Мужской   \n",
       "4     442455     Дарья Фёдоровна Фикельмон          800 1831-07-05  Женский   \n",
       "...      ...                           ...          ...        ...      ...   \n",
       "6278  435616  Юрий Михайлович Кублановский         1959 2010-03-14  Мужской   \n",
       "6279  394573        Ирина Львовна Шолохова         2348 2011-01-03  Женский   \n",
       "6280  394581        Ирина Львовна Шолохова         2348 2012-12-02  Женский   \n",
       "6281  394582        Ирина Львовна Шолохова         2348 2012-12-29  Женский   \n",
       "6282  364873             Галина Г. Ларская          991 2017-01-27  Женский   \n",
       "\n",
       "      ID автора    Период  birth_date  death_date  \\\n",
       "0           507  Период 1  1787-02-28  1860-09-12   \n",
       "1           719  Период 1  1725-01-01  1816-12-31   \n",
       "2           763  Период 1  1808-08-23  1888-12-27   \n",
       "3           706  Период 1  1805-12-28  1881-04-29   \n",
       "4           790  Период 1  1804-10-26  1863-04-22   \n",
       "...         ...       ...         ...         ...   \n",
       "6278       1949  Период 5  1947-04-30         NaN   \n",
       "6279       2338  Период 5  1971-04-15         NaN   \n",
       "6280       2338  Период 5  1971-04-15         NaN   \n",
       "6281       2338  Период 5  1971-04-15         NaN   \n",
       "6282        981  Период 5         NaN         NaN   \n",
       "\n",
       "                                                edition  \\\n",
       "0     **Издание:** [* Жихарев С.П.* Записки современ...   \n",
       "1     **Издание:** [1812 год... Военные дневники / С...   \n",
       "2     **Издание:** \\n* *Оленина А.А. *Дневник. Воспо...   \n",
       "3     **Издания:** \\n* *А. Н. Вульф*. Дневники : Люб...   \n",
       "4     **Издания:**\\n\\n* *Kauchtschwili N.* Il diario...   \n",
       "...                                                 ...   \n",
       "6278  **Издание:** *Кублановский Ю.* Год за год // Н...   \n",
       "6279  Мы сердечно благодарим [автора](https://vk.com...   \n",
       "6280  Мы сердечно благодарим [автора](https://vk.com...   \n",
       "6281  Мы сердечно благодарим [автора](https://vk.com...   \n",
       "6282  Текст закрыт на время согласования публикации ...   \n",
       "\n",
       "                                        additional_info  \\\n",
       "0                                                   NaN   \n",
       "1                                                   NaN   \n",
       "2     **Критика комментариев к изданию 1999 года: **...   \n",
       "3                                                   NaN   \n",
       "4     * *Гиллельсон М. И.* Пушкин в итальянском изда...   \n",
       "...                                                 ...   \n",
       "6278                                                NaN   \n",
       "6279                                                NaN   \n",
       "6280                                                NaN   \n",
       "6281                                                NaN   \n",
       "6282  ## Автобиография Галины Ларской\\n\\nРодилась я ...   \n",
       "\n",
       "                                                   info nickname  \\\n",
       "0     Писатель, драматург, переводчик, сенатор, теат...      NaN   \n",
       "1                               Генерал-аншеф, сенатор.      NaN   \n",
       "2                            Возлюбленная А.С. Пушкина.  Оленина   \n",
       "3     Мемуарист. Близкий друг [А. С. Пушкина](http:/...      NaN   \n",
       "4     Внучка [М. И. Кутузова](http://prozhito.org/pe...    Долли   \n",
       "...                                                 ...      ...   \n",
       "6278   Поэт и эссеист, публицист, критик, искусствовед.      NaN   \n",
       "6279  Ведущий специалист литературной части Санкт-Пе...      NaN   \n",
       "6280  Ведущий специалист литературной части Санкт-Пе...      NaN   \n",
       "6281  Ведущий специалист литературной части Санкт-Пе...      NaN   \n",
       "6282  Певица, художница, поэтесса, преподаватель фор...      NaN   \n",
       "\n",
       "                                                   wiki  \n",
       "0     https://ru.wikipedia.org/wiki/%D0%96%D0%B8%D1%...  \n",
       "1     https://ru.wikipedia.org/wiki/Дурново,_Николай...  \n",
       "2     https://ru.wikipedia.org/wiki/Оленина,_Анна_Ал...  \n",
       "3     https://ru.wikipedia.org/wiki/Вульф,_Алексей_Н...  \n",
       "4     https://ru.wikipedia.org/wiki/Фикельмон,_Дарья...  \n",
       "...                                                 ...  \n",
       "6278  https://ru.wikipedia.org/wiki/Кублановский,_Юр...  \n",
       "6279                                                NaN  \n",
       "6280                                                NaN  \n",
       "6281                                                NaN  \n",
       "6282                                                NaN  \n",
       "\n",
       "[6283 rows x 14 columns]"
      ]
     },
     "execution_count": 41,
     "metadata": {},
     "output_type": "execute_result"
    }
   ],
   "source": [
    "full_meta_data"
   ]
  },
  {
   "cell_type": "code",
   "execution_count": 42,
   "id": "departmental-scale",
   "metadata": {},
   "outputs": [],
   "source": [
    "full_meta_data['birth_date'] = pd.to_datetime(full_meta_data['birth_date'], format='%Y-%m-%d')\n",
    "full_meta_data['death_date'] = pd.to_datetime(full_meta_data['death_date'], format='%Y-%m-%d', errors = 'coerce')\n",
    "full_meta_data['Дата'] = pd.to_datetime(full_meta_data['Дата'], format='(%Y, %m, %d)')"
   ]
  },
  {
   "cell_type": "code",
   "execution_count": 43,
   "id": "presidential-cemetery",
   "metadata": {},
   "outputs": [],
   "source": [
    "full_meta_data['date_year'] = full_meta_data.Дата.apply(lambda x: x.year)\n",
    "full_meta_data['birth_date_year'] = full_meta_data.birth_date.apply(lambda x: x.year)\n",
    "full_meta_data['age'] = full_meta_data['date_year'] - full_meta_data['birth_date_year']"
   ]
  },
  {
   "cell_type": "code",
   "execution_count": 44,
   "id": "approximate-cannon",
   "metadata": {},
   "outputs": [
    {
     "data": {
      "text/html": [
       "<div>\n",
       "<style scoped>\n",
       "    .dataframe tbody tr th:only-of-type {\n",
       "        vertical-align: middle;\n",
       "    }\n",
       "\n",
       "    .dataframe tbody tr th {\n",
       "        vertical-align: top;\n",
       "    }\n",
       "\n",
       "    .dataframe thead th {\n",
       "        text-align: right;\n",
       "    }\n",
       "</style>\n",
       "<table border=\"1\" class=\"dataframe\">\n",
       "  <thead>\n",
       "    <tr style=\"text-align: right;\">\n",
       "      <th></th>\n",
       "      <th>ID</th>\n",
       "      <th>Автор</th>\n",
       "      <th>ID дневника</th>\n",
       "      <th>Дата</th>\n",
       "      <th>Гендер</th>\n",
       "      <th>ID автора</th>\n",
       "      <th>Период</th>\n",
       "      <th>birth_date</th>\n",
       "      <th>death_date</th>\n",
       "      <th>edition</th>\n",
       "      <th>additional_info</th>\n",
       "      <th>info</th>\n",
       "      <th>nickname</th>\n",
       "      <th>wiki</th>\n",
       "      <th>age</th>\n",
       "    </tr>\n",
       "  </thead>\n",
       "  <tbody>\n",
       "    <tr>\n",
       "      <th>0</th>\n",
       "      <td>140292</td>\n",
       "      <td>Степан Петрович Жихарев</td>\n",
       "      <td>515</td>\n",
       "      <td>1805-07-20</td>\n",
       "      <td>Мужской</td>\n",
       "      <td>507</td>\n",
       "      <td>Период 1</td>\n",
       "      <td>1787-02-28</td>\n",
       "      <td>1860-09-12</td>\n",
       "      <td>**Издание:** [* Жихарев С.П.* Записки современ...</td>\n",
       "      <td>NaN</td>\n",
       "      <td>Писатель, драматург, переводчик, сенатор, теат...</td>\n",
       "      <td>NaN</td>\n",
       "      <td>https://ru.wikipedia.org/wiki/%D0%96%D0%B8%D1%...</td>\n",
       "      <td>18.0</td>\n",
       "    </tr>\n",
       "    <tr>\n",
       "      <th>1</th>\n",
       "      <td>444870</td>\n",
       "      <td>Николай Дмитриевич Дурново</td>\n",
       "      <td>729</td>\n",
       "      <td>1812-01-22</td>\n",
       "      <td>Мужской</td>\n",
       "      <td>719</td>\n",
       "      <td>Период 1</td>\n",
       "      <td>1725-01-01</td>\n",
       "      <td>1816-12-31</td>\n",
       "      <td>**Издание:** [1812 год... Военные дневники / С...</td>\n",
       "      <td>NaN</td>\n",
       "      <td>Генерал-аншеф, сенатор.</td>\n",
       "      <td>NaN</td>\n",
       "      <td>https://ru.wikipedia.org/wiki/Дурново,_Николай...</td>\n",
       "      <td>87.0</td>\n",
       "    </tr>\n",
       "    <tr>\n",
       "      <th>2</th>\n",
       "      <td>178659</td>\n",
       "      <td>Анна Алексеевна Андро</td>\n",
       "      <td>773</td>\n",
       "      <td>1828-10-06</td>\n",
       "      <td>Женский</td>\n",
       "      <td>763</td>\n",
       "      <td>Период 1</td>\n",
       "      <td>1808-08-23</td>\n",
       "      <td>1888-12-27</td>\n",
       "      <td>**Издание:** \\n* *Оленина А.А. *Дневник. Воспо...</td>\n",
       "      <td>**Критика комментариев к изданию 1999 года: **...</td>\n",
       "      <td>Возлюбленная А.С. Пушкина.</td>\n",
       "      <td>Оленина</td>\n",
       "      <td>https://ru.wikipedia.org/wiki/Оленина,_Анна_Ал...</td>\n",
       "      <td>20.0</td>\n",
       "    </tr>\n",
       "    <tr>\n",
       "      <th>3</th>\n",
       "      <td>171755</td>\n",
       "      <td>Алексей Николаевич Вульф</td>\n",
       "      <td>716</td>\n",
       "      <td>1831-02-10</td>\n",
       "      <td>Мужской</td>\n",
       "      <td>706</td>\n",
       "      <td>Период 1</td>\n",
       "      <td>1805-12-28</td>\n",
       "      <td>1881-04-29</td>\n",
       "      <td>**Издания:** \\n* *А. Н. Вульф*. Дневники : Люб...</td>\n",
       "      <td>NaN</td>\n",
       "      <td>Мемуарист. Близкий друг [А. С. Пушкина](http:/...</td>\n",
       "      <td>NaN</td>\n",
       "      <td>https://ru.wikipedia.org/wiki/Вульф,_Алексей_Н...</td>\n",
       "      <td>26.0</td>\n",
       "    </tr>\n",
       "    <tr>\n",
       "      <th>4</th>\n",
       "      <td>442455</td>\n",
       "      <td>Дарья Фёдоровна Фикельмон</td>\n",
       "      <td>800</td>\n",
       "      <td>1831-07-05</td>\n",
       "      <td>Женский</td>\n",
       "      <td>790</td>\n",
       "      <td>Период 1</td>\n",
       "      <td>1804-10-26</td>\n",
       "      <td>1863-04-22</td>\n",
       "      <td>**Издания:**\\n\\n* *Kauchtschwili N.* Il diario...</td>\n",
       "      <td>* *Гиллельсон М. И.* Пушкин в итальянском изда...</td>\n",
       "      <td>Внучка [М. И. Кутузова](http://prozhito.org/pe...</td>\n",
       "      <td>Долли</td>\n",
       "      <td>https://ru.wikipedia.org/wiki/Фикельмон,_Дарья...</td>\n",
       "      <td>27.0</td>\n",
       "    </tr>\n",
       "    <tr>\n",
       "      <th>...</th>\n",
       "      <td>...</td>\n",
       "      <td>...</td>\n",
       "      <td>...</td>\n",
       "      <td>...</td>\n",
       "      <td>...</td>\n",
       "      <td>...</td>\n",
       "      <td>...</td>\n",
       "      <td>...</td>\n",
       "      <td>...</td>\n",
       "      <td>...</td>\n",
       "      <td>...</td>\n",
       "      <td>...</td>\n",
       "      <td>...</td>\n",
       "      <td>...</td>\n",
       "      <td>...</td>\n",
       "    </tr>\n",
       "    <tr>\n",
       "      <th>6278</th>\n",
       "      <td>435616</td>\n",
       "      <td>Юрий Михайлович Кублановский</td>\n",
       "      <td>1959</td>\n",
       "      <td>2010-03-14</td>\n",
       "      <td>Мужской</td>\n",
       "      <td>1949</td>\n",
       "      <td>Период 5</td>\n",
       "      <td>1947-04-30</td>\n",
       "      <td>NaT</td>\n",
       "      <td>**Издание:** *Кублановский Ю.* Год за год // Н...</td>\n",
       "      <td>NaN</td>\n",
       "      <td>Поэт и эссеист, публицист, критик, искусствовед.</td>\n",
       "      <td>NaN</td>\n",
       "      <td>https://ru.wikipedia.org/wiki/Кублановский,_Юр...</td>\n",
       "      <td>63.0</td>\n",
       "    </tr>\n",
       "    <tr>\n",
       "      <th>6279</th>\n",
       "      <td>394573</td>\n",
       "      <td>Ирина Львовна Шолохова</td>\n",
       "      <td>2348</td>\n",
       "      <td>2011-01-03</td>\n",
       "      <td>Женский</td>\n",
       "      <td>2338</td>\n",
       "      <td>Период 5</td>\n",
       "      <td>1971-04-15</td>\n",
       "      <td>NaT</td>\n",
       "      <td>Мы сердечно благодарим [автора](https://vk.com...</td>\n",
       "      <td>NaN</td>\n",
       "      <td>Ведущий специалист литературной части Санкт-Пе...</td>\n",
       "      <td>NaN</td>\n",
       "      <td>NaN</td>\n",
       "      <td>40.0</td>\n",
       "    </tr>\n",
       "    <tr>\n",
       "      <th>6280</th>\n",
       "      <td>394581</td>\n",
       "      <td>Ирина Львовна Шолохова</td>\n",
       "      <td>2348</td>\n",
       "      <td>2012-12-02</td>\n",
       "      <td>Женский</td>\n",
       "      <td>2338</td>\n",
       "      <td>Период 5</td>\n",
       "      <td>1971-04-15</td>\n",
       "      <td>NaT</td>\n",
       "      <td>Мы сердечно благодарим [автора](https://vk.com...</td>\n",
       "      <td>NaN</td>\n",
       "      <td>Ведущий специалист литературной части Санкт-Пе...</td>\n",
       "      <td>NaN</td>\n",
       "      <td>NaN</td>\n",
       "      <td>41.0</td>\n",
       "    </tr>\n",
       "    <tr>\n",
       "      <th>6281</th>\n",
       "      <td>394582</td>\n",
       "      <td>Ирина Львовна Шолохова</td>\n",
       "      <td>2348</td>\n",
       "      <td>2012-12-29</td>\n",
       "      <td>Женский</td>\n",
       "      <td>2338</td>\n",
       "      <td>Период 5</td>\n",
       "      <td>1971-04-15</td>\n",
       "      <td>NaT</td>\n",
       "      <td>Мы сердечно благодарим [автора](https://vk.com...</td>\n",
       "      <td>NaN</td>\n",
       "      <td>Ведущий специалист литературной части Санкт-Пе...</td>\n",
       "      <td>NaN</td>\n",
       "      <td>NaN</td>\n",
       "      <td>41.0</td>\n",
       "    </tr>\n",
       "    <tr>\n",
       "      <th>6282</th>\n",
       "      <td>364873</td>\n",
       "      <td>Галина Г. Ларская</td>\n",
       "      <td>991</td>\n",
       "      <td>2017-01-27</td>\n",
       "      <td>Женский</td>\n",
       "      <td>981</td>\n",
       "      <td>Период 5</td>\n",
       "      <td>NaT</td>\n",
       "      <td>NaT</td>\n",
       "      <td>Текст закрыт на время согласования публикации ...</td>\n",
       "      <td>## Автобиография Галины Ларской\\n\\nРодилась я ...</td>\n",
       "      <td>Певица, художница, поэтесса, преподаватель фор...</td>\n",
       "      <td>NaN</td>\n",
       "      <td>NaN</td>\n",
       "      <td>NaN</td>\n",
       "    </tr>\n",
       "  </tbody>\n",
       "</table>\n",
       "<p>6283 rows × 15 columns</p>\n",
       "</div>"
      ],
      "text/plain": [
       "          ID                         Автор  ID дневника       Дата   Гендер  \\\n",
       "0     140292       Степан Петрович Жихарев          515 1805-07-20  Мужской   \n",
       "1     444870    Николай Дмитриевич Дурново          729 1812-01-22  Мужской   \n",
       "2     178659         Анна Алексеевна Андро          773 1828-10-06  Женский   \n",
       "3     171755      Алексей Николаевич Вульф          716 1831-02-10  Мужской   \n",
       "4     442455     Дарья Фёдоровна Фикельмон          800 1831-07-05  Женский   \n",
       "...      ...                           ...          ...        ...      ...   \n",
       "6278  435616  Юрий Михайлович Кублановский         1959 2010-03-14  Мужской   \n",
       "6279  394573        Ирина Львовна Шолохова         2348 2011-01-03  Женский   \n",
       "6280  394581        Ирина Львовна Шолохова         2348 2012-12-02  Женский   \n",
       "6281  394582        Ирина Львовна Шолохова         2348 2012-12-29  Женский   \n",
       "6282  364873             Галина Г. Ларская          991 2017-01-27  Женский   \n",
       "\n",
       "      ID автора    Период birth_date death_date  \\\n",
       "0           507  Период 1 1787-02-28 1860-09-12   \n",
       "1           719  Период 1 1725-01-01 1816-12-31   \n",
       "2           763  Период 1 1808-08-23 1888-12-27   \n",
       "3           706  Период 1 1805-12-28 1881-04-29   \n",
       "4           790  Период 1 1804-10-26 1863-04-22   \n",
       "...         ...       ...        ...        ...   \n",
       "6278       1949  Период 5 1947-04-30        NaT   \n",
       "6279       2338  Период 5 1971-04-15        NaT   \n",
       "6280       2338  Период 5 1971-04-15        NaT   \n",
       "6281       2338  Период 5 1971-04-15        NaT   \n",
       "6282        981  Период 5        NaT        NaT   \n",
       "\n",
       "                                                edition  \\\n",
       "0     **Издание:** [* Жихарев С.П.* Записки современ...   \n",
       "1     **Издание:** [1812 год... Военные дневники / С...   \n",
       "2     **Издание:** \\n* *Оленина А.А. *Дневник. Воспо...   \n",
       "3     **Издания:** \\n* *А. Н. Вульф*. Дневники : Люб...   \n",
       "4     **Издания:**\\n\\n* *Kauchtschwili N.* Il diario...   \n",
       "...                                                 ...   \n",
       "6278  **Издание:** *Кублановский Ю.* Год за год // Н...   \n",
       "6279  Мы сердечно благодарим [автора](https://vk.com...   \n",
       "6280  Мы сердечно благодарим [автора](https://vk.com...   \n",
       "6281  Мы сердечно благодарим [автора](https://vk.com...   \n",
       "6282  Текст закрыт на время согласования публикации ...   \n",
       "\n",
       "                                        additional_info  \\\n",
       "0                                                   NaN   \n",
       "1                                                   NaN   \n",
       "2     **Критика комментариев к изданию 1999 года: **...   \n",
       "3                                                   NaN   \n",
       "4     * *Гиллельсон М. И.* Пушкин в итальянском изда...   \n",
       "...                                                 ...   \n",
       "6278                                                NaN   \n",
       "6279                                                NaN   \n",
       "6280                                                NaN   \n",
       "6281                                                NaN   \n",
       "6282  ## Автобиография Галины Ларской\\n\\nРодилась я ...   \n",
       "\n",
       "                                                   info nickname  \\\n",
       "0     Писатель, драматург, переводчик, сенатор, теат...      NaN   \n",
       "1                               Генерал-аншеф, сенатор.      NaN   \n",
       "2                            Возлюбленная А.С. Пушкина.  Оленина   \n",
       "3     Мемуарист. Близкий друг [А. С. Пушкина](http:/...      NaN   \n",
       "4     Внучка [М. И. Кутузова](http://prozhito.org/pe...    Долли   \n",
       "...                                                 ...      ...   \n",
       "6278   Поэт и эссеист, публицист, критик, искусствовед.      NaN   \n",
       "6279  Ведущий специалист литературной части Санкт-Пе...      NaN   \n",
       "6280  Ведущий специалист литературной части Санкт-Пе...      NaN   \n",
       "6281  Ведущий специалист литературной части Санкт-Пе...      NaN   \n",
       "6282  Певица, художница, поэтесса, преподаватель фор...      NaN   \n",
       "\n",
       "                                                   wiki   age  \n",
       "0     https://ru.wikipedia.org/wiki/%D0%96%D0%B8%D1%...  18.0  \n",
       "1     https://ru.wikipedia.org/wiki/Дурново,_Николай...  87.0  \n",
       "2     https://ru.wikipedia.org/wiki/Оленина,_Анна_Ал...  20.0  \n",
       "3     https://ru.wikipedia.org/wiki/Вульф,_Алексей_Н...  26.0  \n",
       "4     https://ru.wikipedia.org/wiki/Фикельмон,_Дарья...  27.0  \n",
       "...                                                 ...   ...  \n",
       "6278  https://ru.wikipedia.org/wiki/Кублановский,_Юр...  63.0  \n",
       "6279                                                NaN  40.0  \n",
       "6280                                                NaN  41.0  \n",
       "6281                                                NaN  41.0  \n",
       "6282                                                NaN   NaN  \n",
       "\n",
       "[6283 rows x 15 columns]"
      ]
     },
     "execution_count": 44,
     "metadata": {},
     "output_type": "execute_result"
    }
   ],
   "source": [
    "full_meta_data.drop(['date_year', 'birth_date_year'], axis=1)"
   ]
  },
  {
   "cell_type": "code",
   "execution_count": 44,
   "id": "agricultural-representative",
   "metadata": {},
   "outputs": [
    {
     "name": "stdout",
     "output_type": "stream",
     "text": [
      "440 1705 1486 1283 894\n"
     ]
    }
   ],
   "source": [
    "#считаем возрастные группы\n",
    "counter1 = 0\n",
    "counter2 = 0\n",
    "counter3 = 0\n",
    "counter4 = 0\n",
    "counter5 = 0\n",
    "for item in full_meta_data[\"age\"]:\n",
    "    if item <= 16:\n",
    "        counter1 += 1\n",
    "for item in full_meta_data[\"age\"]:\n",
    "    if item > 16 and item <= 26: \n",
    "        counter2 += 1\n",
    "for item in full_meta_data[\"age\"]:\n",
    "    if item > 26 and item <= 41: \n",
    "        counter3 += 1\n",
    "for item in full_meta_data[\"age\"]:\n",
    "    if item > 41 and item <= 60: \n",
    "        counter4 += 1\n",
    "for item in full_meta_data[\"age\"]:\n",
    "    if item > 60: \n",
    "        counter5 += 1\n",
    "print(counter1, counter2, counter3, counter4, counter5)"
   ]
  },
  {
   "cell_type": "code",
   "execution_count": 407,
   "id": "heated-chicken",
   "metadata": {},
   "outputs": [],
   "source": [
    "#meta_info_cleaned[meta_info_cleaned['Автор'].str.contains(\"#78 Евгений Львович Шварц\")]"
   ]
  },
  {
   "cell_type": "code",
   "execution_count": 45,
   "id": "settled-visitor",
   "metadata": {},
   "outputs": [],
   "source": [
    "#Объединяем авторов в один датафрейм, чтобы посчитать среднее эмоциональное\n",
    "\n",
    "authors4_corpus = meta_4.Автор.value_counts()\n",
    "authors4_corpus = pd.DataFrame(authors4_corpus)\n",
    "authors4_corpus = authors4_corpus.reset_index()\n",
    "authors4_corpus.columns = [\"Author\", \"2\"]"
   ]
  },
  {
   "cell_type": "code",
   "execution_count": 47,
   "id": "expensive-maintenance",
   "metadata": {},
   "outputs": [
    {
     "data": {
      "text/plain": [
       "138"
      ]
     },
     "execution_count": 47,
     "metadata": {},
     "output_type": "execute_result"
    }
   ],
   "source": [
    "len(authors4_corpus[\"Author\"])"
   ]
  },
  {
   "cell_type": "code",
   "execution_count": 48,
   "id": "photographic-payroll",
   "metadata": {},
   "outputs": [
    {
     "ename": "NameError",
     "evalue": "name 'authors_4' is not defined",
     "output_type": "error",
     "traceback": [
      "\u001b[0;31m---------------------------------------------------------------------------\u001b[0m",
      "\u001b[0;31mNameError\u001b[0m                                 Traceback (most recent call last)",
      "\u001b[0;32m<ipython-input-48-e0580472cbc0>\u001b[0m in \u001b[0;36m<module>\u001b[0;34m\u001b[0m\n\u001b[0;32m----> 1\u001b[0;31m \u001b[0mauthors4_full\u001b[0m \u001b[0;34m=\u001b[0m \u001b[0mpd\u001b[0m\u001b[0;34m.\u001b[0m\u001b[0mmerge\u001b[0m\u001b[0;34m(\u001b[0m\u001b[0mauthors_4\u001b[0m\u001b[0;34m,\u001b[0m \u001b[0mauthors4_corpus\u001b[0m\u001b[0;34m,\u001b[0m \u001b[0mon\u001b[0m\u001b[0;34m=\u001b[0m\u001b[0;34m\"Author\"\u001b[0m\u001b[0;34m)\u001b[0m\u001b[0;34m\u001b[0m\u001b[0;34m\u001b[0m\u001b[0m\n\u001b[0m",
      "\u001b[0;31mNameError\u001b[0m: name 'authors_4' is not defined"
     ]
    }
   ],
   "source": [
    "authors4_full = pd.merge(authors_4, authors4_corpus, on=\"Author\")"
   ]
  },
  {
   "cell_type": "code",
   "execution_count": 494,
   "id": "basic-publisher",
   "metadata": {},
   "outputs": [
    {
     "data": {
      "text/plain": [
       "0.054407282287850876"
      ]
     },
     "execution_count": 494,
     "metadata": {},
     "output_type": "execute_result"
    }
   ],
   "source": [
    "new_column = authors4_full[\"2\"] / authors4_full[\"1\"]\n",
    "authors4_full[\"3\"] = new_column\n",
    "authors4_full[\"3\"].mean()"
   ]
  },
  {
   "cell_type": "code",
   "execution_count": 500,
   "id": "talented-teacher",
   "metadata": {},
   "outputs": [],
   "source": [
    "#То же самое с 3 периодом\n",
    "authors3_corpus = meta_3.Автор.value_counts()\n",
    "authors3_corpus = pd.DataFrame(authors3_corpus)\n",
    "authors3_corpus = authors3_corpus.reset_index()\n",
    "authors3_corpus.columns = [\"Author\", \"2\"]"
   ]
  },
  {
   "cell_type": "code",
   "execution_count": 501,
   "id": "instructional-religious",
   "metadata": {},
   "outputs": [],
   "source": [
    "authors3_full = pd.merge(authors_3, authors3_corpus, on=\"Author\")"
   ]
  },
  {
   "cell_type": "code",
   "execution_count": 502,
   "id": "mental-programming",
   "metadata": {},
   "outputs": [
    {
     "data": {
      "text/plain": [
       "0.05215995940294942"
      ]
     },
     "execution_count": 502,
     "metadata": {},
     "output_type": "execute_result"
    }
   ],
   "source": [
    "new_column = authors3_full[\"2\"] / authors3_full[\"1\"]\n",
    "authors3_full[\"3\"] = new_column\n",
    "authors3_full[\"3\"].mean()"
   ]
  },
  {
   "cell_type": "code",
   "execution_count": 512,
   "id": "previous-entity",
   "metadata": {},
   "outputs": [],
   "source": [
    "#Второй период\n",
    "authors2_corpus = meta_2.Автор.value_counts()\n",
    "authors2_corpus = pd.DataFrame(authors2_corpus)\n",
    "authors2_corpus = authors2_corpus.reset_index()\n",
    "authors2_corpus.columns = [\"Author\", \"2\"]"
   ]
  },
  {
   "cell_type": "code",
   "execution_count": 513,
   "id": "living-antique",
   "metadata": {},
   "outputs": [
    {
     "data": {
      "text/plain": [
       "0.042479003633874815"
      ]
     },
     "execution_count": 513,
     "metadata": {},
     "output_type": "execute_result"
    }
   ],
   "source": [
    "authors2_full = pd.merge(authors_2, authors2_corpus, on=\"Author\")\n",
    "new_column = authors2_full[\"2\"] / authors2_full[\"1\"]\n",
    "authors3_full[\"3\"] = new_column\n",
    "authors3_full[\"3\"].mean()"
   ]
  },
  {
   "cell_type": "code",
   "execution_count": 514,
   "id": "accurate-scale",
   "metadata": {},
   "outputs": [],
   "source": [
    "#Первый период\n",
    "authors1_corpus = meta_1.Автор.value_counts()\n",
    "authors1_corpus = pd.DataFrame(authors1_corpus)\n",
    "authors1_corpus = authors1_corpus.reset_index()\n",
    "authors1_corpus.columns = [\"Author\", \"2\"]"
   ]
  },
  {
   "cell_type": "code",
   "execution_count": 515,
   "id": "apart-pipeline",
   "metadata": {},
   "outputs": [
    {
     "data": {
      "text/plain": [
       "0.06629841037155669"
      ]
     },
     "execution_count": 515,
     "metadata": {},
     "output_type": "execute_result"
    }
   ],
   "source": [
    "authors1_full = pd.merge(authors_1, authors1_corpus, on=\"Author\")\n",
    "new_column = authors1_full[\"2\"] / authors1_full[\"1\"]\n",
    "authors1_full[\"3\"] = new_column\n",
    "authors1_full[\"3\"].mean()"
   ]
  },
  {
   "cell_type": "code",
   "execution_count": 527,
   "id": "raised-seventh",
   "metadata": {},
   "outputs": [],
   "source": [
    "#Пятый период\n",
    "authors5_corpus = meta_5.Автор.value_counts()\n",
    "authors5_corpus = pd.DataFrame(authors5_corpus)\n",
    "authors5_corpus = authors5_corpus.reset_index()\n",
    "authors5_corpus.columns = [\"Author\", \"2\"]"
   ]
  },
  {
   "cell_type": "code",
   "execution_count": 528,
   "id": "herbal-survey",
   "metadata": {},
   "outputs": [
    {
     "data": {
      "text/plain": [
       "0.04132390911505409"
      ]
     },
     "execution_count": 528,
     "metadata": {},
     "output_type": "execute_result"
    }
   ],
   "source": [
    "authors5_full = pd.merge(authors_5, authors5_corpus, on=\"Author\")\n",
    "new_column = authors5_full[\"2\"] / authors5_full[\"1\"]\n",
    "authors5_full[\"3\"] = new_column\n",
    "authors5_full[\"3\"].mean()"
   ]
  },
  {
   "cell_type": "code",
   "execution_count": 39,
   "id": "comic-legend",
   "metadata": {},
   "outputs": [
    {
     "data": {
      "text/plain": [
       "#981 Галина Г. Ларская                                           73\n",
       "#78 Евгений Львович Шварц                                        46\n",
       "#565 Юлия Львовна Нельская-Сидур                                 34\n",
       "#1533 Нина Сергеевна Покровская                                  28\n",
       "#2477 Анхель  Гутьеррес                                          25\n",
       "#1285 Лидия Владимировна Барлас                                  22\n",
       "#1023 Яков Семёнович Друскин                                     21\n",
       "#959 Зинаида Степановна Лелянова                                 19\n",
       "#48 Николай Дмитриевич Мордвинов                                 19\n",
       "#215 Корней Иванович Чуковский                                   17\n",
       "#323 Георгий Анатольевич Елин                                    16\n",
       "#229 Александр Константинович Гладков                            16\n",
       "#1385 Эльвира Григорьевна Филипович                              16\n",
       "#257 Николай Николаевич Козаков                                  16\n",
       "#102 Валерий Сергеевич Золотухин                                 16\n",
       "#157 Эрлена Васильевна Лурье                                     16\n",
       "#50 Юрий Маркович Нагибин                                        15\n",
       "#183 Давид Самуилович Самойлов                                   14\n",
       "#590 Ольга Николаевна Ковалева                                   14\n",
       "#434 Лидия Корнеевна Чуковская                                   14\n",
       "#394 Елена Андреевна Шварц                                       14\n",
       "#189 Александр Трифонович Твардовский                            13\n",
       "#359 Ромэн  Гафанович Назиров                                    13\n",
       "#318 Владимир Афанасьевич Швец                                   13\n",
       "#129 Михаил Яковлевич Гробман                                    12\n",
       "#150 Юлия Александровна Кривулина                                12\n",
       "#386 Борис Иванович Вронский                                     12\n",
       "#2258 Олег Владимирович Амитров                                  11\n",
       "#311 Владимир  Яковлевич Лакшин                                  11\n",
       "#179 Виталий Аронович Рубин                                      11\n",
       "#476 Варвара Григорьевна Малахиева-Мирович                       10\n",
       "#163 Евгений Александрович Мравинский                            10\n",
       "#964 Алоиз Федорович Крылов                                       9\n",
       "#55 Григорий (Цви-Гирш) Израилевич Прейгерзон                     9\n",
       "#2368 Александр Михайлович Чугунов                                9\n",
       "#1604 Ольга Аскольдовна Сухова                                    9\n",
       "#528 Ира Федоровна Петровская                                     9\n",
       "#188 Андрей Арсеньевич Тарковский                                 9\n",
       "#343 Владимир Вениаминович Бибихин                                8\n",
       "#2251 Марк Александрович Поповский                                8\n",
       "#2091 Михаил Александрович Небогатов                              8\n",
       "#453 Александр Дмитриевич Шмеман                                  7\n",
       "#198 Любовь Васильевна Шапорина                                   7\n",
       "#885 Игорь Анатольевич Карпусь                                    7\n",
       "#2008 Татьяна Ефимовна Терешенкова                                7\n",
       "#662 Валентин Михайлович Пролейко                                 7\n",
       "#294 Анна  Малород                                                6\n",
       "#77 Мариэтта Сергеевна Шагинян                                    6\n",
       "#1913 Эркин Алимжанович Жолдасов                                  6\n",
       "#501 Алексей Иванович Кондратович                                 6\n",
       "#315 Анатолий  Сергеевич Черняев                                  6\n",
       "#880 Владислав Андреевич Золотарев                                6\n",
       "#579 Вера Алексеевна Зайцева                                      6\n",
       "#564 Святослав Теофилович Рихтер                                  5\n",
       "#57 Николай Семенович Работнов                                    5\n",
       "#2369 Варлам Тихонович Шаламов                                    5\n",
       "#39 Николай Петрович Каманин                                      4\n",
       "#228 Александр Вениаминович Храбровицкий                          4\n",
       "#2034 Нина Викторовна Кравченко                                   4\n",
       "#2085 Виктор Васильевич Березин                                   4\n",
       "#556 Людмила Васильевна Зотова                                    4\n",
       "#225 Сергей  Сергеевич Дмитриев                                   4\n",
       "#826 Антонина  Жильцова                                           4\n",
       "#314 Владимир  Алексеевич Чивилихин                               4\n",
       "#254 Натан Яковлевич Эйдельман                                    4\n",
       "#1980 Федор Тимофеевич Шулежко                                    4\n",
       "#249 Ролан  Антонович Быков                                       4\n",
       "#481 Рюрик  Ивнев                                                 4\n",
       "#2940 Василий Сергеевич Савельев                                  4\n",
       "#2254 Микола Олександрович Василенко                              3\n",
       "#2949 Алла Александровна Сарибан                                  3\n",
       "#536 Исаак Израилевич Минц                                        3\n",
       "#532 Раиса Давыдовна Орлова                                       3\n",
       "#342 Леонид Николаевич Бердников                                  3\n",
       "#2370 Александр Леонидович Слонимский                             3\n",
       "#683 Юрий  Алексеев                                               3\n",
       "#160 Зинаида  Алексеевна Мечтова                                  3\n",
       "#616 Мира (Мария-Цецилия) Александровна Мендельсон-Прокофьева     3\n",
       "#199 Валентин Валентинович Шелохаев                               3\n",
       "#194 Марк Сергеевич Харитонов                                     3\n",
       "#142 Эммануил Генрихович Казакевич                                3\n",
       "#939 Георгий Васильевич Свиридов                                  3\n",
       "#347 Илья Сергеевич Глазунов                                      3\n",
       "#320 Игорь  Сергеевич Холин                                       3\n",
       "#1841 Евгений Иванович Иванов                                     2\n",
       "#100 Олег Иванович Борисов                                        2\n",
       "#551 Анатолий Борисович Гребнев                                   2\n",
       "#456 Николай  Троицкий                                            2\n",
       "#621 Владимир Александрович Бессонов                              2\n",
       "#832 Константин  Филоненко                                        2\n",
       "#1951 Софья Гаруновна Хамидуллина                                 2\n",
       "#753 Никита Сергеевич Михалков                                    2\n",
       "#262 Павел Григорьевич Антокольский                               2\n",
       "#2336 Лиля Юрьевна Брик                                           2\n",
       "#574 Лидия Александровна Тхоржевская                              2\n",
       "#680 Пётр Ефимович Шелест                                         2\n",
       "#1311 Ольга Николаевна Гильдебрандт-Арбенина                      2\n",
       "#1271 Владимир  Меньшов                                           2\n",
       "#89 Нина Васильевна Соболева                                      2\n",
       "#932 Эсфирь Марковна Ривкина                                      2\n",
       "#2927 Инесса С. Великанова                                        1\n",
       "#1894 Александр Сергеевич Марков                                  1\n",
       "#2362 Семён Кузьмич Цвигун                                        1\n",
       "#2914 Нина Сергеевна Бялосинская-Евкина                           1\n",
       "#2416 Николай Фёдорович Ладугин                                   1\n",
       "#1192 Лидия Петровна Кляцко                                       1\n",
       "#1608 Татьяна Александровна Сёмикова                              1\n",
       "#399 Виктор Николаевич Вакидин                                    1\n",
       "#1756 Нина Васильевна Верхоланцева                                1\n",
       "#985 Татьяна Сергеевна Шабалина                                   1\n",
       "#2584 Клара Мухаметовна Гайнутдинова                              1\n",
       "#665 Владимир Семёнович Саппак                                    1\n",
       "#2854 Георгий Георгиевич Слёзов                                   1\n",
       "#930 Владислав Мстиславович Зименко                               1\n",
       "#52 Геннадий Иванович Обатуров                                    1\n",
       "#2144    Наталья                                                  1\n",
       "#81 Анатолий Александрович Якобсон                                1\n",
       "#994 Петр Дмитриевич Малыгин                                      1\n",
       "#1865 Алла Сергеевна Демидова                                     1\n",
       "#1528 Виталий Иванович Севастьянов                                1\n",
       "#418 Александр Иванович Дмитриев                                  1\n",
       "#36 Всеволод Вячеславович Иванов                                  1\n",
       "#2405 Тамара Сергеевна Белова                                     1\n",
       "#277 Наталья Александровна Туренко                                1\n",
       "#131 Игорь Александрович Дедков                                   1\n",
       "#2311 Татьяна Дмитриевна Булах-Гардина                            1\n",
       "#533 Лев Зиновьевич Копелев                                       1\n",
       "#2190 Магдалина Михайловна Буркина                                1\n",
       "#1881 Натали Георгиевна Чуренкова                                 1\n",
       "#915 Георг Васильевич Мясников                                    1\n",
       "#388 Эмиль Петрович Бояр                                          1\n",
       "#168 Софья Казимировна Островская                                 1\n",
       "#1245    Аноним                                                   1\n",
       "#1067 Николай Семенович Голубов                                   1\n",
       "#2353 Владимир Платонович Жохов                                   1\n",
       "#460 Петр Степанович Непорожний                                   1\n",
       "#360 Арпеник  Араевна Алексанян                                   1\n",
       "#761 Александр М. Ванюков                                         1\n",
       "Name: Автор, dtype: int64"
      ]
     },
     "execution_count": 39,
     "metadata": {},
     "output_type": "execute_result"
    }
   ],
   "source": [
    "#meta_4[\"Автор\"].count()\n",
    "#pd.set_option(\"display.max_rows\", 20, \"display.max_columns\", None)\n",
    "pd.set_option('display.max_rows', None)\n",
    "meta_4.Автор.value_counts()"
   ]
  },
  {
   "cell_type": "code",
   "execution_count": 91,
   "id": "accepting-shuttle",
   "metadata": {},
   "outputs": [
    {
     "data": {
      "text/plain": [
       "Гендер\n",
       "            12\n",
       "Женский    243\n",
       "Мужской    444\n",
       "Name: Автор, dtype: int64"
      ]
     },
     "execution_count": 91,
     "metadata": {},
     "output_type": "execute_result"
    }
   ],
   "source": [
    "#считаем, сколько женщин и мужчин в корпусе\n",
    "#meta_info_cleaned.groupby('Автор')('Гендер').value_counts()\n",
    "meta_info_cleaned.groupby('Гендер')['Автор'].nunique()"
   ]
  },
  {
   "cell_type": "code",
   "execution_count": 49,
   "id": "reasonable-discussion",
   "metadata": {},
   "outputs": [],
   "source": [
    "#выбираем ID записей женщин и мужчин\n",
    "female_ids = []\n",
    "male_ids = []\n",
    "for item in meta_info_cleaned[meta_info_cleaned['Гендер'] == 'Женский'][\"ID\"]:\n",
    "    female_ids.append(item)\n",
    "for item in meta_info_cleaned[meta_info_cleaned['Гендер'].str.match('Мужской')][\"ID\"]:\n",
    "    male_ids.append(item)"
   ]
  },
  {
   "cell_type": "code",
   "execution_count": 50,
   "id": "statutory-victory",
   "metadata": {},
   "outputs": [],
   "source": [
    "def gender_period_ids(gender, period):\n",
    "    '''Функция принимает на вход гендер и период и создаёт список с идентификаторами записей'''\n",
    "    gender_period_ids_list = meta_info_cleaned[(meta_info_cleaned['Гендер'] == gender) & (meta_info_cleaned['Период'] == period)][\"ID\"].tolist()\n",
    "    return gender_period_ids_list"
   ]
  },
  {
   "cell_type": "code",
   "execution_count": 51,
   "id": "rocky-agent",
   "metadata": {},
   "outputs": [],
   "source": [
    "female_ids1 = gender_period_ids('Женский', 'Период 1')\n",
    "female_ids2 = gender_period_ids('Женский', 'Период 2')\n",
    "female_ids3 = gender_period_ids('Женский', 'Период 3')\n",
    "female_ids4 = gender_period_ids('Женский', 'Период 4')\n",
    "female_ids5 = gender_period_ids('Женский', 'Период 5')\n",
    "male_ids1 = gender_period_ids('Мужской', 'Период 1')\n",
    "male_ids2 = gender_period_ids('Мужской', 'Период 2')\n",
    "male_ids3 = gender_period_ids('Мужской', 'Период 3')\n",
    "male_ids4 = gender_period_ids('Мужской', 'Период 4')\n",
    "male_ids5 = gender_period_ids('Мужской', 'Период 5')"
   ]
  },
  {
   "cell_type": "code",
   "execution_count": 49,
   "id": "affiliated-deputy",
   "metadata": {},
   "outputs": [],
   "source": [
    "def gender_period_records(ids_list):\n",
    "    '''Функция принимает на вход список c идентификаторами и создаёт список с записями'''\n",
    "    records_list = []\n",
    "    for item in diaries_dic.items():\n",
    "        for x in ids_list:\n",
    "            if item[0] == x:\n",
    "                records_list.append(item[1])\n",
    "    return records_list"
   ]
  },
  {
   "cell_type": "code",
   "execution_count": 52,
   "id": "experienced-ratio",
   "metadata": {},
   "outputs": [],
   "source": [
    "female_records1 = gender_period_records(female_ids1)\n",
    "female_records2 = gender_period_records(female_ids2)\n",
    "female_records3 = gender_period_records(female_ids3)\n",
    "female_records4 = gender_period_records(female_ids4)\n",
    "female_records5 = gender_period_records(female_ids5)\n",
    "male_records1 = gender_period_records(male_ids1)\n",
    "male_records2 = gender_period_records(male_ids2)\n",
    "male_records3 = gender_period_records(male_ids3)\n",
    "male_records4 = gender_period_records(male_ids4)\n",
    "male_records5 = gender_period_records(male_ids5)"
   ]
  },
  {
   "cell_type": "code",
   "execution_count": 53,
   "id": "affected-glass",
   "metadata": {},
   "outputs": [],
   "source": [
    "female_records1_flat = flatten_list(female_records1)\n",
    "female_records1_preprocessed_flat = preprocessed_text(female_records1_flat)\n",
    "female_records2_flat = flatten_list(female_records2)\n",
    "female_records2_preprocessed_flat = preprocessed_text(female_records2_flat)\n",
    "female_records3_flat = flatten_list(female_records3)\n",
    "female_records3_preprocessed_flat = preprocessed_text(female_records3_flat)\n",
    "female_records4_flat = flatten_list(female_records4)\n",
    "female_records4_preprocessed_flat = preprocessed_text(female_records4_flat)\n",
    "female_records5_flat = flatten_list(female_records5)\n",
    "female_records5_preprocessed_flat = preprocessed_text(female_records5_flat)\n",
    "male_records1_flat = flatten_list(male_records1)\n",
    "male_records1_preprocessed_flat = preprocessed_text(male_records1_flat)\n",
    "male_records2_flat = flatten_list(male_records2)\n",
    "male_records2_preprocessed_flat = preprocessed_text(male_records2_flat)\n",
    "male_records3_flat = flatten_list(male_records3)\n",
    "male_records3_preprocessed_flat = preprocessed_text(male_records3_flat)\n",
    "male_records4_flat = flatten_list(male_records4)\n",
    "male_records4_preprocessed_flat = preprocessed_text(male_records4_flat)\n",
    "male_records5_flat = flatten_list(male_records5)\n",
    "male_records5_preprocessed_flat = preprocessed_text(male_records5_flat)"
   ]
  },
  {
   "cell_type": "code",
   "execution_count": 487,
   "id": "enclosed-validation",
   "metadata": {},
   "outputs": [],
   "source": [
    "collocations_female1 = collocater(female_records1_preprocessed_flat, 200)\n",
    "collocations_female2 = collocater(female_records2_preprocessed_flat, 200)\n",
    "collocations_female3 = collocater(female_records3_preprocessed_flat, 200)\n",
    "collocations_female4 = collocater(female_records4_preprocessed_flat, 200)\n",
    "collocations_female5 = collocater(female_records5_preprocessed_flat, 200)\n",
    "collocations_male1 = collocater(male_records1_preprocessed_flat, 200)\n",
    "collocations_male2 = collocater(male_records2_preprocessed_flat, 200)\n",
    "collocations_male3 = collocater(male_records3_preprocessed_flat, 200)\n",
    "collocations_male4 = collocater(male_records4_preprocessed_flat, 200)\n",
    "collocations_male5 = collocater(male_records5_preprocessed_flat, 200)"
   ]
  },
  {
   "cell_type": "code",
   "execution_count": 57,
   "id": "derived-slope",
   "metadata": {},
   "outputs": [],
   "source": [
    "collocations_female1_all = collocater_without_limits(female_records1_preprocessed_flat)\n",
    "collocations_female1_overall = len(collocations_female1_all)\n",
    "collocations_female2_all = collocater_without_limits(female_records2_preprocessed_flat)\n",
    "collocations_female2_overall = len(collocations_female2_all)\n",
    "collocations_female3_all = collocater_without_limits(female_records3_preprocessed_flat)\n",
    "collocations_female3_overall = len(collocations_female3_all)\n",
    "collocations_female4_all = collocater_without_limits(female_records4_preprocessed_flat)\n",
    "collocations_female4_overall = len(collocations_female4_all)\n",
    "collocations_female5_all = collocater_without_limits(female_records5_preprocessed_flat)\n",
    "collocations_female5_overall = len(collocations_female5_all)\n",
    "collocations_male1_all = collocater_without_limits(male_records1_preprocessed_flat)\n",
    "collocations_male1_overall = len(collocations_male1_all)\n",
    "collocations_male2_all = collocater_without_limits(male_records2_preprocessed_flat)\n",
    "collocations_male2_overall = len(collocations_male2_all)\n",
    "collocations_male3_all = collocater_without_limits(male_records3_preprocessed_flat)\n",
    "collocations_male3_overall = len(collocations_male3_all)\n",
    "collocations_male4_all = collocater_without_limits(male_records4_preprocessed_flat)\n",
    "collocations_male4_overall = len(collocations_male4_all)\n",
    "collocations_male5_all = collocater_without_limits(male_records5_preprocessed_flat)\n",
    "collocations_male5_overall = len(collocations_male5_all)"
   ]
  },
  {
   "cell_type": "code",
   "execution_count": 127,
   "id": "painful-insulin",
   "metadata": {},
   "outputs": [
    {
     "name": "stdout",
     "output_type": "stream",
     "text": [
      "(('сердце', 'биться'), 14)\n",
      "(('биться', 'сердце'), 9)\n"
     ]
    }
   ],
   "source": [
    "for item in collocations_female2_all:\n",
    "    for element in item:\n",
    "        if element  == ('сердце', 'биться') or element  == ('биться', 'сердце'):\n",
    "            print(item)"
   ]
  },
  {
   "cell_type": "code",
   "execution_count": 122,
   "id": "alert-netscape",
   "metadata": {},
   "outputs": [],
   "source": [
    "fratio1 = 6 / collocations_female1_overall\n",
    "fratio2 = 23 / collocations_female2_overall\n",
    "fratio3 = 6 / collocations_female3_overall\n",
    "fratio4 = 2 / collocations_female4_overall\n",
    "fratio5 = 1 / collocations_female5_overall\n",
    "mratio1 = 8 / collocations_male1_overall\n",
    "mratio2 = 11 / collocations_male2_overall\n",
    "mratio3 = 4 / collocations_male3_overall\n",
    "mratio4 = 0 / collocations_male4_overall"
   ]
  },
  {
   "cell_type": "code",
   "execution_count": 73,
   "id": "emerging-superintendent",
   "metadata": {},
   "outputs": [
    {
     "name": "stdout",
     "output_type": "stream",
     "text": [
      "0.000054323878966\n"
     ]
    }
   ],
   "source": [
    "print('{0:.15f}'.format(5.432387896639766e-05))"
   ]
  },
  {
   "cell_type": "code",
   "execution_count": 123,
   "id": "breeding-grace",
   "metadata": {},
   "outputs": [
    {
     "name": "stdout",
     "output_type": "stream",
     "text": [
      "0.000109134562916 0.000138827690692 0.000060667340748 0.000030554876558 0.000010459266387 0.000053709298422 0.000035672359110 0.000023454632876 0.000000000000000\n"
     ]
    }
   ],
   "source": [
    "print('{0:.15f}'.format(fratio1), '{0:.15f}'.format(fratio2), '{0:.15f}'. format(fratio3), '{0:.15f}'.format(fratio4), '{0:.15f}'.format(fratio5), '{0:.15f}'.format(mratio1), '{0:.15f}'.format(mratio2), '{0:.15f}'.format(mratio3), '{0:.15f}'.format(mratio4))"
   ]
  },
  {
   "cell_type": "code",
   "execution_count": 489,
   "id": "dying-recording",
   "metadata": {},
   "outputs": [],
   "source": [
    "collocations1_female_df = pd.DataFrame(collocations_female1, columns=['collocation', 'frequency'])\n",
    "collocations1_female_df = collocations1_female_df.assign(period = 'Период 1', gender = 'Женский')\n",
    "collocations1_female_df['frequency'] = collocations1_female_df['frequency'] / collocations_female1_overall\n",
    "collocations2_female_df = pd.DataFrame(collocations_female2, columns=['collocation', 'frequency'])\n",
    "collocations2_female_df = collocations2_female_df.assign(period = 'Период 2', gender = 'Женский')\n",
    "collocations2_female_df['frequency'] = collocations2_female_df['frequency'] / collocations_female2_overall\n",
    "collocations3_female_df = pd.DataFrame(collocations_female3, columns=['collocation', 'frequency'])\n",
    "collocations3_female_df = collocations3_female_df.assign(period = 'Период 3', gender = 'Женский')\n",
    "collocations3_female_df['frequency'] = collocations3_female_df['frequency'] / collocations_female3_overall\n",
    "collocations4_female_df = pd.DataFrame(collocations_female4, columns=['collocation', 'frequency'])\n",
    "collocations4_female_df = collocations4_female_df.assign(period = 'Период 4', gender = 'Женский')\n",
    "collocations4_female_df['frequency'] = collocations4_female_df['frequency'] / collocations_female4_overall\n",
    "collocations5_female_df = pd.DataFrame(collocations_female5, columns=['collocation', 'frequency'])\n",
    "collocations5_female_df = collocations5_female_df.assign(period = 'Период 5', gender = 'Женский')\n",
    "collocations5_female_df['frequency'] = collocations5_female_df['frequency'] / collocations_female5_overall\n",
    "collocations1_male_df = pd.DataFrame(collocations_male1, columns=['collocation', 'frequency'])\n",
    "collocations1_male_df = collocations1_male_df.assign(period = 'Период 1', gender = 'Мужской')\n",
    "collocations1_male_df['frequency'] = collocations1_male_df['frequency'] / collocations_male1_overall\n",
    "collocations2_male_df = pd.DataFrame(collocations_male2, columns=['collocation', 'frequency'])\n",
    "collocations2_male_df = collocations2_male_df.assign(period = 'Период 2', gender = 'Мужской')\n",
    "collocations2_male_df['frequency'] = collocations2_male_df['frequency'] / collocations_male2_overall\n",
    "collocations3_male_df = pd.DataFrame(collocations_male3, columns=['collocation', 'frequency'])\n",
    "collocations3_male_df = collocations3_male_df.assign(period = 'Период 3', gender = 'Мужской')\n",
    "collocations3_male_df['frequency'] = collocations3_male_df['frequency'] / collocations_male3_overall\n",
    "collocations4_male_df = pd.DataFrame(collocations_male4, columns=['collocation', 'frequency'])\n",
    "collocations4_male_df = collocations4_male_df.assign(period = 'Период 4', gender = 'Мужской')\n",
    "collocations4_male_df['frequency'] = collocations4_male_df['frequency'] / collocations_male4_overall\n",
    "collocations5_male_df = pd.DataFrame(collocations_male5, columns=['collocation', 'frequency'])\n",
    "collocations5_male_df = collocations5_male_df.assign(period = 'Период 5', gender = 'Мужской')\n",
    "collocations5_male_df['frequency'] = collocations5_male_df['frequency'] / collocations_male5_overall"
   ]
  },
  {
   "cell_type": "code",
   "execution_count": 490,
   "id": "optimum-clone",
   "metadata": {},
   "outputs": [],
   "source": [
    "df_collocations_gender_period = pd.concat([collocations1_female_df, collocations2_female_df, collocations3_female_df, collocations4_female_df, collocations5_female_df, collocations1_male_df, collocations2_male_df, collocations3_male_df, collocations4_male_df, collocations5_male_df], ignore_index=True)"
   ]
  },
  {
   "cell_type": "code",
   "execution_count": 491,
   "id": "laden-mountain",
   "metadata": {},
   "outputs": [],
   "source": [
    "pip3 = df_collocations_gender_period.pivot(index = 'collocation', columns=['period', 'gender'], values='frequency')"
   ]
  },
  {
   "cell_type": "code",
   "execution_count": 492,
   "id": "cultural-going",
   "metadata": {},
   "outputs": [
    {
     "data": {
      "text/html": [
       "<div>\n",
       "<style scoped>\n",
       "    .dataframe tbody tr th:only-of-type {\n",
       "        vertical-align: middle;\n",
       "    }\n",
       "\n",
       "    .dataframe tbody tr th {\n",
       "        vertical-align: top;\n",
       "    }\n",
       "\n",
       "    .dataframe thead tr th {\n",
       "        text-align: left;\n",
       "    }\n",
       "\n",
       "    .dataframe thead tr:last-of-type th {\n",
       "        text-align: right;\n",
       "    }\n",
       "</style>\n",
       "<table border=\"1\" class=\"dataframe\">\n",
       "  <thead>\n",
       "    <tr>\n",
       "      <th>period</th>\n",
       "      <th>Период 1</th>\n",
       "      <th>Период 2</th>\n",
       "      <th>Период 3</th>\n",
       "      <th>Период 4</th>\n",
       "      <th>Период 5</th>\n",
       "      <th>Период 1</th>\n",
       "      <th>Период 2</th>\n",
       "      <th>Период 3</th>\n",
       "      <th>Период 4</th>\n",
       "      <th>Период 5</th>\n",
       "    </tr>\n",
       "    <tr>\n",
       "      <th>gender</th>\n",
       "      <th>Женский</th>\n",
       "      <th>Женский</th>\n",
       "      <th>Женский</th>\n",
       "      <th>Женский</th>\n",
       "      <th>Женский</th>\n",
       "      <th>Мужской</th>\n",
       "      <th>Мужской</th>\n",
       "      <th>Мужской</th>\n",
       "      <th>Мужской</th>\n",
       "      <th>Мужской</th>\n",
       "    </tr>\n",
       "    <tr>\n",
       "      <th>collocation</th>\n",
       "      <th></th>\n",
       "      <th></th>\n",
       "      <th></th>\n",
       "      <th></th>\n",
       "      <th></th>\n",
       "      <th></th>\n",
       "      <th></th>\n",
       "      <th></th>\n",
       "      <th></th>\n",
       "      <th></th>\n",
       "    </tr>\n",
       "  </thead>\n",
       "  <tbody>\n",
       "    <tr>\n",
       "      <th>(абрам, яковлевич)</th>\n",
       "      <td>NaN</td>\n",
       "      <td>NaN</td>\n",
       "      <td>NaN</td>\n",
       "      <td>0.000122</td>\n",
       "      <td>NaN</td>\n",
       "      <td>NaN</td>\n",
       "      <td>NaN</td>\n",
       "      <td>NaN</td>\n",
       "      <td>NaN</td>\n",
       "      <td>NaN</td>\n",
       "    </tr>\n",
       "    <tr>\n",
       "      <th>(абсолютный, субъективность)</th>\n",
       "      <td>NaN</td>\n",
       "      <td>NaN</td>\n",
       "      <td>NaN</td>\n",
       "      <td>NaN</td>\n",
       "      <td>NaN</td>\n",
       "      <td>NaN</td>\n",
       "      <td>NaN</td>\n",
       "      <td>NaN</td>\n",
       "      <td>0.000042</td>\n",
       "      <td>NaN</td>\n",
       "    </tr>\n",
       "    <tr>\n",
       "      <th>(автор, книга)</th>\n",
       "      <td>NaN</td>\n",
       "      <td>NaN</td>\n",
       "      <td>NaN</td>\n",
       "      <td>NaN</td>\n",
       "      <td>NaN</td>\n",
       "      <td>NaN</td>\n",
       "      <td>NaN</td>\n",
       "      <td>NaN</td>\n",
       "      <td>NaN</td>\n",
       "      <td>0.000059</td>\n",
       "    </tr>\n",
       "    <tr>\n",
       "      <th>(авторский, право)</th>\n",
       "      <td>NaN</td>\n",
       "      <td>NaN</td>\n",
       "      <td>NaN</td>\n",
       "      <td>NaN</td>\n",
       "      <td>NaN</td>\n",
       "      <td>NaN</td>\n",
       "      <td>NaN</td>\n",
       "      <td>NaN</td>\n",
       "      <td>NaN</td>\n",
       "      <td>0.000069</td>\n",
       "    </tr>\n",
       "    <tr>\n",
       "      <th>(академия, наука)</th>\n",
       "      <td>NaN</td>\n",
       "      <td>NaN</td>\n",
       "      <td>NaN</td>\n",
       "      <td>NaN</td>\n",
       "      <td>NaN</td>\n",
       "      <td>NaN</td>\n",
       "      <td>NaN</td>\n",
       "      <td>0.000135</td>\n",
       "      <td>0.000067</td>\n",
       "      <td>NaN</td>\n",
       "    </tr>\n",
       "    <tr>\n",
       "      <th>...</th>\n",
       "      <td>...</td>\n",
       "      <td>...</td>\n",
       "      <td>...</td>\n",
       "      <td>...</td>\n",
       "      <td>...</td>\n",
       "      <td>...</td>\n",
       "      <td>...</td>\n",
       "      <td>...</td>\n",
       "      <td>...</td>\n",
       "      <td>...</td>\n",
       "    </tr>\n",
       "    <tr>\n",
       "      <th>(юлия, павлович)</th>\n",
       "      <td>0.000109</td>\n",
       "      <td>NaN</td>\n",
       "      <td>NaN</td>\n",
       "      <td>NaN</td>\n",
       "      <td>NaN</td>\n",
       "      <td>NaN</td>\n",
       "      <td>NaN</td>\n",
       "      <td>NaN</td>\n",
       "      <td>NaN</td>\n",
       "      <td>NaN</td>\n",
       "    </tr>\n",
       "    <tr>\n",
       "      <th>(юрий, гагарин)</th>\n",
       "      <td>NaN</td>\n",
       "      <td>NaN</td>\n",
       "      <td>NaN</td>\n",
       "      <td>NaN</td>\n",
       "      <td>NaN</td>\n",
       "      <td>NaN</td>\n",
       "      <td>NaN</td>\n",
       "      <td>NaN</td>\n",
       "      <td>0.000059</td>\n",
       "      <td>NaN</td>\n",
       "    </tr>\n",
       "    <tr>\n",
       "      <th>(юрий, любимов)</th>\n",
       "      <td>NaN</td>\n",
       "      <td>NaN</td>\n",
       "      <td>NaN</td>\n",
       "      <td>NaN</td>\n",
       "      <td>NaN</td>\n",
       "      <td>NaN</td>\n",
       "      <td>NaN</td>\n",
       "      <td>NaN</td>\n",
       "      <td>NaN</td>\n",
       "      <td>0.000079</td>\n",
       "    </tr>\n",
       "    <tr>\n",
       "      <th>(юрий, петрович)</th>\n",
       "      <td>NaN</td>\n",
       "      <td>NaN</td>\n",
       "      <td>NaN</td>\n",
       "      <td>NaN</td>\n",
       "      <td>NaN</td>\n",
       "      <td>NaN</td>\n",
       "      <td>NaN</td>\n",
       "      <td>NaN</td>\n",
       "      <td>NaN</td>\n",
       "      <td>0.000049</td>\n",
       "    </tr>\n",
       "    <tr>\n",
       "      <th>(ясный, поляна)</th>\n",
       "      <td>0.000091</td>\n",
       "      <td>NaN</td>\n",
       "      <td>NaN</td>\n",
       "      <td>NaN</td>\n",
       "      <td>NaN</td>\n",
       "      <td>NaN</td>\n",
       "      <td>0.000049</td>\n",
       "      <td>NaN</td>\n",
       "      <td>NaN</td>\n",
       "      <td>NaN</td>\n",
       "    </tr>\n",
       "  </tbody>\n",
       "</table>\n",
       "<p>1188 rows × 10 columns</p>\n",
       "</div>"
      ],
      "text/plain": [
       "period                        Период 1 Период 2 Период 3  Период 4 Период 5  \\\n",
       "gender                         Женский  Женский  Женский   Женский  Женский   \n",
       "collocation                                                                   \n",
       "(абрам, яковлевич)                 NaN      NaN      NaN  0.000122      NaN   \n",
       "(абсолютный, субъективность)       NaN      NaN      NaN       NaN      NaN   \n",
       "(автор, книга)                     NaN      NaN      NaN       NaN      NaN   \n",
       "(авторский, право)                 NaN      NaN      NaN       NaN      NaN   \n",
       "(академия, наука)                  NaN      NaN      NaN       NaN      NaN   \n",
       "...                                ...      ...      ...       ...      ...   \n",
       "(юлия, павлович)              0.000109      NaN      NaN       NaN      NaN   \n",
       "(юрий, гагарин)                    NaN      NaN      NaN       NaN      NaN   \n",
       "(юрий, любимов)                    NaN      NaN      NaN       NaN      NaN   \n",
       "(юрий, петрович)                   NaN      NaN      NaN       NaN      NaN   \n",
       "(ясный, поляна)               0.000091      NaN      NaN       NaN      NaN   \n",
       "\n",
       "period                       Период 1  Период 2  Период 3  Период 4  Период 5  \n",
       "gender                        Мужской   Мужской   Мужской   Мужской   Мужской  \n",
       "collocation                                                                    \n",
       "(абрам, яковлевич)                NaN       NaN       NaN       NaN       NaN  \n",
       "(абсолютный, субъективность)      NaN       NaN       NaN  0.000042       NaN  \n",
       "(автор, книга)                    NaN       NaN       NaN       NaN  0.000059  \n",
       "(авторский, право)                NaN       NaN       NaN       NaN  0.000069  \n",
       "(академия, наука)                 NaN       NaN  0.000135  0.000067       NaN  \n",
       "...                               ...       ...       ...       ...       ...  \n",
       "(юлия, павлович)                  NaN       NaN       NaN       NaN       NaN  \n",
       "(юрий, гагарин)                   NaN       NaN       NaN  0.000059       NaN  \n",
       "(юрий, любимов)                   NaN       NaN       NaN       NaN  0.000079  \n",
       "(юрий, петрович)                  NaN       NaN       NaN       NaN  0.000049  \n",
       "(ясный, поляна)                   NaN  0.000049       NaN       NaN       NaN  \n",
       "\n",
       "[1188 rows x 10 columns]"
      ]
     },
     "execution_count": 492,
     "metadata": {},
     "output_type": "execute_result"
    }
   ],
   "source": [
    "pip3"
   ]
  },
  {
   "cell_type": "code",
   "execution_count": 493,
   "id": "ethical-large",
   "metadata": {},
   "outputs": [],
   "source": [
    "os.makedirs('/Users/victoriavrbv/Documents/Diploma', exist_ok=True)  \n",
    "pip3.to_csv('/Users/victoriavrbv/Documents/Diploma/pip3.csv')  "
   ]
  },
  {
   "cell_type": "code",
   "execution_count": 368,
   "id": "imperial-services",
   "metadata": {},
   "outputs": [],
   "source": [
    "collocations_tscore_female1 = collocater_tscore(female_records1_preprocessed_flat, 100)\n",
    "collocations_tscore_female2 = collocater_tscore(female_records2_preprocessed_flat, 100)\n",
    "collocations_tscore_female3 = collocater_tscore(female_records3_preprocessed_flat, 100)\n",
    "collocations_tscore_female4 = collocater_tscore(female_records4_preprocessed_flat, 100)\n",
    "collocations_tscore_female5 = collocater_tscore(female_records5_preprocessed_flat, 100)\n",
    "collocations_tscore_male1 = collocater_tscore(male_records1_preprocessed_flat, 100)\n",
    "collocations_tscore_male2 = collocater_tscore(male_records2_preprocessed_flat, 100)\n",
    "collocations_tscore_male3 = collocater_tscore(male_records3_preprocessed_flat, 100)\n",
    "collocations_tscore_male4 = collocater_tscore(male_records4_preprocessed_flat, 100)\n",
    "collocations_tscore_male5 = collocater_tscore(male_records5_preprocessed_flat, 100)"
   ]
  },
  {
   "cell_type": "code",
   "execution_count": 370,
   "id": "meaningful-cleanup",
   "metadata": {},
   "outputs": [],
   "source": [
    "collocations1_female_df_tscore = pd.DataFrame(collocations_tscore_female1, columns=['collocation', 'frequency'])\n",
    "collocations1_female_df_tscore = collocations1_female_df_tscore.assign(period = 'Период 1', gender = 'Женский')\n",
    "collocations2_female_df_tscore = pd.DataFrame(collocations_tscore_female2, columns=['collocation', 'frequency'])\n",
    "collocations2_female_df_tscore = collocations2_female_df_tscore.assign(period = 'Период 2', gender = 'Женский')\n",
    "collocations3_female_df_tscore = pd.DataFrame(collocations_tscore_female3, columns=['collocation', 'frequency'])\n",
    "collocations3_female_df_tscore = collocations3_female_df_tscore.assign(period = 'Период 3', gender = 'Женский')\n",
    "collocations4_female_df_tscore = pd.DataFrame(collocations_tscore_female4, columns=['collocation', 'frequency'])\n",
    "collocations4_female_df_tscore = collocations4_female_df_tscore.assign(period = 'Период 4', gender = 'Женский')\n",
    "collocations5_female_df_tscore = pd.DataFrame(collocations_tscore_female5, columns=['collocation', 'frequency'])\n",
    "collocations5_female_df_tscore = collocations5_female_df_tscore.assign(period = 'Период 5', gender = 'Женский')\n",
    "collocations1_male_df_tscore = pd.DataFrame(collocations_tscore_male1, columns=['collocation', 'frequency'])\n",
    "collocations1_male_df_tscore = collocations1_male_df_tscore.assign(period = 'Период 1', gender = 'Мужской')\n",
    "collocations2_male_df_tscore = pd.DataFrame(collocations_tscore_male2, columns=['collocation', 'frequency'])\n",
    "collocations2_male_df_tscore = collocations2_male_df_tscore.assign(period = 'Период 2', gender = 'Мужской')\n",
    "collocations3_male_df_tscore = pd.DataFrame(collocations_tscore_male3, columns=['collocation', 'frequency'])\n",
    "collocations3_male_df_tscore = collocations3_male_df_tscore.assign(period = 'Период 3', gender = 'Мужской')\n",
    "collocations4_male_df_tscore = pd.DataFrame(collocations_tscore_male4, columns=['collocation', 'frequency'])\n",
    "collocations4_male_df_tscore = collocations4_male_df_tscore.assign(period = 'Период 4', gender = 'Мужской')\n",
    "collocations5_male_df_tscore = pd.DataFrame(collocations_tscore_male5, columns=['collocation', 'frequency'])\n",
    "collocations5_male_df_tscore = collocations5_male_df_tscore.assign(period = 'Период 5', gender = 'Мужской')"
   ]
  },
  {
   "cell_type": "code",
   "execution_count": 371,
   "id": "heated-steal",
   "metadata": {},
   "outputs": [],
   "source": [
    "df_collocations_gender_period_tscore = pd.concat([collocations1_female_df_tscore, collocations2_female_df_tscore, collocations3_female_df_tscore, collocations4_female_df_tscore, collocations5_female_df_tscore, collocations1_male_df_tscore, collocations2_male_df_tscore, collocations3_male_df_tscore, collocations4_male_df_tscore, collocations5_male_df_tscore], ignore_index=True)"
   ]
  },
  {
   "cell_type": "code",
   "execution_count": 372,
   "id": "later-colleague",
   "metadata": {},
   "outputs": [],
   "source": [
    "pip4 = df_collocations_gender_period_tscore.pivot(index = 'collocation', columns=['period', 'gender'], values='collocation')"
   ]
  },
  {
   "cell_type": "code",
   "execution_count": 373,
   "id": "dirty-program",
   "metadata": {},
   "outputs": [
    {
     "data": {
      "text/html": [
       "<div>\n",
       "<style scoped>\n",
       "    .dataframe tbody tr th:only-of-type {\n",
       "        vertical-align: middle;\n",
       "    }\n",
       "\n",
       "    .dataframe tbody tr th {\n",
       "        vertical-align: top;\n",
       "    }\n",
       "\n",
       "    .dataframe thead tr th {\n",
       "        text-align: left;\n",
       "    }\n",
       "\n",
       "    .dataframe thead tr:last-of-type th {\n",
       "        text-align: right;\n",
       "    }\n",
       "</style>\n",
       "<table border=\"1\" class=\"dataframe\">\n",
       "  <thead>\n",
       "    <tr>\n",
       "      <th>period</th>\n",
       "      <th>Период 1</th>\n",
       "      <th>Период 2</th>\n",
       "      <th>Период 3</th>\n",
       "      <th>Период 4</th>\n",
       "      <th>Период 5</th>\n",
       "      <th>Период 1</th>\n",
       "      <th>Период 2</th>\n",
       "      <th>Период 3</th>\n",
       "      <th>Период 4</th>\n",
       "      <th>Период 5</th>\n",
       "    </tr>\n",
       "    <tr>\n",
       "      <th>gender</th>\n",
       "      <th>Женский</th>\n",
       "      <th>Женский</th>\n",
       "      <th>Женский</th>\n",
       "      <th>Женский</th>\n",
       "      <th>Женский</th>\n",
       "      <th>Мужской</th>\n",
       "      <th>Мужской</th>\n",
       "      <th>Мужской</th>\n",
       "      <th>Мужской</th>\n",
       "      <th>Мужской</th>\n",
       "    </tr>\n",
       "    <tr>\n",
       "      <th>collocation</th>\n",
       "      <th></th>\n",
       "      <th></th>\n",
       "      <th></th>\n",
       "      <th></th>\n",
       "      <th></th>\n",
       "      <th></th>\n",
       "      <th></th>\n",
       "      <th></th>\n",
       "      <th></th>\n",
       "      <th></th>\n",
       "    </tr>\n",
       "  </thead>\n",
       "  <tbody>\n",
       "    <tr>\n",
       "      <th>('-, го)</th>\n",
       "      <td>('-, го)</td>\n",
       "      <td>NaN</td>\n",
       "      <td>NaN</td>\n",
       "      <td>NaN</td>\n",
       "      <td>NaN</td>\n",
       "      <td>NaN</td>\n",
       "      <td>NaN</td>\n",
       "      <td>NaN</td>\n",
       "      <td>NaN</td>\n",
       "      <td>NaN</td>\n",
       "    </tr>\n",
       "    <tr>\n",
       "      <th>(.\\, м)</th>\n",
       "      <td>NaN</td>\n",
       "      <td>NaN</td>\n",
       "      <td>NaN</td>\n",
       "      <td>NaN</td>\n",
       "      <td>(.\\, м)</td>\n",
       "      <td>NaN</td>\n",
       "      <td>NaN</td>\n",
       "      <td>NaN</td>\n",
       "      <td>NaN</td>\n",
       "      <td>NaN</td>\n",
       "    </tr>\n",
       "    <tr>\n",
       "      <th>(.\\, п)</th>\n",
       "      <td>NaN</td>\n",
       "      <td>NaN</td>\n",
       "      <td>NaN</td>\n",
       "      <td>NaN</td>\n",
       "      <td>NaN</td>\n",
       "      <td>NaN</td>\n",
       "      <td>NaN</td>\n",
       "      <td>(.\\, п)</td>\n",
       "      <td>NaN</td>\n",
       "      <td>NaN</td>\n",
       "    </tr>\n",
       "    <tr>\n",
       "      <th>(.\\, ть)</th>\n",
       "      <td>NaN</td>\n",
       "      <td>NaN</td>\n",
       "      <td>NaN</td>\n",
       "      <td>NaN</td>\n",
       "      <td>(.\\, ть)</td>\n",
       "      <td>NaN</td>\n",
       "      <td>NaN</td>\n",
       "      <td>NaN</td>\n",
       "      <td>NaN</td>\n",
       "      <td>NaN</td>\n",
       "    </tr>\n",
       "    <tr>\n",
       "      <th>(.\\, ф)</th>\n",
       "      <td>NaN</td>\n",
       "      <td>NaN</td>\n",
       "      <td>NaN</td>\n",
       "      <td>NaN</td>\n",
       "      <td>NaN</td>\n",
       "      <td>NaN</td>\n",
       "      <td>NaN</td>\n",
       "      <td>(.\\, ф)</td>\n",
       "      <td>NaN</td>\n",
       "      <td>NaN</td>\n",
       "    </tr>\n",
       "    <tr>\n",
       "      <th>...</th>\n",
       "      <td>...</td>\n",
       "      <td>...</td>\n",
       "      <td>...</td>\n",
       "      <td>...</td>\n",
       "      <td>...</td>\n",
       "      <td>...</td>\n",
       "      <td>...</td>\n",
       "      <td>...</td>\n",
       "      <td>...</td>\n",
       "      <td>...</td>\n",
       "    </tr>\n",
       "    <tr>\n",
       "      <th>(я, картина)</th>\n",
       "      <td>NaN</td>\n",
       "      <td>NaN</td>\n",
       "      <td>(я, картина)</td>\n",
       "      <td>NaN</td>\n",
       "      <td>NaN</td>\n",
       "      <td>NaN</td>\n",
       "      <td>NaN</td>\n",
       "      <td>NaN</td>\n",
       "      <td>NaN</td>\n",
       "      <td>NaN</td>\n",
       "    </tr>\n",
       "    <tr>\n",
       "      <th>(я, любить)</th>\n",
       "      <td>NaN</td>\n",
       "      <td>NaN</td>\n",
       "      <td>NaN</td>\n",
       "      <td>NaN</td>\n",
       "      <td>(я, любить)</td>\n",
       "      <td>NaN</td>\n",
       "      <td>NaN</td>\n",
       "      <td>NaN</td>\n",
       "      <td>(я, любить)</td>\n",
       "      <td>NaN</td>\n",
       "    </tr>\n",
       "    <tr>\n",
       "      <th>(я, то)</th>\n",
       "      <td>NaN</td>\n",
       "      <td>NaN</td>\n",
       "      <td>NaN</td>\n",
       "      <td>(я, то)</td>\n",
       "      <td>NaN</td>\n",
       "      <td>NaN</td>\n",
       "      <td>NaN</td>\n",
       "      <td>(я, то)</td>\n",
       "      <td>NaN</td>\n",
       "      <td>(я, то)</td>\n",
       "    </tr>\n",
       "    <tr>\n",
       "      <th>(‑, нибудь)</th>\n",
       "      <td>NaN</td>\n",
       "      <td>(‑, нибудь)</td>\n",
       "      <td>NaN</td>\n",
       "      <td>NaN</td>\n",
       "      <td>NaN</td>\n",
       "      <td>NaN</td>\n",
       "      <td>NaN</td>\n",
       "      <td>NaN</td>\n",
       "      <td>NaN</td>\n",
       "      <td>NaN</td>\n",
       "    </tr>\n",
       "    <tr>\n",
       "      <th>(‑, тый)</th>\n",
       "      <td>NaN</td>\n",
       "      <td>(‑, тый)</td>\n",
       "      <td>NaN</td>\n",
       "      <td>NaN</td>\n",
       "      <td>NaN</td>\n",
       "      <td>NaN</td>\n",
       "      <td>NaN</td>\n",
       "      <td>NaN</td>\n",
       "      <td>NaN</td>\n",
       "      <td>NaN</td>\n",
       "    </tr>\n",
       "  </tbody>\n",
       "</table>\n",
       "<p>506 rows × 10 columns</p>\n",
       "</div>"
      ],
      "text/plain": [
       "period        Период 1     Период 2      Период 3 Период 4     Период 5  \\\n",
       "gender         Женский      Женский       Женский  Женский      Женский   \n",
       "collocation                                                               \n",
       "('-, го)      ('-, го)          NaN           NaN      NaN          NaN   \n",
       "(.\\, м)            NaN          NaN           NaN      NaN      (.\\, м)   \n",
       "(.\\, п)            NaN          NaN           NaN      NaN          NaN   \n",
       "(.\\, ть)           NaN          NaN           NaN      NaN     (.\\, ть)   \n",
       "(.\\, ф)            NaN          NaN           NaN      NaN          NaN   \n",
       "...                ...          ...           ...      ...          ...   \n",
       "(я, картина)       NaN          NaN  (я, картина)      NaN          NaN   \n",
       "(я, любить)        NaN          NaN           NaN      NaN  (я, любить)   \n",
       "(я, то)            NaN          NaN           NaN  (я, то)          NaN   \n",
       "(‑, нибудь)        NaN  (‑, нибудь)           NaN      NaN          NaN   \n",
       "(‑, тый)           NaN     (‑, тый)           NaN      NaN          NaN   \n",
       "\n",
       "period       Период 1 Период 2 Период 3     Период 4 Период 5  \n",
       "gender        Мужской  Мужской  Мужской      Мужской  Мужской  \n",
       "collocation                                                    \n",
       "('-, го)          NaN      NaN      NaN          NaN      NaN  \n",
       "(.\\, м)           NaN      NaN      NaN          NaN      NaN  \n",
       "(.\\, п)           NaN      NaN  (.\\, п)          NaN      NaN  \n",
       "(.\\, ть)          NaN      NaN      NaN          NaN      NaN  \n",
       "(.\\, ф)           NaN      NaN  (.\\, ф)          NaN      NaN  \n",
       "...               ...      ...      ...          ...      ...  \n",
       "(я, картина)      NaN      NaN      NaN          NaN      NaN  \n",
       "(я, любить)       NaN      NaN      NaN  (я, любить)      NaN  \n",
       "(я, то)           NaN      NaN  (я, то)          NaN  (я, то)  \n",
       "(‑, нибудь)       NaN      NaN      NaN          NaN      NaN  \n",
       "(‑, тый)          NaN      NaN      NaN          NaN      NaN  \n",
       "\n",
       "[506 rows x 10 columns]"
      ]
     },
     "execution_count": 373,
     "metadata": {},
     "output_type": "execute_result"
    }
   ],
   "source": [
    "pip4"
   ]
  },
  {
   "cell_type": "code",
   "execution_count": 374,
   "id": "swedish-arbitration",
   "metadata": {},
   "outputs": [],
   "source": [
    "os.makedirs('/Users/victoriavrbv/Documents/Diploma', exist_ok=True)  \n",
    "pip4.to_csv('/Users/victoriavrbv/Documents/Diploma/pip4.csv')  "
   ]
  },
  {
   "cell_type": "code",
   "execution_count": 84,
   "id": "special-silence",
   "metadata": {},
   "outputs": [],
   "source": [
    "#выгружаем записи в txt\n",
    "with open('female_records.txt', 'w') as f:\n",
    "    for item in female_records:\n",
    "        f.write(\"%s\\n\" % item)"
   ]
  },
  {
   "cell_type": "code",
   "execution_count": 85,
   "id": "stock-stupid",
   "metadata": {},
   "outputs": [],
   "source": [
    "with open('male_records.txt', 'w') as m:\n",
    "    for item in male_records:\n",
    "        m.write(\"%s\\n\" % item)"
   ]
  },
  {
   "cell_type": "code",
   "execution_count": 390,
   "id": "judicial-spencer",
   "metadata": {},
   "outputs": [],
   "source": [
    "#не получилось\n",
    "fem = []\n",
    "for item in diaries_dic.items():\n",
    "    if item[0] == (x for x in female_ids):\n",
    "        fem.append(item)"
   ]
  },
  {
   "cell_type": "code",
   "execution_count": 188,
   "id": "differential-emphasis",
   "metadata": {},
   "outputs": [],
   "source": [
    "#лемматизируем корпус\n",
    "for key, value in diaries_dic.items():\n",
    "    diaries_dic[key] = preprocess_text(diaries_dic[key])"
   ]
  },
  {
   "cell_type": "code",
   "execution_count": 280,
   "id": "directed-american",
   "metadata": {},
   "outputs": [],
   "source": [
    "#diaries_dic"
   ]
  },
  {
   "cell_type": "code",
   "execution_count": 94,
   "id": "applicable-adams",
   "metadata": {},
   "outputs": [],
   "source": [
    "def flatten_list(_2d_list):\n",
    "    '''\n",
    "    берет вложенный список, возвращает плоский\n",
    "    '''\n",
    "    flat_list = []\n",
    "    # Iterate through the outer list\n",
    "    for element in _2d_list:\n",
    "        if type(element) is list:\n",
    "            # If the element is of type list, iterate through the sublist\n",
    "            for item in element:\n",
    "                flat_list.append(item)\n",
    "        else:\n",
    "            flat_list.append(element)\n",
    "    return flat_list"
   ]
  },
  {
   "cell_type": "code",
   "execution_count": 111,
   "id": "incorporate-protest",
   "metadata": {},
   "outputs": [],
   "source": [
    "period1_records_flat = flatten_list(period1_records)"
   ]
  },
  {
   "cell_type": "code",
   "execution_count": 455,
   "id": "altered-wrist",
   "metadata": {},
   "outputs": [],
   "source": [
    "#экспериментальный чанк \n",
    "period1_tokenized_records = []\n",
    "for item in period1_records_flat:\n",
    "    items = word_tokenize(item.lower())\n",
    "    period1_tokenized_records.append(items)"
   ]
  },
  {
   "cell_type": "code",
   "execution_count": 46,
   "id": "discrete-craps",
   "metadata": {},
   "outputs": [],
   "source": [
    "all_records = []\n",
    "for item in diaries_dic.items():\n",
    "    all_records.append(item[1])"
   ]
  },
  {
   "cell_type": "code",
   "execution_count": 47,
   "id": "registered-impact",
   "metadata": {},
   "outputs": [],
   "source": [
    "all_records_flat = flatten_list(all_records)"
   ]
  },
  {
   "cell_type": "code",
   "execution_count": 48,
   "id": "alternate-burden",
   "metadata": {},
   "outputs": [],
   "source": [
    "#period1_records_2\n",
    "periods_lemmatized = []\n",
    "for item in all_records_flat:\n",
    "    periods_lemmatized.append(preprocess_text(item))"
   ]
  },
  {
   "cell_type": "code",
   "execution_count": 43,
   "id": "colonial-certificate",
   "metadata": {},
   "outputs": [],
   "source": [
    "period1_lemmatized = []\n",
    "for item in period1_records_flat:\n",
    "    period1_lemmatized.append(preprocess_text(item))"
   ]
  },
  {
   "cell_type": "code",
   "execution_count": 54,
   "id": "precise-committee",
   "metadata": {},
   "outputs": [],
   "source": [
    "names_list = [\"степанович\", \"алик\", \"люся\", \"ир\", \"екатерина\", \"лёня\", \"люба\", \"герман\", \"митя\", \"давид\", \"вячеслав\", \"алла\", \"галя\", \"эфроса\", \"витя\", \"губенко\", \"лина\", \"наталья\", \"мишка\", \"валерий\", \"дима\", \"лариса\", \"аня\", \"ляла\", \"татьяна\", \"аксюша\", \"юзеф\", \"дмитрий\", \"алексей\", \"дмитриевич\", \"петров\", \"петя\", \"андрей\", \"гриша\", \"боря\", \"николаев\", \"аля\", \"елена\", \"сереж\", \"григориевич\", \"василий\", \"сомовый\", \"павлик\", \"шура\", \"наташа\", \"катя\", \"александрович\", \"иван\", \"юрий\", \"надя\", \"владимир\", \"лида\", \"виктор\", \"иванов\", \"ирина\", \"валя\", \"борис\", \"анович\", \"мария\", \"чертков\", \"сергеевич\", \"ольга\", \"лёля\", \"фёдорович\", \"григорий\", \"михаилович\", \"николаевич\", \"анна\", \"пётр\", \"петрович\", \"васильевич\", \"ляля\", \"иванович\", \"зина\", \"володя\", \"никита\", \"лена\", \"коля\", \"николай\", \"маруся\", \"лиза\", \"олег\", \"вася\", \"игорь\", \"георгий\", \"львович\", \"марина\", \"софья\", \"андреевич\", \"александр\", \"цветаев\", \"владимирович\", \"таня\", \"анна\", \"василиевич\", \"петрович\", \"сергей\", \"василиевич\", \"саша\", \"павлович\", \"маша\", \"миша\", \"константин\", \"пётр\", \"павел\", \"лена\", \"лев\", \"серёжа\", \"оля\", \"яковлевич\", \"нина\", \"шурик\", \"женя\", \"соня\", \"семён\", \"костя\", \"миша\"]\n",
    "for item in periods_lemmatized:\n",
    "    for i in range(len(item)):\n",
    "        if item[i] in names_list:\n",
    "            item[i] = \"<имя>\"\n",
    "        if re.search(\"[а-я]\\.\", str(item[i])):\n",
    "            item[i] = \"<имя>\"\n",
    "    #item = [element for element in item if re.search(\"^(?!(?:[а-я]\\.)$).*$\", str(element))]\n",
    "    #if re.search(\"[а-я]\\.\", records_lemmatized[i])\n",
    "\n",
    "#period1_lemmatized = [item for item in period1_lemmatized if re.search(\"^(?!(?:[а-я]\\.)$).*$\", str(item))]"
   ]
  },
  {
   "cell_type": "code",
   "execution_count": 659,
   "id": "individual-cement",
   "metadata": {},
   "outputs": [],
   "source": [
    "#period1_lemmatized_flat = flatten_list(period1_lemmatized)"
   ]
  },
  {
   "cell_type": "code",
   "execution_count": 255,
   "id": "detected-myrtle",
   "metadata": {},
   "outputs": [],
   "source": [
    "#period1_corrected"
   ]
  },
  {
   "cell_type": "code",
   "execution_count": 44,
   "id": "surprising-victoria",
   "metadata": {},
   "outputs": [],
   "source": [
    "period1_corrected = [\" \".join(x) for x in period1_lemmatized]"
   ]
  },
  {
   "cell_type": "code",
   "execution_count": 49,
   "id": "refined-cattle",
   "metadata": {},
   "outputs": [],
   "source": [
    "def get_topics(model, feature_names, no_top_words):\n",
    "    '''\n",
    "    берет модель топик-моделинга, слова и количество топиков, возврашает темы\n",
    "    '''\n",
    "    with open('topics_period1_lemm.txt', 'w', encoding='utf-8') as f:\n",
    "        for topic_idx, topic in enumerate(model.components_):\n",
    "            print(f\"Тема {topic_idx+1}:\", file=f)\n",
    "            topic_words = \", \".join([feature_names[i] for i in topic.argsort()[:-no_top_words - 1:-1]])\n",
    "            print(topic_words, file=f)"
   ]
  },
  {
   "cell_type": "code",
   "execution_count": 50,
   "id": "conscious-keyboard",
   "metadata": {},
   "outputs": [],
   "source": [
    "new_stoplist = stoplist2+names_list"
   ]
  },
  {
   "cell_type": "code",
   "execution_count": 51,
   "id": "auburn-canyon",
   "metadata": {},
   "outputs": [],
   "source": [
    "def main():\n",
    "    tfidf_vectorizer = TfidfVectorizer(max_df=0.1, min_df=10, ngram_range=(2, 2), stop_words=new_stoplist)\n",
    "    tfidf = tfidf_vectorizer.fit_transform(period1_corrected)\n",
    "    tfidf_feature_names = tfidf_vectorizer.get_feature_names()\n",
    "    nmf = NMF(n_components=20, random_state=42, alpha=.1, l1_ratio=.5, init='nndsvd', max_iter=100000).fit(tfidf)\n",
    "    get_topics(nmf, tfidf_feature_names, 10)"
   ]
  },
  {
   "cell_type": "code",
   "execution_count": 52,
   "id": "pursuant-extraction",
   "metadata": {},
   "outputs": [
    {
     "name": "stderr",
     "output_type": "stream",
     "text": [
      "/Library/Frameworks/Python.framework/Versions/3.7/lib/python3.7/site-packages/sklearn/feature_extraction/text.py:391: UserWarning: Your stop_words may be inconsistent with your preprocessing. Tokenizing the stop words generated tokens ['франц'] not in stop_words.\n",
      "  'stop_words.' % sorted(inconsistent))\n"
     ]
    }
   ],
   "source": [
    "if __name__ == '__main__':\n",
    "    main()"
   ]
  },
  {
   "cell_type": "code",
   "execution_count": 190,
   "id": "collaborative-flashing",
   "metadata": {},
   "outputs": [],
   "source": [
    "import gensim"
   ]
  },
  {
   "cell_type": "code",
   "execution_count": 259,
   "id": "powerful-aspect",
   "metadata": {},
   "outputs": [],
   "source": [
    "def preprocess(input_text):\n",
    "    '''функция для предобработки текста и замены имён'''\n",
    "    ## токенизируем через nltk:\n",
    "    tokenized_text = word_tokenize (input_text.lower())\n",
    "    ## убираем пунктуацию и стоп-слова:\n",
    "    clean_text = [word for word in tokenized_text if word not in stoplist and word not in extended_punctuation]\n",
    "    ## лемматизируем pymorphy2:\n",
    "    lemmatized_text = [parser.parse(word)[0].normal_form for word in clean_text]\n",
    "    names_list = [\"степанович\", \"алик\", \"люся\", \"ир\", \"екатерина\", \"лёня\", \"люба\", \"герман\", \"митя\", \"давид\", \"вячеслав\", \"алла\", \"галя\", \"эфроса\", \"витя\", \"губенко\", \"лина\", \"наталья\", \"мишка\", \"валерий\", \"дима\", \"лариса\", \"аня\", \"ляла\", \"татьяна\", \"аксюша\", \"юзеф\", \"дмитрий\", \"алексей\", \"дмитриевич\", \"петров\", \"петя\", \"андрей\", \"гриша\", \"боря\", \"николаев\", \"аля\", \"елена\", \"сереж\", \"григориевич\", \"василий\", \"сомовый\", \"павлик\", \"шура\", \"наташа\", \"катя\", \"александрович\", \"иван\", \"юрий\", \"надя\", \"владимир\", \"лида\", \"виктор\", \"иванов\", \"ирина\", \"валя\", \"борис\", \"анович\", \"мария\", \"чертков\", \"сергеевич\", \"ольга\", \"лёля\", \"фёдорович\", \"григорий\", \"михаилович\", \"николаевич\", \"анна\", \"пётр\", \"петрович\", \"васильевич\", \"ляля\", \"иванович\", \"зина\", \"володя\", \"никита\", \"лена\", \"коля\", \"николай\", \"маруся\", \"лиза\", \"олег\", \"вася\", \"игорь\", \"георгий\", \"львович\", \"марина\", \"софья\", \"андреевич\", \"александр\", \"цветаев\", \"владимирович\", \"таня\", \"анна\", \"василиевич\", \"петрович\", \"сергей\", \"василиевич\", \"саша\", \"павлович\", \"маша\", \"миша\", \"константин\", \"пётр\", \"павел\", \"лена\", \"лев\", \"серёжа\", \"оля\", \"яковлевич\", \"нина\", \"шурик\", \"женя\", \"соня\", \"семён\", \"костя\", \"миша\"]\n",
    "    for item in lemmatized_text:\n",
    "        for i in range(len(item)):\n",
    "            if item[i] in names_list:\n",
    "                item[i] = \"<имя>\"\n",
    "                if re.search(\"[а-я]\\.\", str(item[i])):\n",
    "                    item[i] = \"<имя>\"\n",
    "    return lemmatized_text"
   ]
  },
  {
   "cell_type": "code",
   "execution_count": 260,
   "id": "martial-forth",
   "metadata": {},
   "outputs": [],
   "source": [
    "period2_preprocessed = [preprocess(record) for record in period2_records_flat]"
   ]
  },
  {
   "cell_type": "code",
   "execution_count": 234,
   "id": "terminal-reducing",
   "metadata": {},
   "outputs": [],
   "source": [
    "period1_preprocessed_flat = flatten_list(period1_preprocessed)"
   ]
  },
  {
   "cell_type": "code",
   "execution_count": 261,
   "id": "expected-pricing",
   "metadata": {},
   "outputs": [],
   "source": [
    "#чанк для вытаскивания фраз\n",
    "phrases = gensim.models.Phrases(period2_preprocessed)\n",
    "p = gensim.models.phrases.Phraser(phrases)\n",
    "ngrammed_texts = p [period2_preprocessed]"
   ]
  },
  {
   "cell_type": "code",
   "execution_count": 262,
   "id": "fixed-trunk",
   "metadata": {},
   "outputs": [],
   "source": [
    "gensim_dictionary_for_TM = gensim.corpora.Dictionary(period2_preprocessed)"
   ]
  },
  {
   "cell_type": "code",
   "execution_count": 263,
   "id": "streaming-logic",
   "metadata": {},
   "outputs": [],
   "source": [
    "gensim_dictionary_for_TM.filter_extremes(no_above=0.1, no_below=20)"
   ]
  },
  {
   "cell_type": "code",
   "execution_count": 264,
   "id": "proved-reducing",
   "metadata": {},
   "outputs": [],
   "source": [
    "gensim_dictionary_for_TM.compactify()"
   ]
  },
  {
   "cell_type": "code",
   "execution_count": 265,
   "id": "macro-blade",
   "metadata": {},
   "outputs": [],
   "source": [
    "corpus = [gensim_dictionary_for_TM.doc2bow(text) for text in period2_preprocessed]"
   ]
  },
  {
   "cell_type": "code",
   "execution_count": 266,
   "id": "aware-quebec",
   "metadata": {},
   "outputs": [],
   "source": [
    "lda2 = gensim.models.LdaMulticore(corpus, \n",
    "                                 num_topics = 20, # число топиков\n",
    "                                 id2word=gensim_dictionary_for_TM, \n",
    "                                 passes=5)"
   ]
  },
  {
   "cell_type": "code",
   "execution_count": 267,
   "id": "waiting-wagner",
   "metadata": {},
   "outputs": [
    {
     "data": {
      "text/plain": [
       "[(0,\n",
       "  '0.003*\"небо\" + 0.003*\"собака\" + 0.003*\"тоска\" + 0.003*\"лес\" + 0.002*\"природа\" + 0.002*\"смеяться\" + 0.002*\"господь\" + 0.002*\"тело\" + 0.002*\"страшный\" + 0.002*\"вода\"'),\n",
       " (1,\n",
       "  '0.005*\"личный\" + 0.005*\"личность\" + 0.004*\"борьба\" + 0.003*\"вода\" + 0.003*\"человеческий\" + 0.003*\"общество\" + 0.003*\"искусство\" + 0.003*\"цель\" + 0.003*\"сознание\" + 0.003*\"гора\"'),\n",
       " (2,\n",
       "  '0.005*\"тётя\" + 0.004*\"саша\" + 0.004*\"лошадь\" + 0.004*\"мужик\" + 0.003*\"лес\" + 0.003*\"серёжа\" + 0.003*\"красный\" + 0.003*\"сон\" + 0.003*\"дерево\" + 0.003*\"дождь\"'),\n",
       " (3,\n",
       "  '0.009*\"пьеса\" + 0.008*\"дягилев\" + 0.008*\"париж\" + 0.005*\"артист\" + 0.005*\"сцена\" + 0.005*\"репетиция\" + 0.004*\"концерт\" + 0.004*\"сентябрь\" + 0.004*\"роль\" + 0.004*\"операция\"'),\n",
       " (4,\n",
       "  '0.051*\"л.\" + 0.044*\"н.\" + 0.021*\"андреевич\" + 0.020*\"софья\" + 0.013*\"львович\" + 0.010*\"григориевич\" + 0.009*\"владимир\" + 0.008*\"ясный\" + 0.007*\"александр\" + 0.006*\"h.\"'),\n",
       " (5,\n",
       "  '0.006*\"26\" + 0.005*\"соня\" + 0.005*\"надя\" + 0.004*\"царь\" + 0.004*\"27\" + 0.004*\"надежда\" + 0.004*\"рубль\" + 0.003*\"пушкин\" + 0.003*\"билет\" + 0.003*\"i\"'),\n",
       " (6,\n",
       "  '0.025*\"л.\" + 0.022*\"н.\" + 0.013*\"о.\" + 0.008*\"софья\" + 0.006*\"львович\" + 0.006*\"андреевич\" + 0.005*\"александр\" + 0.004*\"николаевич\" + 0.004*\"александрович\" + 0.004*\"церковь\"'),\n",
       " (7,\n",
       "  '0.007*\"семён\" + 0.004*\"папа\" + 0.003*\"сын\" + 0.003*\"девочка\" + 0.003*\"лето\" + 0.003*\"иванович\" + 0.003*\"сестра\" + 0.003*\"школа\" + 0.003*\"шурик\" + 0.002*\"быстро\"'),\n",
       " (8,\n",
       "  '0.005*\"урок\" + 0.005*\"опера\" + 0.005*\"гора\" + 0.005*\"сцена\" + 0.004*\"концерт\" + 0.004*\"костя\" + 0.004*\"музыка\" + 0.004*\"павлик\" + 0.003*\"муж\" + 0.003*\"серёжа\"'),\n",
       " (9,\n",
       "  '0.011*\"николай\" + 0.005*\"горький\" + 0.005*\"с.\" + 0.004*\"стих\" + 0.003*\"поэт\" + 0.003*\"лето\" + 0.003*\"блок\" + 0.002*\"писатель\" + 0.002*\"д.\" + 0.002*\"а.\"'),\n",
       " (10,\n",
       "  '0.021*\"серёжа\" + 0.013*\"яковлевич\" + 0.011*\"иван\" + 0.006*\"сереж\" + 0.005*\"обед\" + 0.005*\"берег\" + 0.005*\"море\" + 0.004*\"ужин\" + 0.004*\"вино\" + 0.004*\"роза\"'),\n",
       " (11,\n",
       "  '0.007*\"женя\" + 0.006*\"нина\" + 0.004*\"сестра\" + 0.003*\"власть\" + 0.003*\"лёля\" + 0.002*\"картина\" + 0.002*\"рабочий\" + 0.002*\"школа\" + 0.002*\"россия\" + 0.002*\"молчать\"'),\n",
       " (12,\n",
       "  '0.009*\"юрий\" + 0.007*\"ива\" + 0.005*\"анович\" + 0.003*\"поцелуй\" + 0.003*\"стихотворение\" + 0.003*\"слеза\" + 0.003*\"весёлый\" + 0.003*\"грустно\" + 0.003*\"весело\" + 0.002*\"скорее\"'),\n",
       " (13,\n",
       "  '0.007*\"ч\" + 0.006*\"вася\" + 0.005*\"николаевич\" + 0.005*\"существо\" + 0.005*\"благо\" + 0.004*\"духовный\" + 0.004*\"брак\" + 0.004*\"человѣкъ\" + 0.004*\"сознані\" + 0.004*\"лев\"'),\n",
       " (14,\n",
       "  '0.007*\"революция\" + 0.007*\"страна\" + 0.006*\"ленин\" + 0.005*\"школа\" + 0.005*\"товарищ\" + 0.005*\"маяковский\" + 0.004*\"шура\" + 0.004*\"социалистический\" + 0.004*\"февраль\" + 0.003*\"советский\"'),\n",
       " (15,\n",
       "  '0.025*\"марина\" + 0.005*\"ирина\" + 0.005*\"речь\" + 0.004*\"м.\" + 0.004*\"а.\" + 0.004*\"аля\" + 0.003*\"страдать\" + 0.003*\"н\" + 0.003*\"россия\" + 0.003*\"ваш\"'),\n",
       " (16,\n",
       "  '0.005*\"офицер\" + 0.005*\"россия\" + 0.004*\"обед\" + 0.004*\"армия\" + 0.004*\"газета\" + 0.004*\"князь\" + 0.003*\"война\" + 0.003*\"генерал\" + 0.003*\"немец\" + 0.003*\"речь\"'),\n",
       " (17,\n",
       "  '0.015*\"а.\" + 0.015*\"н.\" + 0.009*\"в.\" + 0.007*\"стих\" + 0.006*\"стихотворение\" + 0.005*\"пушкин\" + 0.004*\"м.\" + 0.004*\"и.\" + 0.004*\"е.\" + 0.004*\"с.\"'),\n",
       " (18,\n",
       "  '0.011*\"христос\" + 0.007*\"господь\" + 0.006*\"война\" + 0.006*\"страдание\" + 0.005*\"россия\" + 0.004*\"картина\" + 0.004*\"человеческий\" + 0.004*\"божий\" + 0.004*\"святой\" + 0.004*\"сомовый\"'),\n",
       " (19,\n",
       "  '0.014*\"лев\" + 0.009*\"чертков\" + 0.006*\"муж\" + 0.005*\"ник\" + 0.005*\"николаевич\" + 0.004*\"страдание\" + 0.004*\"н.\" + 0.003*\"ужасно\" + 0.003*\"л.\" + 0.003*\"саша\"')]"
      ]
     },
     "execution_count": 267,
     "metadata": {},
     "output_type": "execute_result"
    }
   ],
   "source": [
    "lda2.print_topics()"
   ]
  },
  {
   "cell_type": "code",
   "execution_count": 40,
   "id": "empty-operations",
   "metadata": {},
   "outputs": [],
   "source": [
    "#запишем записи нужного периода в словарь чтобы не потерять ID\n",
    "def period_to_dict(list_ids):\n",
    "    '''Функция собирает в словарь ID и текст записи нужного периода'''\n",
    "    period_dict = {}\n",
    "    for key, value in diaries_dic.items():\n",
    "        for item in list_ids:\n",
    "            if key == item:\n",
    "                period_dict[key]= value\n",
    "    return period_dict"
   ]
  },
  {
   "cell_type": "code",
   "execution_count": 54,
   "id": "specified-municipality",
   "metadata": {},
   "outputs": [],
   "source": [
    "female1_dict = period_to_dict(female_ids1)\n",
    "female2_dict = period_to_dict(female_ids2)\n",
    "female3_dict = period_to_dict(female_ids3)\n",
    "female4_dict = period_to_dict(female_ids4)\n",
    "female5_dict = period_to_dict(female_ids5)\n",
    "male1_dict = period_to_dict(male_ids1)\n",
    "male2_dict = period_to_dict(male_ids2)\n",
    "male3_dict = period_to_dict(male_ids3)\n",
    "male4_dict = period_to_dict(male_ids4)\n",
    "male5_dict = period_to_dict(male_ids5)"
   ]
  },
  {
   "cell_type": "code",
   "execution_count": 41,
   "id": "accessible-diving",
   "metadata": {},
   "outputs": [],
   "source": [
    "period1_dict = period_to_dict(period1_ids)"
   ]
  },
  {
   "cell_type": "code",
   "execution_count": 42,
   "id": "noble-camera",
   "metadata": {},
   "outputs": [],
   "source": [
    "period2_dict = period_to_dict(period2_ids)\n",
    "period3_dict = period_to_dict(period3_ids)\n",
    "period4_dict = period_to_dict(period4_ids)\n",
    "period5_dict = period_to_dict(period5_ids)"
   ]
  },
  {
   "cell_type": "code",
   "execution_count": 56,
   "id": "personalized-sympathy",
   "metadata": {},
   "outputs": [
    {
     "data": {
      "text/html": [
       "<div>\n",
       "<style scoped>\n",
       "    .dataframe tbody tr th:only-of-type {\n",
       "        vertical-align: middle;\n",
       "    }\n",
       "\n",
       "    .dataframe tbody tr th {\n",
       "        vertical-align: top;\n",
       "    }\n",
       "\n",
       "    .dataframe thead th {\n",
       "        text-align: right;\n",
       "    }\n",
       "</style>\n",
       "<table border=\"1\" class=\"dataframe\">\n",
       "  <thead>\n",
       "    <tr style=\"text-align: right;\">\n",
       "      <th></th>\n",
       "      <th>ID</th>\n",
       "      <th>Автор</th>\n",
       "      <th>ID дневника</th>\n",
       "      <th>Дата</th>\n",
       "      <th>Гендер</th>\n",
       "      <th>ID автора</th>\n",
       "      <th>Период</th>\n",
       "    </tr>\n",
       "  </thead>\n",
       "  <tbody>\n",
       "    <tr>\n",
       "      <th>609</th>\n",
       "      <td>187649</td>\n",
       "      <td>Юрий Алексеевич Рябов</td>\n",
       "      <td>528</td>\n",
       "      <td>1942-12-11</td>\n",
       "      <td>Мужской</td>\n",
       "      <td>520</td>\n",
       "      <td>Период 3</td>\n",
       "    </tr>\n",
       "  </tbody>\n",
       "</table>\n",
       "</div>"
      ],
      "text/plain": [
       "         ID                  Автор  ID дневника       Дата   Гендер  \\\n",
       "609  187649  Юрий Алексеевич Рябов          528 1942-12-11  Мужской   \n",
       "\n",
       "     ID автора    Период  \n",
       "609        520  Период 3  "
      ]
     },
     "execution_count": 56,
     "metadata": {},
     "output_type": "execute_result"
    }
   ],
   "source": [
    "#пополняем данные записей с паттернами\n",
    "meta_info_cleaned[(meta_info_cleaned['ID'] == 187649)]"
   ]
  },
  {
   "cell_type": "code",
   "execution_count": 83,
   "id": "detected-completion",
   "metadata": {},
   "outputs": [],
   "source": [
    "#ищем записи Галины Ларской из пятого периода\n",
    "larskaya_ids = meta_info_cleaned[meta_info_cleaned['ID дневника'] == 991][\"ID\"]"
   ]
  },
  {
   "cell_type": "code",
   "execution_count": 89,
   "id": "prescription-richards",
   "metadata": {},
   "outputs": [],
   "source": [
    "larskaya_records = []\n",
    "for item in diaries_dic.items():\n",
    "    for x in larskaya_ids:\n",
    "        if item[0] == x:\n",
    "            larskaya_records.append(item[1]) "
   ]
  },
  {
   "cell_type": "code",
   "execution_count": 115,
   "id": "ready-physiology",
   "metadata": {},
   "outputs": [],
   "source": [
    "larskaya_records_flat = flatten_list(larskaya_records)"
   ]
  },
  {
   "cell_type": "code",
   "execution_count": 86,
   "id": "closing-wrestling",
   "metadata": {},
   "outputs": [],
   "source": [
    "more_stops = ['мой', 'один', 'который', 'свой', 'такой', 'иметь', 'должный', 'сделать', 'дать', 'наш', 'самый', 'всякий', 'первый', 'стать', 'к', 'идти', 'какой', 'мочь', '\\\\nя', 'другой', 'прийти', 'новый', 'какой-то', 'хотеться', 'никто', 'давать', 'взять', 'из-за', 'com', 'id=', '\\\\n—', '\\\\n', \"''\", 'который', \"...\"]"
   ]
  },
  {
   "cell_type": "code",
   "execution_count": 103,
   "id": "great-tsunami",
   "metadata": {},
   "outputs": [],
   "source": [
    "from string import punctuation\n",
    "more_punctuation = punctuation + \"—»«...–''\""
   ]
  },
  {
   "cell_type": "code",
   "execution_count": 107,
   "id": "filled-donna",
   "metadata": {},
   "outputs": [],
   "source": [
    "from pymorphy2 import MorphAnalyzer\n",
    "parser = MorphAnalyzer ()"
   ]
  },
  {
   "cell_type": "code",
   "execution_count": 105,
   "id": "wicked-fluid",
   "metadata": {},
   "outputs": [],
   "source": [
    "def keywords_most_frequent_lemma (some_list, num_most_freq):\n",
    "    '''Функция получает на вход текст и число, выдаёт указанное число частотных слов'''\n",
    "    for string in some_list:\n",
    "        tokenized_text = []\n",
    "        tokenized_text.append(word_tokenize(string))\n",
    "    tokenized_text = flatten_list(tokenized_text)\n",
    "    clean_text = []\n",
    "    filter = stoplist2 + more_stops\n",
    "    filter.extend (list(more_punctuation))\n",
    "    tokenized_text = [token.lower() for token in tokenized_text] \n",
    "    #counter = [n for n in num_most_freq]\n",
    "    for i, token in enumerate(tokenized_text):\n",
    "        if token not in filter:\n",
    "            lemmatized_token = parser.parse(token)[0].normal_form\n",
    "            clean_text.append(lemmatized_token)\n",
    "            words_and_frequencies = Counter (clean_text).most_common(num_most_freq)\n",
    "            freq_dict = {}\n",
    "            i=0\n",
    "            for pair in words_and_frequencies:\n",
    "                i+=1\n",
    "                freq_dict[i] = pair[0]\n",
    "    return freq_dict"
   ]
  },
  {
   "cell_type": "code",
   "execution_count": 112,
   "id": "assured-organizer",
   "metadata": {},
   "outputs": [],
   "source": [
    "period1_records_keywords = keywords_most_frequent_lemma(period1_records_flat, 100)"
   ]
  },
  {
   "cell_type": "code",
   "execution_count": 115,
   "id": "inner-presentation",
   "metadata": {},
   "outputs": [
    {
     "data": {
      "text/plain": [
       "{1: 'письмо',\n",
       " 2: 'что-то',\n",
       " 3: 'думать',\n",
       " 4: 'ответить',\n",
       " 5: 'полный',\n",
       " 6: 'вчера',\n",
       " 7: 'проходить',\n",
       " 8: 'подождать',\n",
       " 9: '1',\n",
       " 10: 'ч.',\n",
       " 11: 'ночь',\n",
       " 12: 'положительно',\n",
       " 13: 'недоумевать',\n",
       " 14: 'промолчать',\n",
       " 15: 'такой',\n",
       " 16: 'мой',\n",
       " 17: '14740382394160',\n",
       " 18: 'невозможно',\n",
       " 19: 'особо',\n",
       " 20: 'уважительный',\n",
       " 21: 'причина',\n",
       " 22: 'достаточно',\n",
       " 23: 'фраза',\n",
       " 24: 'пусть',\n",
       " 25: 'несчастный',\n",
       " 26: 'бесчестный',\n",
       " 27: 'александр',\n",
       " 28: 'михаилович',\n",
       " 29: 'а.',\n",
       " 30: 'м.',\n",
       " 31: 'тотчас',\n",
       " 32: 'основание',\n",
       " 33: 'предполагать',\n",
       " 34: 'сбыться',\n",
       " 35: 'выпить',\n",
       " 36: 'водка',\n",
       " 37: 'сильно',\n",
       " 38: 'подействовать',\n",
       " 39: 'лечь',\n",
       " 40: 'спать',\n",
       " 41: 'полубесчувствие',\n",
       " 42: 'больной',\n",
       " 43: 'земляческий',\n",
       " 44: 'собрание',\n",
       " 45: 'ресторан',\n",
       " 46: 'пить',\n",
       " 47: 'толковать',\n",
       " 48: 'оживление',\n",
       " 49: 'роль',\n",
       " 50: 'интеллигенция',\n",
       " 51: 'отношение',\n",
       " 52: 'рабочий',\n",
       " 53: 'вопрос',\n",
       " 54: 'подходить',\n",
       " 55: 'дом',\n",
       " 56: 'уверенность',\n",
       " 57: 'ждать',\n",
       " 58: 'сердце',\n",
       " 59: 'замирать',\n",
       " 60: 'готовиться',\n",
       " 61: 'дурной',\n",
       " 62: 'прийти',\n",
       " 63: 'пустота',\n",
       " 64: 'ошаление',\n",
       " 65: 'извне',\n",
       " 66: 'таков',\n",
       " 67: 'душа',\n",
       " 68: 'невероятный',\n",
       " 69: 'мысль',\n",
       " 70: 'револьвер',\n",
       " 71: 'свет',\n",
       " 72: 'день',\n",
       " 73: 'фантастически-неосуществимый',\n",
       " 74: 'приобретать',\n",
       " 75: 'больший',\n",
       " 76: 'реальность',\n",
       " 77: 'смотреть',\n",
       " 78: 'земляк',\n",
       " 79: 'удивиться',\n",
       " 80: 'услыхать',\n",
       " 81: 'здравый',\n",
       " 82: 'спокойно',\n",
       " 83: 'рассуждать',\n",
       " 84: 'господин',\n",
       " 85: 'т.',\n",
       " 86: 'д.',\n",
       " 87: 'самоубийство',\n",
       " 88: 'тоска',\n",
       " 89: 'боль',\n",
       " 90: 'глубокий',\n",
       " 91: 'спокойствие',\n",
       " 92: 'являться',\n",
       " 93: 'настолько',\n",
       " 94: 'безусловно',\n",
       " 95: 'решить',\n",
       " 96: 'волноваться',\n",
       " 97: 'грустно',\n",
       " 98: 'счастливый',\n",
       " 99: 'поворот',\n",
       " 100: 'дело'}"
      ]
     },
     "execution_count": 115,
     "metadata": {},
     "output_type": "execute_result"
    }
   ],
   "source": [
    "period1_records_keywords"
   ]
  },
  {
   "cell_type": "code",
   "execution_count": 114,
   "id": "communist-raising",
   "metadata": {},
   "outputs": [
    {
     "name": "stdout",
     "output_type": "stream",
     "text": [
      "{42: 'больной'}\n"
     ]
    }
   ],
   "source": [
    "shared_items = {k: period1_records_keywords[k] for k in period1_records_keywords if k in larskaya_records_keywords and period1_records_keywords[k] == larskaya_records_keywords[k]}\n",
    "print(shared_items)"
   ]
  },
  {
   "cell_type": "code",
   "execution_count": 108,
   "id": "printable-worry",
   "metadata": {},
   "outputs": [],
   "source": [
    "larskaya_records_keywords = keywords_most_frequent_lemma(larskaya_records_flat, 100)"
   ]
  },
  {
   "cell_type": "code",
   "execution_count": 109,
   "id": "boxed-hamilton",
   "metadata": {},
   "outputs": [
    {
     "data": {
      "text/plain": [
       "{1: 'помочь',\n",
       " 2: 'n.',\n",
       " 3: 'филиппович',\n",
       " 4: 'сон',\n",
       " 5: 'любить',\n",
       " 6: 'евгений',\n",
       " 7: 'стих',\n",
       " 8: 'свекровь',\n",
       " 9: 'стать',\n",
       " 10: 'рука',\n",
       " 11: 'жизнь',\n",
       " 12: 'кричать',\n",
       " 13: 'пол',\n",
       " 14: 'помыть',\n",
       " 15: 'рассказать',\n",
       " 16: 'умерший',\n",
       " 17: 'депрессия',\n",
       " 18: 'окно',\n",
       " 19: 'шкаф',\n",
       " 20: 'занавеска',\n",
       " 21: 'быстро',\n",
       " 22: 'бок',\n",
       " 23: 'болеть',\n",
       " 24: 'человек',\n",
       " 25: 'помогать',\n",
       " 26: 'писать',\n",
       " 27: 'друг',\n",
       " 28: 'познакомиться',\n",
       " 29: 'и.',\n",
       " 30: 'женщина',\n",
       " 31: 'услышать',\n",
       " 32: 'цветаев',\n",
       " 33: 'сорок',\n",
       " 34: 'пастернак',\n",
       " 35: 'е.ф',\n",
       " 36: 'любимый',\n",
       " 37: 'умереть',\n",
       " 38: 'долг',\n",
       " 39: 'семья',\n",
       " 40: 'затмение',\n",
       " 41: 'зуб',\n",
       " 42: 'больной',\n",
       " 43: 'сбыться',\n",
       " 44: 'сниться',\n",
       " 45: 'какой-то',\n",
       " 46: 'вещь',\n",
       " 47: 'уронить',\n",
       " 48: 'должный',\n",
       " 49: 'постирать',\n",
       " 50: 'германия',\n",
       " 51: 'позвонить',\n",
       " 52: 'хороший',\n",
       " 53: 'приятельница',\n",
       " 54: 'сложный',\n",
       " 55: 'отношение',\n",
       " 56: 'помолиться',\n",
       " 57: 'упокоение',\n",
       " 58: 'душа',\n",
       " 59: 'простить',\n",
       " 60: 'нелюбовь',\n",
       " 61: 'связать',\n",
       " 62: 'грязный',\n",
       " 63: 'вата',\n",
       " 64: 'мыть',\n",
       " 65: 'легко',\n",
       " 66: 'чистый',\n",
       " 67: 'очиститься',\n",
       " 68: 'наяву',\n",
       " 69: 'перестать',\n",
       " 70: 'проснуться',\n",
       " 71: 'обнаружить',\n",
       " 72: 'никакой',\n",
       " 73: 'говорить',\n",
       " 74: 'москва',\n",
       " 75: 'тяжело',\n",
       " 76: 'специально',\n",
       " 77: 'закрывать',\n",
       " 78: 'обращать',\n",
       " 79: 'внимание',\n",
       " 80: 'норма',\n",
       " 81: 'поведение',\n",
       " 82: 'жуткий',\n",
       " 83: 'считать',\n",
       " 84: 'связь',\n",
       " 85: 'манипулятор',\n",
       " 86: 'обрывать',\n",
       " 87: 'почувствовать',\n",
       " 88: 'картина',\n",
       " 89: 'обещать',\n",
       " 90: 'помощь',\n",
       " 91: 'тревожить',\n",
       " 92: 'оставить',\n",
       " 93: 'покой',\n",
       " 94: 'жена',\n",
       " 95: 'мой',\n",
       " 96: 'оля',\n",
       " 97: 'уфа',\n",
       " 98: 'интересный',\n",
       " 99: 'алкоголик',\n",
       " 100: 'бывший'}"
      ]
     },
     "execution_count": 109,
     "metadata": {},
     "output_type": "execute_result"
    }
   ],
   "source": [
    "larskaya_records_keywords"
   ]
  },
  {
   "cell_type": "code",
   "execution_count": 118,
   "id": "hazardous-secret",
   "metadata": {},
   "outputs": [
    {
     "data": {
      "text/plain": [
       "0.004611837048424289"
      ]
     },
     "execution_count": 118,
     "metadata": {},
     "output_type": "execute_result"
    }
   ],
   "source": [
    "6 / 1301\n",
    "#3 / 2207\n",
    "#3 / 936"
   ]
  },
  {
   "cell_type": "code",
   "execution_count": 179,
   "id": "biblical-judge",
   "metadata": {},
   "outputs": [
    {
     "data": {
      "text/plain": [
       "0.8135720296322877"
      ]
     },
     "execution_count": 179,
     "metadata": {},
     "output_type": "execute_result"
    }
   ],
   "source": [
    "import math\n",
    "math.sqrt(0.6618994474)"
   ]
  },
  {
   "cell_type": "code",
   "execution_count": 139,
   "id": "accredited-marks",
   "metadata": {},
   "outputs": [
    {
     "name": "stdout",
     "output_type": "stream",
     "text": [
      "(386871, ['Дорогой мой, если бы ты знал, какие дни я переживаю, что в душе моей и сердце, ты полюбил бы меня еще сильнее. Владик, как я люблю тебя, ты самый хороший, умный, бесценный. Одно мое желание — скорее встретиться с тобой, мы были бы теперь навсегда счастливы, но Боже сохрани, если разлука, тогда смерть мне. Проходят дни, годы, забываешь горе и снова будешь радоваться жизни; я не хочу этого, мое счастье только ты. Пусть смерть возьмет меня раньше, чем время залечит все душевные раны и возвратит мне покой.    \\nЯ плачу, пусть с этими слезами исчезнет горе, ты вернешься, у тебя будет сын, Владя. Сколько радости нас ждет, вернись, мой желанный, вернись, мой родной!    \\nПисем от Влади нет, что мне делать? Уже месяц — ни слова. За что мне столько мучений, столько страданий? Я всегда была добра к людям, за что меня наказывает Творец. в чем я грешна?'])\n",
      "(213316, ['Суббота. После обеда, когда я уже поднималась по лестнице в цехе, меня окликнул Вовка с усиками и улыбаясь подал письмо. Это было письмо от Юзефа, полное любви и отчаяния от разлуки. Меня охватила какая-то радость. «Как любит, как дорожит он мною». Ни один еще парень не любил так девушку, как полюбил меня Юзеф. Я припоминаю всех кавалеров наших девушек, сравниваю их с Юзефом, и он встает перед моими глазами в лучшем свете.    \\nС письмом в руках, вся сияя, я иду по цеху с блестящими, улыбающимися глазами. Все заметили мою радость, все поздравляют меня. Девчатам так нравится искренняя, самоотверженная любовь Юзефа. Они завидуют мне. Ведь ни у одной девчонки нет здесь настоящего друга. Все эти кавалеры ходят лишь бы только провести время.    \\nВечером я собралась, чтобы вместе с Юлей идти на фабрику «Ада». Сегодня последняя репетиция. Завтра назначается «концерт». Все-таки я решила довести дело до конца и выступать во что бы то ни стало. Как ни тяжело мне было, иной раз даже разговаривать не хотелось, язык не поднимался. Я, преодолевая тяжелое настроение, каждый вечер ходила на репетицию. Иногда мне становилось легко, вспоминалось детство, школьные годы.    \\nЕще не успели мы с Юлей выйти из бараков, как в комнату вбежала, вся сияя, тетя Клава с радостным криком: «Приехал! Юзеф приехал!»    \\nМы с Юлей быстро выбежали. Юзеф стоял в сером костюме, в серой шляпе, мне сразу же понравился его вид. Радостно встретились мы с ним. Счастливая улыбка сияла на его, как мне казалось, похорошевшем лице, и во всей его возмужалой фигуре чувствовалась нескрываемая радость. «Его в самом деле можно полюбить, чем он нехорош?» — мелькнуло у меня в голове. И я, еще раз окинув его, осталась довольна своим кавалером.    \\nВсе вместе мы пошли на репетицию, всю дорогу оживленно разговаривая. Настроение у меня было, как никогда, хорошее. Все девчата радовались моей радости вместе со мной.    \\n«Какой он хороший у тебя, как любит тебя, приехал к тебе, и 120 км нипочем».    \\nЛенька уже перестал ухаживать за мной. Он смотрит на меня и на Юзефа и завидует нашему счастью и уважает нашу дружбу.    \\nЮзеф ведет себя, как и всегда, исключительно. Он умеет подойти к человеку, поговорить с каждым. Я горжусь им. Он терпеливо ждет, пока мы репетируем. Потом мы прощаемся со всеми и идем гулять. В поле уже гуляют парочки. Они останавливаются, поздравляют Юзефа с приездом, расспрашивают его. Долго гуляли мы с Юзефом. Уже было темно, тихо кругом, мы медленно шли с ним рука об руку. Он рассказывал мне, какое страданье, мученье принес ему отъезд, наша разлука.    \\nДа, он действительно любил меня и теперь страдал, страдал всем сердцем. Он любит меня искренне, пылко, всем жаром юной души, он плачет, как маленький ребенок, не уверен, что я люблю его, боится, что я забуду его. Но что за сердце у меня? Ни слезы, ни горячие слова любви не волнуют мою кровь, не отвечает мое холодное сердце на его пылкость. Но он, бедный, влюбленный, даже и не замечает моего равнодушия. Хотя, по правде сказать, я не равнодушна к нему. Нет, я тоже люблю его. Только не так, как он.'])\n",
      "(455569, ['     \\n### Е.И.З.       \\n                  \\n>Простите друг за беспокойство,     \\n>что я решила написать     \\n>вы может быть скажете глупо    \\n>все чувства в строчках излагать.    \\n>Но я молчать больше невсилах    \\n>я в вас влюбилась. Прям скажу     \\n>пусть будет это мужду нами    \\n>все то, что здесь я напишу.    \\n>Ведь ваши глазки так прекрасны    \\n>поймите друг не зря пишу    \\n>они пленили мое сердце     \\n>я в них признания ищу.    \\n>Не знаю сможете понять ли,     \\n>как сердце бьется у меня.     \\n>как ток проходит незаметно    \\n>когда мечтаю про тебя.    \\n>Ваш разговор, улыбки, взоры    \\n>жгут сердце бедное мое    \\n>но я совсем не виновата,    \\n>что вас люблю мой друг давно.    \\n>но что мне делать, к чему прибегнуть?    \\n>Как пламя в сердце угасить?    \\n>его залить водою трудно,    \\n>а от любви оно горит.    \\n                  \\n>Лиза.'])\n",
      "(443029, ['Как обычно, встала вместе с Информбюро. Бои по всему фронту. В 8 часов уже на фабрике. День был очень ясный и в городе, в трамвае уже были слышны выстрелы зениток, я думала, не добраться до «ВТ» до фабрики, но успела. В 8.15 «ВТ». Такой был шквал огня зениток, гул моторов, сразу же было дано задание занять бомбоубежище. Осколки снарядов сыпались всюду. Один осколок нашла на эстакаде, который лежит сейчас в кармане, может быть, сохраню. Эх, колыбель свободы, что ты стала переживать в эти грозные дни войны!    \\nСижу пишу, вырезаю вырезки из газет. Эти вырезки («Колыбель свободы» — статья Н. Тихонова; «Ленинград — крепость» — статья П. Попкова — председателя Исполкома Ленгорсовета), они ценны для меня, когда я приведу дневник в порядок, обработаю и приведу в последовательность.    \\n«ВТ» длится 45 минут, но сейчас тихо. С вышки сообщают, что на Охте пожар. Вот уже 131-я «ВТ»  по счёту. Прошли 132, 133 и наступила 134-я. Вот это была «ВТ»! Будет памятна на всю жизнь!    \\nВ 16.48 «ВТ». Романова сообщила, что по направлению к «Катушке» летят вражеские самолёты. Сразу же была дана команда занять бомбоубежище. Я пошла звонить по № 35 на Бревенку, чтобы убрали рабочих. Вдруг вижу, по правому берегу взрыв против нашей «Катушки». Клуб дыма от разорвавшейся бомбы, огненные осколки. Всем стало понятно, что начинается бомбёжка. Я бросила телефон. Бегу к себе в кабинет. Мотя бросила телефонную трубку и уже сидит под столом. Я её давай успокаивать. А взрывы бомб всё время продолжались поблизости. В общем, было, как называли раньше старухи, представление света. Кругом дым, пыль, моя голубятня трясётся, как из бумаги на курьих ножках, а я сижу одна, все в бомбоубежище. Думаю, вот-вот сковырнусь, но ничего. Вылетели только два стекла в конторе мастеров и в бухгалтерии. Ничего особенного. Я была спокойна. А Иван Анакин только и говорил в трубку: спокойно, товарищ, спокойно. Тревога длилась 91 минут. После того, как немного стихло, я пошла проверять что, где было. Оказывается, одна бомба упала на правом берегу, две бомбы — в воду, метров в 10 от моих рабочих и 7 бомб упало на территорию Бревенной биржи. Поковеркана немного жел. дор., сломана эстакада, два узкоколейных пути и повреждён водопровод. Всё ничего, жертв нет. Разрух больших тоже, следовательно, с этим можно мириться. Если больше не повторится. Даже с вышки убежал Титов, и долго никого не было на вышке. Так кончилось боевое крещение фабрики. В этот момент, момент бомбёжки я читала письмо, которое нашла в столе от Лизы. Вот оно:    \\n                 \\n>Проходят годы безвозвратно,    \\n>Но продолжаю я грустить,    \\n>И жду тебя, мой друг, обратно    \\n>В надежде нежно полюбить.    \\n                 \\n>Припев: Весёлый час придёт к нам снова,    \\n>Вернёшься ты и вот тогда,    \\n>Тогда дадим друг другу слово,    \\n>Что будем вместе навсегда.    \\n                 \\n>С тобой не в силах быть в разлуке    \\n>Я образ твой в душе ношу.    \\n>И всюду давит бремя скуки,    \\n>Забыть тебя я не могу.    \\n                 \\n>Вот, пережив всю боль разлуки,    \\n>Я повторяю тебе вновь,    \\n>Что, кажется, то была не дружба (Эх, знакомый!),    \\n>А настоящая любовь.    \\n                 \\n>Свиданья день, когда настанет    \\n>Любовь, не буду ждать тебя,    \\n>И снова сердце биться станет    \\n>С тобой, мой друг, тебя любя.    \\n                 \\nЭх, знакомый, знакомый, после бури ведь всегда затишье, чтобы ты был здесь, и мы бы с тобой поделились обо всём. Да, думаю, ты после бури, наверное, тоже вспоминаешь меня.    \\nХочу сильно спать, но ничего не поделаешь, проклятый враг не даёт покоя ни днем, ни ночью. После сегодняшней ураганной бомбёжки болит голова. Но в 21.08 опять «ВТ» и закончилась в 23.54. В этот момент я не сидела у себя, как обычно, а была yа Бревенке. Тревога прошла спокойно. Гул моторов был где-то вдали и очень высоко. Где-то сволочь спустил несколько бомб, но далеко от нас. Сволочи, продажные души, опять пускали ракеты, в особенности в сторону Картонтоля, в направлении нашей сплавной станции. В период наблюдения мы заходили на Бревенку и занимались рассказом анекдотов. Забрали Матерь Божию и свели к директору, так как он курил у окна. Сегодня сообщили, что М. К. Русский ранен, как раз звонил во время бомбёжки фабрики.    \\nНу ладно, Саша, спокойной ночи. Я знаю, хочешь спать — спи.'])\n",
      "(273496, ['Думала, что в огне, слезах, бесконечном горе и голоде никогда не появится желания писать снова дневник. А сегодня случилось такое, что заставило меня писать.    \\nВсе это время совершенно не было никакой возможности писать, к тому же не было ни бумаги, ни места, ни чем писать.    \\nА сегодня вдруг сразу нашлось все (тетрадочку мне подарил один боец, перо попросила в штабе, где я служу, ну а чернила легко сделала из карандаша, ручку из обыкновенной палки). Живем мы сейчас в доме-общежитии, пиши на здоровье.    \\nЯ настолько привыкла писать сюда, что все это время страшно переживала, что не было возможности делиться с тобой — мое немое создание! Начала писать еще с 5-го класса, но тот дневник теперь потерян для меня навсегда. Я его брала с собой даже в окоп, возможно, его кто-то читал? Что ж, там мои школьные девичьи воспоминания, жаль, что он потерян. Да что дневник? Вот потерян навсегда самый дорогой человек — отец! Снова и снова наплывают воспоминания о Папе, каждый день, каждый час, каждую минуту. С Папой было хорошо, с ним мы были все вместе и в родном гнезде. Куда теперь нас разбросает судьба?    \\nТак и сидели мы в окопе до тех пор, пока не погиб наш дорогой Папочка. Его убил немец-снайпер.    \\nПомню, как полтора месяца тому назад, вечер 26 сентября был очень тихий, светила полная луна, ни ветерка, ни тучки, ни единственного выстрела. Пришел Папа и сказал: «А ну вылазьте все из окопа и подышите воздухом», а сам взял на руки свою любимицу Лиду, т. к. она меньше всех, ей 6 лет. Мы все расселись около него. В тот вечер Папа был почему-то такой задумчивый, казалось, что глаза его смотрели куда-то в одну точку, на Волгу, в них даже было видно отражение «золотой» лунной дорожки на воде. Папа говорил, что все мы уже большие (кроме Лиды), все ему станем помогать, что скоро погоним немцев и мы снова еще раз построим себе дом, выстроим его еще лучше и еще больше. Вспоминали, где кто побывал, Папа впервые улыбнулся за этот вечер и сказал, что я больше всех остальных уже побывала в других городах. Так приятно было сидеть рядом с Папой, с ним как-то не так страшна была война. Затем он проводил нас всех спать в окоп, а сам еще долго что-то делал сверху по устройству нашего окопа.    \\nА 27 сентября рано утром Папа разбудил нас. На улице было так тихо, ярко светило сентябрьское солнце, вода блестела и, казалось, застыла на месте, как залитое стекло-зеркало, казалось, что все кончилось и нет больше войны.    \\nПапа, как и всегда по утрам, приготовлялся идти развести костер, чтобы сварить манной каши. В это время прибежали два Вити и впервые нарушили эту мертвую тишину, перекинувшись несколькими короткими фразами. Витя и «Пачик» ушли. А Папа в это время открыл крышку окопа и крикнул соседу: «Шура, выходи, вы жив...» — на этом недосказанном слове и оборвалась его жизнь. Раздался выстрел, а скорее какой-то щелчок — и Папа стал медленно оседать на ступеньки окопа. Все это произошло в какой-то миг и было как далекий сон, я все слышала сквозь утреннюю дрему, а когда раздался щелчок-выстрел, я открыла глаза, и первое, что я увидела, — оседающего, беспомощного и всего в крови Папу. Мама стояла как завороженная в этот момент и смотрела на него, неспособная двинуться с места. Я подбежала к нему первая, т. к. сидела крайняя в окопе, рядом с Мамой. Но было уже поздно, Папа был мертв, хотя пульс и сердце еще бились, а кровь лилась «ключом» из его правого виска, я попробовала пальцем приостановить кровь, но мой палец легко прошел в это отверстие и кровь лилась, лилась, лилась...    \\nКричали мы все, и, видимо, на крик прибежал Витя, он стоял молча и смотрел широко открытыми глазами на Папу, по щекам его текли слезы, в это время его волосы чесали пули, видимо, того же снайпера, летели мимо ушей, плеча, а он все стоял и будто не замечал ничего вокруг себя. Я кричала ему: «Беги Витя, беги отсюда». Началась такая ужасная стрельба, но мы ее уже не слышали, крышка нашего окопа опустилась, оставив нам небольшое отверстие, и мы погрузились полностью в свое неутешное горе. Где был Витя? Что с ним, мы не знали, т. к. он остался там, наверху, а мы в окопе. Потом мы увидели, вернее, услышали голос «Пачика», он смотрел на Папу такими же удивленными глазами, как и Виктор, только спросил: «Что, разве убили дядю Мишу?», а сам ползал вокруг окопа, как кошка, и приговаривал: «Туже перевяжите его». Затем все смолкло и мы увидели опустившуюся к нам в окоп руку, с пальцев которой в окоп лилась алая кровь, были видны ноги, обутые в такие же ботинки, что и у Вити, и мы поняли, что на крышке лежит убитый — Виктор, горе наше удвоилось, и мы, кажется, потеряли рассудок.    \\nТак мы и сидели, с мертвым Папой, без еды, воды и сна 2 дня. Много погибло людей в этот день, самый первый погиб наш Папа. Погибли наши соседи Вера и Евдокия Павловна Соснины. Здесь же, рядом с окопом, было много убитых бойцов.    \\nЛишь поздно вечером второго дня с тихим плачем подошла к окопу тетя Маруся, и мы услышали голос нашего Виктора, не верилось, Витя был жив, а погиб, оказалось, «Пачик», верный друг Виктора, ведь он пришел, чтобы разделить с нами наше горе, и погиб сам, видимо, от той же руки снайпера.    \\nТетя Маруся плакала так тихо, что ее плача никто не слыхал, ведь он был у нее единственный и любимый сын. Затем они с Виктором помогли нам вытащить труп Папы из окопа.    \\nНа следующий день, как стемнело, мы обернули трупы Папы и Виктора в простыни и схоронили их в подвале у Подлесновых. Взяли с собой по сумке муки, что была в окопе, и пошли к Волге. Даже не оделись ни во что теплое и босые двинулись в далекий и страшный путь.    \\nДойдя до оврага, я увидела трупы Веры и ее матери, их никто не присыпал землей. Шла самая последняя, голова кружилась, сил совсем не было. Я скатилась как камень вниз оврага, идти больше не было сил, ноги распухли и ужасно болели. Меня подняли бойцы, но я снова падала и не стояла на ногах словно пьяная, помню не благодарила их и была в каком-то забвении. Нервы были напряжены до предела. Когда мы наконец добрались до берега, сразу же бросились к воде, во рту все высохло и нестерпимо хотелось пить. Пили очень жадно и много, здесь же, по берегу, было очень много убитых бойцов.    \\nИдти было очень тяжело и далеко. Пока мы добрались до переправы, мы пережили страшную бомбежку и минометный обстрел. Шли всю ночь, ежеминутно падали навзничь, немцы без перерыва били и вешали светильники, становилось так светло, что, казалось, пролети муха — и ее заметят. Мы падали и, как только гасли светильники, поднимались и шли снова и снова...    \\nЯ все время вела Лиду, она всю дорогу плакала и боялась. Уговаривала как могла, но ведь идти по берегу, по обрыву было очень трудно и опасно, один неосторожный шаг — и можно было сорваться вниз.    \\nКогда мы пришли на 62-ю переправу, которая находилась на Красном Октябре, было уже почти утро. На берегу было много носилок с тяжелоранеными. Стояло три пароходика. На пароход нас не брали, т. к. они все были переполненные, но когда начальник посмотрел на маму с Лидой, на нас всех, сердце его, видимо, не вытерпело, он тихо сказал раненым: «Потеснимся, товарищи, и возьмем эту семью». Мы «сели» (если можно так сказать, места было только встать почти одной ногой) на пароходик и отчалили от берега. Сразу же появились немецкие самолеты, сколько их было? Не знаю, но много, сразу посыпалось множество бомб. Ужасная бомбежка, бомбы падали и впереди, и сбоку, и сзади, наш маленький пароходик качало так, что каждую секунду мы могли перевернуться, каким-то нечеловеческим чудом, благодаря такому опытному капитану, он совершал прямо подвиги, чудом мы добрались до берега, еще не успел причалить пароходик, как сразу же последовала команда: «Не скапливаться и бежать всем, кто может, в лес». Легко сказать «бежать», но как? Сил бежать не было, ноги совсем не слушались, идти было очень трудно, мы спешили, нас гнал в лес наступивший рассвет. Всем хотелось поскорее добраться до полосы спасения — леса, все спешили туда, все, кто мог идти, а идти могли немногие, большинство были тяжелоранеными, повсюду стояли носилки с ранеными, геройство проявляли санитары и персонал пароходика, кого несли, кому помогали идти, кто ковылял, еле передвигаясь, сам. А самолеты шли очень низко и стреляли по нас, хотя и видели, что идут раненые. Когда добрались до леса, а он был всего в нескольких метрах от берега, силы почти оставили нас, дальше идти сил совсем не было, ноги распухли...    \\nПотом сели в машину и поехали, а куда? Не все ли равно. И опять бомбежка, мы то садились в машину, то вдруг сходили с нее и бежали прятаться или просто падали плашмя, распластавшись на дороге. Потом варили чай в лесу, отдыхали, кажется, по-настоящему — лежа, ведь такой возможности сидя в окопе не имели. А утром снова сели на машину и поехали дальше от пылающего, сожженного родного города, от Папы...    \\nТак на попутных машинах мы добрались до Камышина. Осень началась в этом году рано, рано пошли холодные со снегом дожди, а надеть нам было нечего, все осталось в городе, дома, а его теперь не было, были одни развалины. Дом наш сгорел 21 сентября, все, что было в доме, все сгорело, теплые вещи были закопаны во дворе, а мы разуты, раздеты, и спрятаться нам негде. Переночевать нас никто не пускал, да и что мы могли дать за ночлег? Семья наша была большая, Мама и нас пятеро. Так мы дрожали и мокли под ледяным дождем, под открытым небом, голову и ту некуда было спрятать. Помню, нашли мы на окраине Камышина погребок для коз и залезли туда. О! Это было просто блаженство! Но «счастье» это длилось недолго, вышла хозяйка, раскричалась на нас и выгнала. И пошли мы с тяжелым камнем в сердце, не зная, куда же нам пойти, надвигалась ночь, было так холодно, лил дождь с мокрым снегом. Лида плакала. Шли по дороге до тех пор, пока не пришли к регулировке. Около регулировочной будки было немного народу, остановились и мы в надежде подъехать куда угодно на машине. Сидели долго, все до нитки промокли, а что было делать? Потом подошла машина, вышел из кабины какой-то начальник, подошел к нам и сказал: «Вы кто и куда едете?» Мы сказали, что ехать нам некуда и мы хотим поехать, а куда и сами еще не знаем. «А хотите, сказал он, пойти в Армию по вольному найму? Я возьму вас в полевой прачечный отряд, всех. Так как вижу, все вы работоспособные, обмундируем вас и кормить будем». Мы все обрадовались, а Мама колебалась, так как ей тяжело было отпустить нас всех и остаться с Лидой, ей 6 лет, но он сказал, что беру всех, а девочку зачислим воспитанницей. Что же нам лучшего желать?    \\nСлужба была нелегкая, мы долбили мерзлую землю, стирали в ледяной воде, натягивали палатки, пилили лес, ходили в наряд. Тяжело всем, главное, у нас была крыша над головой, жили в палатках, были обуты и кормили нас.    \\nБольше всех приходится в наряд ходить Виктору. И за меня, и за Марию, и за Тоню. Хороший он у нас парень, все в отряде его уважают, всем он делает только хорошее. Очень любит Лидочку, и она его, приходит спать после наряда, уставший, ему бы сразу отдыхать лечь, а он еще находит время для своей младшей сестрички, занимается с ней, делает ей лодочки из бумаги, играет с ней, какой он у нас желанный. Ведь он у нас сейчас единственный мужчина, Папа погиб, Саша где-то на фронте, а где он, мы не знаем, может, он тоже погиб? Если бы он знал, где мы и что с нами сделал немец?    \\nВитя один у нас остался, оберегает нас, жалеет и всю тяжесть нашей семьи берет на себя.    \\nЕдинственное наше счастье сейчас, что мы все вместе пока, и не у немцев. О! Как я их ненавижу и презираю, изверги проклятые, что вы с нами сделали? Если мне удастся, я отомщу им и за Папу, и за дом, что разрушили, и за город наш! А Саша, где он и что с ним, ведь он моряк Черноморского флота, а на Черном море немцы. Жив ли Саша? Знает ли он, что с нами сделал немец, какое у нас неутешное горе, если он жив, он, конечно, знает, что к нам в Сталинград тоже пришли немцы, но только вряд ли немцы возьмут наш город. «Захотели Сталинград — получите стали град» — так было написано в нашей «Сталинградской правде». Только я думаю, что мы ни за что не сдадим наш город немцам. Мы ведь тоже в армии, все равно не отдадим город. Слышишь, проклятый Гитлер, будь ты проклят, грызи хоть зубами нашу землю, но не возьмешь наш Сталинград! Страшно подумать, как немцы разрушили город, нет теперь у нас в городе ни одного целого дома. Только подумать, весь город разрушили изверги проклятые. Как бы то ни было, как бы ни рвались немцы в город, к Волге, все равно «Не видать вам красавицы Волги, и не пить вам из Волги воды»...    \\nПишу, все спят, еле мигает моя коптилочка, гори милая, мне так хочется писать, поделиться бы с кем, но как? Тоня спит, даже с ней не смогла поделиться тем, что так тревожит меня сегодня. Сегодняшний день я не забуду никогда и буду помнить его до конца своей жизни.    \\nВечером сегодня подошел ко мне Яша, лейтенант наш, и сказал мне, чтобы я к 9 часам явилась в штаб, меня вызывает какой-то начальник. (...)    \\nНо кто он, этот начальник? В военных различиях я не разбираюсь, на петлицах у него продолговатые квадратики. Сколько ему лет? Что-то не определю, взгляд серьезный, глаза такие живые и улыбающиеся, похожие на Папины.    \\nКак только я вошла, он меня назвал Аней и пригласил садиться. Я села. Он знает о нас все, знает, что Папу убили немцы, что Папа наш был честный рабочий, хороший человек. Что мы все имеем среднее образование, что есть маленькая сестричка Лидочка и мы все ее любим. Что Маме с нами очень тяжело сейчас и она правильно сделала, что пошла с нами в армию по вольному найму добровольно. И откуда он все это знает? Кто рассказал ему? Интересно. И почему он вызвал именно меня, а не Марусю, не Тоню, не Виктора, ну почему? Беседовал он со мной много, даже предлагал мне чаю с конфетами, я, конечно, отказалась. А потом он мне сказал, что я должна быть бдительной, наблюдательной и смекалистой, что все это мне очень пригодится в дальнейшей работе. Я ему ответила, что болтлива, откровенна, словоохотливая и слабоумная. Он очень долго и сильно смеялся, потом похлопал меня по плечу и сказал, что его это устраивает. Сказал, что жить нам теперь будет немножко лучше, что прикрепят меня к какому-то военторгу, а зачем? Что я такого сделала и кто я такая? Потом он мне еще многое говорил, о чем я даже сюда не могу написать. Потом я подписывалась. И чтобы об этом никто ничего не знал, даже Мама. А она меня ждала, не спала, спросила, где я была, ругала меня сильно. А Тоня меня ждала и спрашивала, в чем дело, и ей я ничего не могла сказать, не скажу никому, ни Виктору, ни Марии, хоть всех я их люблю. (...)'])\n",
      "(104326, ['##Действующая армия    \\nВ лесу, где мы живем, хорошо. Ребята построили для меня с Марией Сергеевной маленькую землянку, где мы неплохо устроились. Но порядки в медсанбате все более суровеют — никуда нельзя отлучиться (как раньше, например, сбегать в лес), никаких подмен дежурств, ежедневно по два часа строевой подготовки (для парадов нас, что ли, готовят или для строевой службы?), собрание следует за собранием. Может, это надо перед будущими боями, чтоб мы не расслабились в короткие дни затишья?..    \\nНо у меня есть утешение и в этой «муштровой» (не совсем обычной) обстановке. Приходят письма из Москвы. От любимого человека, с которым соединила свою судьбу. Я думаю о нем, пишу письма, мечтаю о скорой встрече. Уже начала хлопоты о подготовке документов к отъезду в Москву. На руках документы из МГУ, чтобы отчислили для продолжения учебы. Справка от врача тоже скоро будет получена...    \\nМама Дмитрия прислала мне недавно письмо, где малограмотной рукой выразила срифмованно свои чувства. Очень трогательно читать их. Хорошо, тепло становится на душе от ее искренности, от простоты чистой, большой души обыкновенной, наверно, совсем никогда в жизни не учившейся русской женщины. Вот это небольшое стихотворение.    \\n          \\n>*Премного* *я* *вам* *благодарна*     \\n>*За* *ваш* *теплый,* *сердечный* *привет.*    \\n>*Я* *пишу,* *и* *мне* *так* *приятно*     \\n>*Написать* *вам* *скорее* *ответ.*    \\n>*Мы* *не* *знаем* *друг* *друга* *в* *разлуке,*    \\n>*Будем* *с* *вами* *заочно* *друзья,*    \\n>*Ваши* *первые* *близкие* *звуки*     \\n>*Мне* *напомнили* *трель* *соловья*     \\n>*И* *в* *душе* *пробудили* *желанье*     \\n>*Видеть* *милых,* *любимых* *детей.*    \\n>*Жду* *с* *волненьем* *минуты* *свиданья,*     \\n>*Счастливых* *и* *радостных* *дней.*    \\n>*Тогда* *радостью* *сердце* *забьется*     \\n>*И* *невольно* *прольется* *слеза,*    \\n>*Когда* *милый* *сынок* *мой* *вернется*     \\n>*И* *его* *молодая* *жена.*    \\n>*Ваша* *вторая* *мама<com id=\"145914265541\"/>.*    \\n'])\n"
     ]
    }
   ],
   "source": [
    "#пробуем искать паттерны с помощью регулярок\n",
    "dictoinary = []\n",
    "for item in female3_dict.items():\n",
    "    #if re.search(r\"настоящ.{2,9}\\sлюб.{2,5}\", str(item[1])):\n",
    "    #if re.search(r\"(разо(йтись|шлись|шлась|шелся|йдемся)|расста(ться|немся|нусь|лись|ешься)|расставани.{1,2})\", str(item[1])):\n",
    "    #if re.search(r\"(не\\sмогу|не\\sспособен|не\\sспособен)\\s[а-я]+?любить\", str(item[1])):\n",
    "    #if re.search(r\"(в?люб(ить|лю|ил|ила|иться)(сь)?\\sпо-настоящему)|(по-настоящему\\sв?люб(ить|лю|ил|ила|иться)(сь)?)\", str(item[1])):\n",
    "    #if re.search(r\"трепет(но|ный|ного|ать|ал)?.{1,2}\", str(item)):\n",
    "    #if re.search(r\"(за)?(при)?ревн(овать|овал|ревную|овала|ревновав)\", str(item)):\n",
    "    #if re.search(r\"(лунн.{1,4}(свет|ноч).{0,4}|(свет|ноч).{0,5}лунн.{1,4})\", str(item)):\n",
    "    if re.search(r\"(сердц.{1,10}б(ит|ил|ьё?е?).{0,5}|би(ит|ил|ьё?е?).{1,10}сердц.{0,5})\", str(item)):\n",
    "    #if re.search(r\"дребедень\", str(item)):\n",
    "        #dictoinary.append(item)\n",
    "#len(dictoinary)\n",
    "        print(item)"
   ]
  },
  {
   "cell_type": "code",
   "execution_count": 153,
   "id": "received-strand",
   "metadata": {},
   "outputs": [],
   "source": [
    "#period5_dict"
   ]
  },
  {
   "cell_type": "code",
   "execution_count": null,
   "id": "ranging-westminster",
   "metadata": {},
   "outputs": [],
   "source": []
  }
 ],
 "metadata": {
  "kernelspec": {
   "display_name": "Python 3 (ipykernel)",
   "language": "python",
   "name": "python3"
  },
  "language_info": {
   "codemirror_mode": {
    "name": "ipython",
    "version": 3
   },
   "file_extension": ".py",
   "mimetype": "text/x-python",
   "name": "python",
   "nbconvert_exporter": "python",
   "pygments_lexer": "ipython3",
   "version": "3.9.1"
  }
 },
 "nbformat": 4,
 "nbformat_minor": 5
}
